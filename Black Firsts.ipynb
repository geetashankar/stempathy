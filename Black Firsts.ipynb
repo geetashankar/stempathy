{
 "cells": [
  {
   "cell_type": "code",
   "execution_count": 27,
   "metadata": {},
   "outputs": [],
   "source": [
    "import seaborn as sns\n",
    "import csv\n",
    "import numpy as np\n",
    "import pandas as pd\n",
    "import matplotlib.pyplot as plt\n",
    "%matplotlib inline\n",
    "import zipfile\n",
    "from IPython.display import display, Latex, Markdown\n",
    "import plotly.express as px\n",
    "import plotly.graph_objs as go\n",
    "plt.rcParams['font.sans-serif'] = \"Comic Sans MS\"\n"
   ]
  },
  {
   "cell_type": "markdown",
   "metadata": {},
   "source": [
    "# Celebrate Black Firsts\n",
    "Our lack of awareness about racial inequaulity is often rooted in the little recognition that various racial minorities receive for their contributions to our society. Let's take a deep dive into the \"firsts\" in American society that were contributed by African-Americans and celebrate the innovative aspect of Black history!\n",
    "\n",
    "I am uploading a dataset called firsts, from Kaggle as part of their efforts to support the Black Lives Matter movement. The data columns include the year, accomplishment, person, gender, and category of accomplishment. In this Jupyter notebook, we will use a statistical approach to learn more about firsts contributed to our society by African Americans. "
   ]
  },
  {
   "cell_type": "code",
   "execution_count": 28,
   "metadata": {},
   "outputs": [],
   "source": [
    "firsts = pd.read_csv(\"firsts.csv\") "
   ]
  },
  {
   "cell_type": "markdown",
   "metadata": {},
   "source": [
    "#### This dataset has 479 rows and 5 columns."
   ]
  },
  {
   "cell_type": "code",
   "execution_count": 29,
   "metadata": {},
   "outputs": [
    {
     "data": {
      "text/plain": [
       "(479, 5)"
      ]
     },
     "execution_count": 29,
     "metadata": {},
     "output_type": "execute_result"
    }
   ],
   "source": [
    "firsts.shape"
   ]
  },
  {
   "cell_type": "markdown",
   "metadata": {},
   "source": [
    "#### Let's look at a few rows to see how the data is collected."
   ]
  },
  {
   "cell_type": "code",
   "execution_count": 30,
   "metadata": {},
   "outputs": [
    {
     "data": {
      "text/html": [
       "<div>\n",
       "<style scoped>\n",
       "    .dataframe tbody tr th:only-of-type {\n",
       "        vertical-align: middle;\n",
       "    }\n",
       "\n",
       "    .dataframe tbody tr th {\n",
       "        vertical-align: top;\n",
       "    }\n",
       "\n",
       "    .dataframe thead th {\n",
       "        text-align: right;\n",
       "    }\n",
       "</style>\n",
       "<table border=\"1\" class=\"dataframe\">\n",
       "  <thead>\n",
       "    <tr style=\"text-align: right;\">\n",
       "      <th></th>\n",
       "      <th>year</th>\n",
       "      <th>accomplishment</th>\n",
       "      <th>person</th>\n",
       "      <th>gender</th>\n",
       "      <th>category</th>\n",
       "    </tr>\n",
       "  </thead>\n",
       "  <tbody>\n",
       "    <tr>\n",
       "      <th>0</th>\n",
       "      <td>1738</td>\n",
       "      <td>First free African-American community</td>\n",
       "      <td>Gracia Real de Santa Teresa de Mose (later nam...</td>\n",
       "      <td>African-American Firsts</td>\n",
       "      <td>Social &amp; Jobs</td>\n",
       "    </tr>\n",
       "    <tr>\n",
       "      <th>1</th>\n",
       "      <td>1760</td>\n",
       "      <td>First known African-American published author</td>\n",
       "      <td>Jupiter Hammon (poem An Evening Thought</td>\n",
       "      <td>Female African American Firsts</td>\n",
       "      <td>Arts &amp; Entertainment</td>\n",
       "    </tr>\n",
       "    <tr>\n",
       "      <th>2</th>\n",
       "      <td>1768</td>\n",
       "      <td>First known African-American to be elected to ...</td>\n",
       "      <td>Wentworth Cheswell, town constable in Newmarke...</td>\n",
       "      <td>African-American Firsts</td>\n",
       "      <td>Social &amp; Jobs</td>\n",
       "    </tr>\n",
       "    <tr>\n",
       "      <th>3</th>\n",
       "      <td>1773</td>\n",
       "      <td>First known African-American woman to publish ...</td>\n",
       "      <td>Phillis Wheatley (Poems on Various Subjects, R...</td>\n",
       "      <td>Female African American Firsts</td>\n",
       "      <td>Arts &amp; Entertainment</td>\n",
       "    </tr>\n",
       "    <tr>\n",
       "      <th>4</th>\n",
       "      <td>1773</td>\n",
       "      <td>First separate African-American church</td>\n",
       "      <td>Silver Bluff Baptist Church, Aiken County, Sou...</td>\n",
       "      <td>African-American Firsts</td>\n",
       "      <td>Religion</td>\n",
       "    </tr>\n",
       "    <tr>\n",
       "      <th>5</th>\n",
       "      <td>1775</td>\n",
       "      <td>First African-American to join the Freemasons</td>\n",
       "      <td>Prince Hall</td>\n",
       "      <td>African-American Firsts</td>\n",
       "      <td>Social &amp; Jobs</td>\n",
       "    </tr>\n",
       "    <tr>\n",
       "      <th>6</th>\n",
       "      <td>1778</td>\n",
       "      <td>First African-American U.S. military regiment</td>\n",
       "      <td>the 1st Rhode Island Regiment[9]</td>\n",
       "      <td>African-American Firsts</td>\n",
       "      <td>Military</td>\n",
       "    </tr>\n",
       "    <tr>\n",
       "      <th>7</th>\n",
       "      <td>1783</td>\n",
       "      <td>First African-American to formally practice me...</td>\n",
       "      <td>James Derham, who did not hold an M.D. degree....</td>\n",
       "      <td>African-American Firsts</td>\n",
       "      <td>Education &amp; Science</td>\n",
       "    </tr>\n",
       "    <tr>\n",
       "      <th>8</th>\n",
       "      <td>1785</td>\n",
       "      <td>First African-American ordained as a Christian...</td>\n",
       "      <td>Rev. Lemuel Haynes. He was ordained in the Con...</td>\n",
       "      <td>African-American Firsts</td>\n",
       "      <td>Religion</td>\n",
       "    </tr>\n",
       "    <tr>\n",
       "      <th>9</th>\n",
       "      <td>1792</td>\n",
       "      <td>First major African-American Back-to-Africa mo...</td>\n",
       "      <td>3,000 Black Loyalist slaves,  who had escaped ...</td>\n",
       "      <td>African-American Firsts</td>\n",
       "      <td>Social &amp; Jobs</td>\n",
       "    </tr>\n",
       "  </tbody>\n",
       "</table>\n",
       "</div>"
      ],
      "text/plain": [
       "   year                                     accomplishment  \\\n",
       "0  1738              First free African-American community   \n",
       "1  1760      First known African-American published author   \n",
       "2  1768  First known African-American to be elected to ...   \n",
       "3  1773  First known African-American woman to publish ...   \n",
       "4  1773             First separate African-American church   \n",
       "5  1775      First African-American to join the Freemasons   \n",
       "6  1778      First African-American U.S. military regiment   \n",
       "7  1783  First African-American to formally practice me...   \n",
       "8  1785  First African-American ordained as a Christian...   \n",
       "9  1792  First major African-American Back-to-Africa mo...   \n",
       "\n",
       "                                              person  \\\n",
       "0  Gracia Real de Santa Teresa de Mose (later nam...   \n",
       "1            Jupiter Hammon (poem An Evening Thought   \n",
       "2  Wentworth Cheswell, town constable in Newmarke...   \n",
       "3  Phillis Wheatley (Poems on Various Subjects, R...   \n",
       "4  Silver Bluff Baptist Church, Aiken County, Sou...   \n",
       "5                                        Prince Hall   \n",
       "6                   the 1st Rhode Island Regiment[9]   \n",
       "7  James Derham, who did not hold an M.D. degree....   \n",
       "8  Rev. Lemuel Haynes. He was ordained in the Con...   \n",
       "9  3,000 Black Loyalist slaves,  who had escaped ...   \n",
       "\n",
       "                           gender              category  \n",
       "0         African-American Firsts         Social & Jobs  \n",
       "1  Female African American Firsts  Arts & Entertainment  \n",
       "2         African-American Firsts         Social & Jobs  \n",
       "3  Female African American Firsts  Arts & Entertainment  \n",
       "4         African-American Firsts              Religion  \n",
       "5         African-American Firsts         Social & Jobs  \n",
       "6         African-American Firsts              Military  \n",
       "7         African-American Firsts   Education & Science  \n",
       "8         African-American Firsts              Religion  \n",
       "9         African-American Firsts         Social & Jobs  "
      ]
     },
     "execution_count": 30,
     "metadata": {},
     "output_type": "execute_result"
    }
   ],
   "source": [
    "firsts.head(10)"
   ]
  },
  {
   "cell_type": "markdown",
   "metadata": {},
   "source": [
    "## Question 1: How have the number of firsts contributed by African Americans changed over time according to this dataset?"
   ]
  },
  {
   "cell_type": "code",
   "execution_count": 31,
   "metadata": {},
   "outputs": [
    {
     "data": {
      "text/plain": [
       "Text(0.5, 1.0, 'African American Firsts (Achievements) Per Year')"
      ]
     },
     "execution_count": 31,
     "metadata": {},
     "output_type": "execute_result"
    },
    {
     "data": {
      "image/png": "[encoded data removed]",
      "text/plain": [
       "<Figure size 432x288 with 1 Axes>"
      ]
     },
     "metadata": {
      "needs_background": "light"
     },
     "output_type": "display_data"
    }
   ],
   "source": [
    "per_year = firsts.groupby('year').count().reset_index()\n",
    "sns.distplot(per_year['year'],bins=30)\n",
    "plt.xlim(1738,2019)\n",
    "plt.title(\"African American Firsts (Achievements) Per Year\",fontsize=25)"
   ]
  },
  {
   "cell_type": "markdown",
   "metadata": {},
   "source": [
    "The code above does the following things: counts the number of achievements per year and plots a histogram of the number of achievements per year. This data set covers the achievements from 1738 to 2019. As we can see there is a steady increase in African-American achievements until somewhere near 1970. This is an interesting feature to point out because this time period was important for the Civil Rights Movement. "
   ]
  },
  {
   "cell_type": "markdown",
   "metadata": {},
   "source": [
    "## Question 2: Is there a relationship between the gender and the category of achievement in African-American firsts?"
   ]
  },
  {
   "cell_type": "code",
   "execution_count": 85,
   "metadata": {},
   "outputs": [
    {
     "data": {
      "text/plain": [
       "Text(0.5, 1.0, 'African American Firsts Per Category By Gender')"
      ]
     },
     "execution_count": 85,
     "metadata": {},
     "output_type": "execute_result"
    },
    {
     "data": {
      "image/png": "[encoded data removed]",
      "text/plain": [
       "<Figure size 1045.12x595.44 with 1 Axes>"
      ]
     },
     "metadata": {},
     "output_type": "display_data"
    }
   ],
   "source": [
    "by_gender_category = firsts.groupby([\"category\",\"gender\"]).count().reset_index()\n",
    "plt.rcParams['font.sans-serif'] = \"Comic Sans MS\"\n",
    "sns.catplot(x='category',y='accomplishment',hue='gender',kind='bar',data=by_gender_category, height=8.27, aspect=11.7/8.27)\n",
    "plt.title(\"African American Firsts Per Category By Gender\",fontsize=25)"
   ]
  },
  {
   "cell_type": "code",
   "execution_count": 88,
   "metadata": {},
   "outputs": [
    {
     "data": {
      "text/plain": [
       "Text(0.5, 1.0, 'African American Firsts Per Category (All)')"
      ]
     },
     "execution_count": 88,
     "metadata": {},
     "output_type": "execute_result"
    },
    {
     "data": {
      "image/png": "[encoded data removed]",
      "text/plain": [
       "<Figure size 842.4x595.44 with 1 Axes>"
      ]
     },
     "metadata": {},
     "output_type": "display_data"
    }
   ],
   "source": [
    "by_category = firsts.groupby(\"category\").count().reset_index()\n",
    "plt.rcParams['font.sans-serif'] = \"Comic Sans MS\"\n",
    "sns.catplot(x='category',y='accomplishment',kind='bar',data=by_category, height=8.27, aspect=11.7/8.27)\n",
    "plt.title(\"African American Firsts Per Category (All)\",fontsize=25)"
   ]
  },
  {
   "cell_type": "markdown",
   "metadata": {},
   "source": [
    "Both of these plots show that most of the African American firsts were in the Arts & Entertainment category, followed by Education & Science and Politics. The least number of African American firsts was in the law category. The first bar chart which shows the number of achievements by category *and gender* shows that female African Americans produced much less than half of all accomplishments in every category. Most female African American firsts are in Arts & Entertainment and Politics."
   ]
  },
  {
   "cell_type": "markdown",
   "metadata": {},
   "source": [
    "## Visualize Accomplishments by Year and Category\n",
    "First, we will decode the categories into numerical values so that we can spread them visually on the y-axis. Now we will use Plotly, a type of Python visualization tool that allows us to find out more information about data points when you hover over them. You can zoom in and read different African American firsts as you hover over them!"
   ]
  },
  {
   "cell_type": "code",
   "execution_count": 120,
   "metadata": {},
   "outputs": [
    {
     "data": {
      "text/html": [
       "<div>\n",
       "<style scoped>\n",
       "    .dataframe tbody tr th:only-of-type {\n",
       "        vertical-align: middle;\n",
       "    }\n",
       "\n",
       "    .dataframe tbody tr th {\n",
       "        vertical-align: top;\n",
       "    }\n",
       "\n",
       "    .dataframe thead th {\n",
       "        text-align: right;\n",
       "    }\n",
       "</style>\n",
       "<table border=\"1\" class=\"dataframe\">\n",
       "  <thead>\n",
       "    <tr style=\"text-align: right;\">\n",
       "      <th></th>\n",
       "      <th>year</th>\n",
       "      <th>accomplishment</th>\n",
       "      <th>person</th>\n",
       "      <th>gender</th>\n",
       "      <th>category</th>\n",
       "      <th>category_cat</th>\n",
       "      <th>category_num</th>\n",
       "    </tr>\n",
       "  </thead>\n",
       "  <tbody>\n",
       "    <tr>\n",
       "      <th>0</th>\n",
       "      <td>1738</td>\n",
       "      <td>First free African-American community</td>\n",
       "      <td>Gracia Real de Santa Teresa de Mose (later nam...</td>\n",
       "      <td>African-American Firsts</td>\n",
       "      <td>Social &amp; Jobs</td>\n",
       "      <td>6</td>\n",
       "      <td>6</td>\n",
       "    </tr>\n",
       "    <tr>\n",
       "      <th>1</th>\n",
       "      <td>1760</td>\n",
       "      <td>First known African-American published author</td>\n",
       "      <td>Jupiter Hammon (poem An Evening Thought</td>\n",
       "      <td>Female African American Firsts</td>\n",
       "      <td>Arts &amp; Entertainment</td>\n",
       "      <td>0</td>\n",
       "      <td>0</td>\n",
       "    </tr>\n",
       "    <tr>\n",
       "      <th>2</th>\n",
       "      <td>1768</td>\n",
       "      <td>First known African-American to be elected to ...</td>\n",
       "      <td>Wentworth Cheswell, town constable in Newmarke...</td>\n",
       "      <td>African-American Firsts</td>\n",
       "      <td>Social &amp; Jobs</td>\n",
       "      <td>6</td>\n",
       "      <td>6</td>\n",
       "    </tr>\n",
       "    <tr>\n",
       "      <th>3</th>\n",
       "      <td>1773</td>\n",
       "      <td>First known African-American woman to publish ...</td>\n",
       "      <td>Phillis Wheatley (Poems on Various Subjects, R...</td>\n",
       "      <td>Female African American Firsts</td>\n",
       "      <td>Arts &amp; Entertainment</td>\n",
       "      <td>0</td>\n",
       "      <td>0</td>\n",
       "    </tr>\n",
       "    <tr>\n",
       "      <th>4</th>\n",
       "      <td>1773</td>\n",
       "      <td>First separate African-American church</td>\n",
       "      <td>Silver Bluff Baptist Church, Aiken County, Sou...</td>\n",
       "      <td>African-American Firsts</td>\n",
       "      <td>Religion</td>\n",
       "      <td>5</td>\n",
       "      <td>5</td>\n",
       "    </tr>\n",
       "  </tbody>\n",
       "</table>\n",
       "</div>"
      ],
      "text/plain": [
       "   year                                     accomplishment  \\\n",
       "0  1738              First free African-American community   \n",
       "1  1760      First known African-American published author   \n",
       "2  1768  First known African-American to be elected to ...   \n",
       "3  1773  First known African-American woman to publish ...   \n",
       "4  1773             First separate African-American church   \n",
       "\n",
       "                                              person  \\\n",
       "0  Gracia Real de Santa Teresa de Mose (later nam...   \n",
       "1            Jupiter Hammon (poem An Evening Thought   \n",
       "2  Wentworth Cheswell, town constable in Newmarke...   \n",
       "3  Phillis Wheatley (Poems on Various Subjects, R...   \n",
       "4  Silver Bluff Baptist Church, Aiken County, Sou...   \n",
       "\n",
       "                           gender              category  category_cat  \\\n",
       "0         African-American Firsts         Social & Jobs             6   \n",
       "1  Female African American Firsts  Arts & Entertainment             0   \n",
       "2         African-American Firsts         Social & Jobs             6   \n",
       "3  Female African American Firsts  Arts & Entertainment             0   \n",
       "4         African-American Firsts              Religion             5   \n",
       "\n",
       "   category_num  \n",
       "0             6  \n",
       "1             0  \n",
       "2             6  \n",
       "3             0  \n",
       "4             5  "
      ]
     },
     "execution_count": 120,
     "metadata": {},
     "output_type": "execute_result"
    }
   ],
   "source": [
    "firsts[\"category\"] = firsts[\"category\"].astype('category')\n",
    "firsts[\"category_num\"] = firsts[\"category\"].cat.codes\n",
    "firsts[\"category\"] = firsts[\"category\"].astype('object')\n",
    "firsts.head(5)"
   ]
  },
  {
   "cell_type": "code",
   "execution_count": 124,
   "metadata": {},
   "outputs": [
    {
     "data": {
      "application/vnd.plotly.v1+json": {
       "config": {
        "plotlyServerURL": "https://plot.ly"
       },
       "data": [
        {
         "customdata": [
          [
           "First free African-American community",
           "Social & Jobs"
          ],
          [
           "First known African-American published author",
           "Arts & Entertainment"
          ],
          [
           "First known African-American to be elected to public office",
           "Social & Jobs"
          ],
          [
           "First known African-American woman to publish a book",
           "Arts & Entertainment"
          ],
          [
           "First separate African-American church",
           "Religion"
          ],
          [
           "First African-American to join the Freemasons",
           "Social & Jobs"
          ],
          [
           "First African-American U.S. military regiment",
           "Military"
          ],
          [
           "First African-American to formally practice medicine",
           "Education & Science"
          ],
          [
           "First African-American ordained as a Christian minister in the United States",
           "Religion"
          ],
          [
           "First major African-American Back-to-Africa movement",
           "Social & Jobs"
          ],
          [
           "First African Methodist Episcopal (AME) Church founded",
           "Religion"
          ],
          [
           "First African Episcopal Church established",
           "Religion"
          ],
          [
           "First African-American ordained as an Episcopal priest",
           "Religion"
          ],
          [
           "First African-American Presbyterian Church in America",
           "Religion"
          ],
          [
           "First fully independent African-American denomination",
           "Religion"
          ],
          [
           "First African-American to hold a patent",
           "Education & Science"
          ],
          [
           "First African-American captain to sail a whaleship with an all-black crew",
           "Military"
          ],
          [
           "First African-American to receive a degree from an American college",
           "Education & Science"
          ],
          [
           "First African-American owned-and-operated newspaper",
           "Arts & Entertainment"
          ],
          [
           "First African-American elected to serve in a state legislature",
           "Military"
          ],
          [
           "First formally trained African-American medical doctor",
           "Education & Science"
          ],
          [
           "First African-American licensed to practice law",
           "Law"
          ],
          [
           "First African-American to graduate from a US medical school",
           "Education & Science"
          ],
          [
           "First African-American president of any nation",
           "Politics"
          ],
          [
           "First African-American college professor at a predominantly white institution",
           "Education & Science"
          ],
          [
           "First African-American member of the Society of Jesus (Jesuits)",
           "Religion"
          ],
          [
           "First novel published by an African-American",
           "Arts & Entertainment"
          ],
          [
           "First African-American Roman Catholic priest",
           "Religion"
          ],
          [
           "First institute of higher learning created to educate African-Americans",
           "Education & Science"
          ],
          [
           "First published play by an African-American",
           "Arts & Entertainment"
          ],
          [
           "First African-American woman college instructor",
           "Education & Science"
          ],
          [
           "First North American military unit with African-American officers",
           "Military"
          ],
          [
           "First African-American US federal government civil servant",
           "Politics"
          ],
          [
           "First African-American woman to earn a B.A.",
           "Education & Science"
          ],
          [
           "First recognized U.S. Army African-American combat unit",
           "Military"
          ],
          [
           "First college owned and operated by African-Americans",
           "Arts & Entertainment"
          ],
          [
           "First African-American president of a college",
           "Education & Science"
          ],
          [
           "First African-American woman in the United States to earn an M.D.",
           "Education & Science"
          ],
          [
           "First African-American field officer in the U.S. Army",
           "Military"
          ],
          [
           "First African-American attorney admitted to the bar of the U.S. Supreme Court",
           "Law"
          ],
          [
           "First African-American to be commissioned as captain in the Regular U.S. Army",
           "Military"
          ],
          [
           "First African-American to earn a Ph.D.",
           "Education & Science"
          ],
          [
           "First African-American woman enlistee in the U.S. Army",
           "Military"
          ],
          [
           "First African-American woman to serve as a professor",
           "Military"
          ],
          [
           "First elected African-American Lieutenant Governor",
           "Politics"
          ],
          [
           "First African-American mayor",
           "Politics"
          ],
          [
           "First African-American elected to the U.S. House of Representatives",
           "Politics"
          ],
          [
           "First African-American U.S. diplomat",
           "Politics"
          ],
          [
           "First African-American woman school principal",
           "Education & Science"
          ],
          [
           "First African-American to vote in an election under the 15th Amendment to the United States Constitution, granting voting rights regardless of race",
           "Social & Jobs"
          ],
          [
           "First African-American to graduate from Harvard College",
           "Education & Science"
          ],
          [
           "First African-American elected to the U.S. Senate, and first to serve in the U.S. Congress",
           "Military"
          ],
          [
           "First African-American to serve in the U.S. House of Representatives",
           "Military"
          ],
          [
           "First African-American midshipman admitted to the United States Naval Academy",
           "Military"
          ],
          [
           "First African-American governor (non-elected)",
           "Politics"
          ],
          [
           "First African-American nominee for Vice President of the United States",
           "Politics"
          ],
          [
           "First African-American president of a major college/university",
           "Education & Science"
          ],
          [
           "First African-American to preside over the House of Representatives as Speaker pro tempore",
           "Politics"
          ],
          [
           "First African-American Roman Catholic bishop",
           "Religion"
          ],
          [
           "First African-American to earn a doctorate degree from an American university",
           "Education & Science"
          ],
          [
           "First African-American graduate of West Point and first African-American commissioned officer in the U.S. military",
           "Military"
          ],
          [
           "First African-American police officer in Boston, Massachusetts",
           "Military"
          ],
          [
           "First African-American baseball player in organized professional baseball",
           "Education & Science"
          ],
          [
           "First African-American to graduate from a formal nursing school",
           "Arts & Entertainment"
          ],
          [
           "First African-American to command a U.S. ship",
           "Military"
          ],
          [
           "First African-American whose signature appeared on U.S. paper currency",
           "Social & Jobs"
          ],
          [
           "First fully state-supported four-year institution of higher learning for African-Americans",
           "Education & Science"
          ],
          [
           "First known African-American woman to graduate from one of the Seven Sisters colleges",
           "Social & Jobs"
          ],
          [
           "First African-American to play professional baseball at the major-league level",
           "Education & Science"
          ],
          [
           "First African-American woman to hold a patent",
           "Education & Science"
          ],
          [
           "First African-American to enlist in the U.S. Signal Corps",
           "Military"
          ],
          [
           "First African-American to chair a political party's National Convention",
           "Politics"
          ],
          [
           "First African-American to deliver a keynote address at a political party's National Convention",
           "Politics"
          ],
          [
           "First African-American Roman Catholic priest publicly known at the time to be African-American",
           "Social & Jobs"
          ],
          [
           "First African-American woman to earn a dental degree in the United States",
           "Education & Science"
          ],
          [
           "First African-American to record a best-selling phonograph record",
           "Education & Science"
          ],
          [
           "First woman and African-American to earn a military pension for their own military service",
           "Military"
          ],
          [
           "First African-American police officer in present-day New York City",
           "Military"
          ],
          [
           "First African-American to sing at Carnegie Hall",
           "Arts & Entertainment"
          ],
          [
           "First African-American named to a College Football All-America Team",
           "Education & Science"
          ],
          [
           "First African-American woman to work for the United States Postal Service",
           "Politics"
          ],
          [
           "First African-American to earn a doctorate degree (Ph.D.) from Harvard University",
           "Education & Science"
          ],
          [
           "First African-American appointed to serve as U.S. Army Paymaster",
           "Military"
          ],
          [
           "First African-American to achieve world championship in any sport",
           "Sports"
          ],
          [
           "First African-American invited to dine at the White House",
           "Social & Jobs"
          ],
          [
           "First African-American professional basketball player",
           "Education & Science"
          ],
          [
           "First African-American boxing champion, Joe Gans a lightweight",
           "Sports"
          ],
          [
           "First Broadway musical written by African-Americans, and the first to star African Americans",
           "Arts & Entertainment"
          ],
          [
           "First African-American woman to found and become president of a bank",
           "Politics"
          ],
          [
           "First Greek-letter fraternal organization established by African-Americans",
           "Social & Jobs"
          ],
          [
           "First African-American to participate in the Olympic Games, and first to win a medal",
           "Education & Science"
          ],
          [
           "First intercollegiate Greek-letter organization established by African-Americans",
           "Social & Jobs"
          ],
          [
           "First African-American Greek Orthodox priest and missionary in America",
           "Social & Jobs"
          ],
          [
           "First African-American heavyweight boxing champion",
           "Sports"
          ],
          [
           "First African-American Olympic gold medal winner",
           "Education & Science"
          ],
          [
           "First intercollegiate Greek-letter sorority established by African-Americans",
           "Social & Jobs"
          ],
          [
           "First African-American woman millionaire",
           "Social & Jobs"
          ],
          [
           "First intercollegiate Greek-letter fraternity established by African-Americans at a historically black college",
           "Social & Jobs"
          ],
          [
           "First African-American police officer in New York City",
           "Military"
          ],
          [
           "First African-American attorney admitted to the American Bar Association",
           "Law"
          ],
          [
           "First African-American military pilot",
           "Military"
          ],
          [
           "First African-American alderman of Chicago",
           "Politics"
          ],
          [
           "First African-American to play in a Rose Bowl game",
           "Sports"
          ],
          [
           "First African-American to become a colonel in the U.S. Army",
           "Military"
          ],
          [
           "First African-American woman to win a major sports title",
           "Sports"
          ],
          [
           "First African-American to enter the University of Oregon",
           "Education & Science"
          ],
          [
           "First African-American special agent for the FBI",
           "Law"
          ],
          [
           "First African-American women appointed as police officers",
           "Military"
          ],
          [
           "First African-American NFL football players",
           "Sports"
          ],
          [
           "First African-American bishops of the Methodist Episcopal Church",
           "Religion"
          ],
          [
           "First African-American woman to become an aviation pilot, first American to hold an international pilot license",
           "Social & Jobs"
          ],
          [
           "First African-American NFL football coach",
           "Sports"
          ],
          [
           "First African-American woman to earn a Ph.D. in the U.S.",
           "Education & Science"
          ],
          [
           "First African-American to win individual Olympic gold medal",
           "Education & Science"
          ],
          [
           "First African-American Foreign Service Officer",
           "Military"
          ],
          [
           "First African-American to become an officer in the New York Fire Department in New York City",
           "Military"
          ],
          [
           "First African-American to star in an international motion picture",
           "Arts & Entertainment"
          ],
          [
           "First post-Reconstruction African-American elected to U.S. House of Representatives",
           "Politics"
          ],
          [
           "First African-American woman to serve in a state legislature",
           "Military"
          ],
          [
           "First African-American sportscaster",
           "Sports"
          ],
          [
           "First African-American composer to have their symphony performed by a leading orchestra",
           "Arts & Entertainment"
          ],
          [
           "First African-American woman to graduate from Yale Law School",
           "Law"
          ],
          [
           "First African-American on a presidential ticket in the 20th century",
           "Politics"
          ],
          [
           "First African-American elected to the U.S. House of Representatives as a Democrat",
           "Politics"
          ],
          [
           "First trade union set up for African-American domestic workers by Dora Lee Jones[relevant?  – discuss]",
           "Politics"
          ],
          [
           "First known interracial jazz group",
           "Social & Jobs"
          ],
          [
           "First African-American to conduct a major U.S. orchestra",
           "Arts & Entertainment"
          ],
          [
           "First African-American women selected for the Olympic Games",
           "Politics"
          ],
          [
           "First African-American federal magistrate",
           "Politics"
          ],
          [
           "First African-American woman federal agency head",
           "Politics"
          ],
          [
           "First African-American woman elected to a state legislature",
           "Politics"
          ],
          [
           "First African-American to star in her own television program",
           "Arts & Entertainment"
          ],
          [
           "First African-American to win an Oscar",
           "Arts & Entertainment"
          ],
          [
           "First African-American to be portrayed on a U.S. postage stamp",
           "Social & Jobs"
          ],
          [
           "First African-American flag officer",
           "Military"
          ],
          [
           "First African-American to give a White House Command Performance",
           "Military"
          ],
          [
           "First African-American to be awarded the Navy Cross",
           "Military"
          ],
          [
           "First African-American member of the U.S. Marine Corps",
           "Military"
          ],
          [
           "Martin A. Martin, first African-American to become a member of the Trial Bureau of the United States Department of Justice, was sworn in on May 31, 1943.[119]",
           "Politics"
          ],
          [
           "First African-American artists to have a #1 hit on the Billboard charts",
           "Arts & Entertainment"
          ],
          [
           "First African-American commissioned officers in the U.S. Navy",
           "Military"
          ],
          [
           "First African-American commissioned as a U.S. Navy officer from the Naval Reserve Officer Training Corps",
           "Military"
          ],
          [
           "First African-American to co-pastor with a white minister at the first interracial church",
           "Religion"
          ],
          [
           "First African-American to receive a contract with a major American opera company",
           "Arts & Entertainment"
          ],
          [
           "First known African-American comic book artist",
           "Arts & Entertainment"
          ],
          [
           "First African-American reporter to attend a U.S. presidential news conference",
           "Social & Jobs"
          ],
          [
           "First African-American member of the New York City Opera",
           "Arts & Entertainment"
          ],
          [
           "First African-American U.S. Marine Corps officer",
           "Military"
          ],
          [
           "First African-American Major League Baseball player of the modern era",
           "Education & Science"
          ],
          [
           "First African-American consensus college All-American basketball player",
           "Education & Science"
          ],
          [
           "First African-American artist to receive sole credit for a #1 hit on the Billboard charts",
           "Arts & Entertainment"
          ],
          [
           "First comic book produced entirely by African-Americans",
           "Arts & Entertainment"
          ],
          [
           "First African-American full-time faculty member at a predominantly white law school",
           "Law"
          ],
          [
           "First African-American female member of the U.S. House and Senate press galleries",
           "Social & Jobs"
          ],
          [
           "First African-American man to receive an Oscar",
           "Arts & Entertainment"
          ],
          [
           "First African-American U.S. Navy aviator",
           "Military"
          ],
          [
           "First African-American composer to have an opera performed by a major U.S. company",
           "Arts & Entertainment"
          ],
          [
           "First African-American woman to win an Olympic gold medal",
           "Education & Science"
          ],
          [
           "First African-American since Reconstruction to enroll at a traditionally white university of the South",
           "Education & Science"
          ],
          [
           "First known African-American star of a regularly scheduled network television series",
           "Arts & Entertainment"
          ],
          [
           "First African-American to star in network television sitcom",
           "Arts & Entertainment"
          ],
          [
           "First African-American male to graduate from Oregon State College",
           "Education & Science"
          ],
          [
           "First African-American female reporter to travel with a U.S. president (Harry S. Truman's election campaign)",
           "Social & Jobs"
          ],
          [
           "First African-American graduate of the U.S. Naval Academy",
           "Military"
          ],
          [
           "First African-American to hold rank of Ambassador of the United States",
           "Education & Science"
          ],
          [
           "First African-American to win an MVP award in Major League Baseball",
           "Education & Science"
          ],
          [
           "First African-American-owned and -operated radio station",
           "Arts & Entertainment"
          ],
          [
           "First African-American woman president of an NAACP chapter nationwide",
           "Politics"
          ],
          [
           "First African-American to win a Tony Award",
           "Arts & Entertainment"
          ],
          [
           "First African-American to win Pulitzer Prize",
           "Arts & Entertainment"
          ],
          [
           "First African-American to win Nobel Peace Prize",
           "Education & Science"
          ],
          [
           "First African-American to receive a lifetime appointment as federal judge",
           "Law"
          ],
          [
           "First African-American woman to compete on the world tennis tour",
           "Sports"
          ],
          [
           "First African-American solo singer to have a #1 hit on the Billboard charts",
           "Arts & Entertainment"
          ],
          [
           "First African-American delegate to the United Nations",
           "Politics"
          ],
          [
           "First African-American NBA basketball players",
           "Education & Science"
          ],
          [
           "First African-American named to the College Football Hall of Fame",
           "Education & Science"
          ],
          [
           "First African-American quarterback to become a regular starter for a professional football team",
           "Sports"
          ],
          [
           "First African-American driver in NASCAR",
           "Sports"
          ],
          [
           "First African-American woman elected to a U.S. state senate",
           "Politics"
          ],
          [
           "First African-American U.S. Marine Corps aviator",
           "Military"
          ],
          [
           "First African-American woman to be nominated for a national political office",
           "Politics"
          ],
          [
           "First African-American graduate from University of Arkansas for Medical Sciences",
           "Education & Science"
          ],
          [
           "First African-American basketball player to play in the NBA All-Star Game",
           "Education & Science"
          ],
          [
           "First African-American quarterback to play in the National Football League during the modern (post-World War II) era",
           "Education & Science"
          ],
          [
           "First African-American U.S. Navy Diver",
           "Military"
          ],
          [
           "First African-American woman to be nominated for the Academy Award for Best Actress",
           "Arts & Entertainment"
          ],
          [
           "First individual African-American woman as subject on the cover of Life magazine",
           "Arts & Entertainment"
          ],
          [
           "First African-American page for the U.S. Supreme Court, and first to be enrolled in the Capitol Page School",
           "Education & Science"
          ],
          [
           "First African-American member of the Metropolitan Opera",
           "Arts & Entertainment"
          ],
          [
           "First African-American male dancer in a major ballet company",
           "Arts & Entertainment"
          ],
          [
           "First African-American singer to appear in a telecast opera",
           "Arts & Entertainment"
          ],
          [
           "First African-American pilot of a scheduled US airline",
           "Social & Jobs"
          ],
          [
           "First African-American to serve as a presidential executive assistant",
           "Military"
          ],
          [
           "First African-American star of a nationwide network TV show",
           "Arts & Entertainment"
          ],
          [
           "First African-American U.S. Secret Service agent",
           "Law"
          ],
          [
           "First African-American to win the Cy Young Award as the top pitcher in Major League Baseball, in the award's inaugural year",
           "Education & Science"
          ],
          [
           "First African-American woman Wimbledon Tennis Champion",
           "Sports"
          ],
          [
           "First African-American assistant coach in the NFL",
           "Sports"
          ],
          [
           "First African-American to win the Best Actor Award at the Cannes Film Festival",
           "Education & Science"
          ],
          [
           "First African-American to win Major League Baseball's Gold Glove, in the award's inaugural year",
           "Education & Science"
          ],
          [
           "First African-American to reach number 1 on the Billboard Hot 100",
           "Arts & Entertainment"
          ],
          [
           "First African-American flight attendant",
           "Social & Jobs"
          ],
          [
           "First African-American Grammy Award winners, in the award's inaugural year",
           "Arts & Entertainment"
          ],
          [
           "First African-American television journalist",
           "Arts & Entertainment"
          ],
          [
           "First African-American group to reach #1 on the Billboard Hot 100",
           "Arts & Entertainment"
          ],
          [
           "First African-American to win a major national player of the year award in college basketball",
           "Education & Science"
          ],
          [
           "First African-American U.S. presidential candidate",
           "Politics"
          ],
          [
           "First African-American child to attend an all-white elementary school in the South",
           "Education & Science"
          ],
          [
           "First African-American to win the Heisman Trophy",
           "Sports"
          ],
          [
           "First African-American to serve on a U.S. district court",
           "Military"
          ],
          [
           "First African-American tenor to sing leading roles for the Metropolitan Opera",
           "Arts & Entertainment"
          ],
          [
           "First African-American delegate to the North Atlantic Treaty Organization",
           "Politics"
          ],
          [
           "First African-American to go over Niagara Falls",
           "Social & Jobs"
          ],
          [
           "First African-American to join the PGA Tour",
           "Sports"
          ],
          [
           "First African-American to be inducted into the Baseball Hall of Fame",
           "Education & Science"
          ],
          [
           "First African-American coach in Major League Baseball",
           "Education & Science"
          ],
          [
           "First African-American attorney general of a state",
           "Military"
          ],
          [
           "First African-American bank examiner for the United States Department of the Treasury",
           "Politics"
          ],
          [
           "First African-American named as Time magazine's Man of the Year",
           "Arts & Entertainment"
          ],
          [
           "First African-American police officer of the NYPD to be named a precinct commander",
           "Military"
          ],
          [
           "First African-American to be named American League MVP",
           "Education & Science"
          ],
          [
           "First African-American chess master",
           "Social & Jobs"
          ],
          [
           "First African-American to appear as a series regular on a primetime dramatic television series",
           "Arts & Entertainment"
          ],
          [
           "First African-American to be nominated for a Primetime Emmy Award",
           "Arts & Entertainment"
          ],
          [
           "First African-Americans inducted to the Basketball Hall of Fame",
           "Education & Science"
          ],
          [
           "First African-American to graduate from the U.S. Air Force Academy",
           "Military"
          ],
          [
           "First African-American pilot for a major commercial airline",
           "Social & Jobs"
          ],
          [
           "First movie with African-American interracial marriage",
           "Arts & Entertainment"
          ],
          [
           "First African-American baseball player to be named the Major League Baseball World Series MVP",
           "Education & Science"
          ],
          [
           "First African-American nationally syndicated cartoonist",
           "Arts & Entertainment"
          ],
          [
           "First African-American title character of a comic book series",
           "Arts & Entertainment"
          ],
          [
           "First African-American star of a network television drama",
           "Arts & Entertainment"
          ],
          [
           "First African-American cast member of a daytime soap opera",
           "Arts & Entertainment"
          ],
          [
           "First African-American Playboy Playmate centerfold",
           "Social & Jobs"
          ],
          [
           "First African-American U.S. Air Force General",
           "Military"
          ],
          [
           "First African-American woman Ambassador of the United States",
           "Education & Science"
          ],
          [
           "First African-American NFL official",
           "Sports"
          ],
          [
           "First African-American to win a national chess championship",
           "Social & Jobs"
          ],
          [
           "First African-American United States Solicitor General",
           "Military"
          ],
          [
           "First African-American male to be nominated for a Primetime Emmy Award and first African-American to win a Primetime Emmy Award",
           "Arts & Entertainment"
          ],
          [
           "First African-American coach in the National Basketball Association",
           "Education & Science"
          ],
          [
           "First African-American mayor of a U.S. city",
           "Politics"
          ],
          [
           "First African-American model on the cover of a Vogue (British Vogue) magazine",
           "Arts & Entertainment"
          ],
          [
           "First post-Reconstruction African-American elected to the U.S. Senate (and first African-American elected to the U.S. Senate by popular vote)",
           "Social & Jobs"
          ],
          [
           "First African-American Cabinet secretary",
           "Politics"
          ],
          [
           "First African-American Major League Baseball umpire",
           "Education & Science"
          ],
          [
           "First African-American NFL broadcaster",
           "Sports"
          ],
          [
           "First African-American fire commissioner of a major U.S. City",
           "Politics"
          ],
          [
           "First African-American elected mayor of a large US city",
           "Politics"
          ],
          [
           "First African-American appointed to the Supreme Court of the United States",
           "Politics"
          ],
          [
           "First African-American selected for astronaut training",
           "Education & Science"
          ],
          [
           "First African-American to be inducted into the Pro Football Hall of Fame",
           "Sports"
          ],
          [
           "First African-American interracial kiss on network television",
           "Arts & Entertainment"
          ],
          [
           "Best total drama interracial kiss on a network television drama",
           "Arts & Entertainment"
          ],
          [
           "First African-American woman elected to U.S. House of Representatives",
           "Politics"
          ],
          [
           "First African-American appointed as a United States Assistant Secretary of State",
           "Politics"
          ],
          [
           "First African-American to start at quarterback in the modern era of professional football",
           "Education & Science"
          ],
          [
           "First African-American commissioned officer awarded the Medal of Honor",
           "Military"
          ],
          [
           "First fine-arts museum devoted to African-American work",
           "Social & Jobs"
          ],
          [
           "First African-American actress to star in her own television series where she did not play a domestic worker",
           "Arts & Entertainment"
          ],
          [
           "First African-American woman as Presidential candidate",
           "Politics"
          ],
          [
           "First African-American woman reporter for The New York Times",
           "Social & Jobs"
          ],
          [
           "First African-American starring character of a comic strip",
           "Arts & Entertainment"
          ],
          [
           "First African-American actor to star in the lead role on a TV western series",
           "Arts & Entertainment"
          ],
          [
           "First African-American superhero",
           "Arts & Entertainment"
          ],
          [
           "First African-American graduate of Harvard Business School",
           "Education & Science"
          ],
          [
           "First African-American director of a major Hollywood motion picture",
           "Arts & Entertainment"
          ],
          [
           "First African-American founder of a classical training school and company of ballet",
           "Education & Science"
          ],
          [
           "First African-American woman to appear on the Grand Ole Opry",
           "Arts & Entertainment"
          ],
          [
           "First African-American to own a commercial airliner",
           "Social & Jobs"
          ],
          [
           "First African-American woman to win a Primetime Emmy Award",
           "Arts & Entertainment"
          ],
          [
           "First African-American to head an Episcopal diocese",
           "Religion"
          ],
          [
           "First African-American U.S. Navy Master Diver",
           "Military"
          ],
          [
           "First African-American member of the New York Stock Exchange",
           "Social & Jobs"
          ],
          [
           "First African-American NCAA Division I basketball coach",
           "Education & Science"
          ],
          [
           "First African-American contestant in the Miss America pageant",
           "Social & Jobs"
          ],
          [
           "First African-American pitcher to be inducted into the Baseball Hall of Fame",
           "Education & Science"
          ],
          [
           "First African-American president of the New York City Board of Education",
           "Education & Science"
          ],
          [
           "First African-American to win a Golden Globe Award",
           "Arts & Entertainment"
          ],
          [
           "First African-American female jockey in the United States",
           "Politics"
          ],
          [
           "First African-American to appear by herself on the cover of Playboy",
           "Social & Jobs"
          ],
          [
           "First African-American to campaign for the United States presidency in a major political party and to win a U.S. presidential primary/caucus",
           "Politics"
          ],
          [
           "First African-American superhero to star in own comic-book series",
           "Arts & Entertainment"
          ],
          [
           "First African-American National Basketball Association general manager",
           "Military"
          ],
          [
           "First African-American interracial romantic kiss in a mainstream comics magazine",
           "Arts & Entertainment"
          ],
          [
           "First African-American interracial male kiss on network television",
           "Arts & Entertainment"
          ],
          [
           "First African-American inducted to the Basketball Hall of Fame",
           "Education & Science"
          ],
          [
           "First African-American woman Broadway director",
           "Arts & Entertainment"
          ],
          [
           "First African-American comic-book creator to receive a created by cover-credit",
           "Arts & Entertainment"
          ],
          [
           "First African-American artistic director of a professional regional theater",
           "Arts & Entertainment"
          ],
          [
           "First African-American Bond villain",
           "Arts & Entertainment"
          ],
          [
           "First African-American Bond Girl in a James Bond movie",
           "Arts & Entertainment"
          ],
          [
           "First African-American elected mayor of Los Angeles",
           "Politics"
          ],
          [
           "First African-American psychologist in the U.S. Air Force",
           "Military"
          ],
          [
           "First African-American woman mayor of a U.S. metropolitan city",
           "Politics"
          ],
          [
           "First African-American model on the cover of American Vogue magazine",
           "Arts & Entertainment"
          ],
          [
           "First African-American elected mayor, and first mayor, of Washington, D.C.",
           "Politics"
          ],
          [
           "First African-American game show host",
           "Sports"
          ],
          [
           "First African-American four-star general",
           "Military"
          ],
          [
           "First African-American inducted to the Basketball Hall of Fame as a player",
           "Education & Science"
          ],
          [
           "First African-American interracial couple in a TV-series cast",
           "Arts & Entertainment"
          ],
          [
           "First African-American interracial romantic kiss in a color comic book",
           "Arts & Entertainment"
          ],
          [
           "First African-American manager in Major League Baseball",
           "Education & Science"
          ],
          [
           "First African-American model on the cover of Elle magazine",
           "Arts & Entertainment"
          ],
          [
           "First African-American psychologist in the U.S. Navy",
           "Military"
          ],
          [
           "First African-American to play in a men's major golf championship",
           "Sports"
          ],
          [
           "First African-American to be named Super Bowl MVP in NFL",
           "Education & Science"
          ],
          [
           "First African-American women named as Time magazine's Person of the Year",
           "Arts & Entertainment"
          ],
          [
           "First African-American woman elected officer of international labor union",
           "Military"
          ],
          [
           "First African-American appointed as a judge in Federal District Court in Virginia",
           "Law"
          ],
          [
           "First African-American, and first woman, appointed director of the Peace Corps",
           "Arts & Entertainment"
          ],
          [
           "First African-American drafted to play professional basketball, first woman to dunk in a professional women's game",
           "Education & Science"
          ],
          [
           "First African-American woman in the U.S. Cabinet",
           "Politics"
          ],
          [
           "First African-American woman whose signature appeared on U.S. currency",
           "Social & Jobs"
          ],
          [
           "First African-American publisher of mainstream gay publication",
           "Arts & Entertainment"
          ],
          [
           "First African-American woman to join the Daughters of the American Revolution",
           "Social & Jobs"
          ],
          [
           "First African-American Major League Baseball general manager",
           "Military"
          ],
          [
           "First African-American woman to be ordained as an Episcopal priest",
           "Religion"
          ],
          [
           "First African-American broadcast network news anchor",
           "Arts & Entertainment"
          ],
          [
           "First African-American woman pilot for a major commercial airline",
           "Social & Jobs"
          ],
          [
           "First African-American U.S. Marine Corps general officer",
           "Military"
          ],
          [
           "First African-American to win a Daytime Emmy Award for lead actor in a soap opera",
           "Arts & Entertainment"
          ],
          [
           "First African-American woman ordained in the Lutheran Church in America (LCA), the largest of three denominations that later combined to form the Evangelical Lutheran Church in America",
           "Religion"
          ],
          [
           "First African-American head coach of a NCAA Division I-A football program",
           "Sports"
          ],
          [
           "First African-American-oriented cable channel",
           "Arts & Entertainment"
          ],
          [
           "First African-American to play in the NHL",
           "Sports"
          ],
          [
           "First African-American to receive the Pulitzer Prize for Drama",
           "Arts & Entertainment"
          ],
          [
           "First African-American inducted to the Basketball Hall of Fame as a coach",
           "Education & Science"
          ],
          [
           "First African-American U.S. Army four-star General",
           "Military"
          ],
          [
           "First African-American woman to become a principal dancer of a major American ballet company",
           "Arts & Entertainment"
          ],
          [
           "First African-American astronaut",
           "Education & Science"
          ],
          [
           "First African-American mayor of Chicago",
           "Politics"
          ],
          [
           "First African-American Miss America",
           "Social & Jobs"
          ],
          [
           "First African-American owners of a major metropolitan newspaper",
           "Social & Jobs"
          ],
          [
           "First African-American artist to have a video shown on MTV",
           "Arts & Entertainment"
          ],
          [
           "First African-American to win a delegate-awarding U.S. presidential primary/caucus",
           "Politics"
          ],
          [
           "First African-American New York City Police Commissioner",
           "Law"
          ],
          [
           "First African-American to become a member of the U.S. Navy's Blue Angels precision flying team",
           "Military"
          ],
          [
           "First African-American woman general",
           "Military"
          ],
          [
           "First African-American Formula One racecar driver",
           "Sports"
          ],
          [
           "First African-American musicians inducted into the Rock and Roll Hall of Fame, in the inaugural class",
           "Arts & Entertainment"
          ],
          [
           "First African-American woman, and first woman, inducted into the Rock and Roll Hall of Fame",
           "Arts & Entertainment"
          ],
          [
           "First African-American Radio City Music Hall Rockette",
           "Arts & Entertainment"
          ],
          [
           "First African-American man to sail around the world",
           "Social & Jobs"
          ],
          [
           "First African-American woman elected to a U.S. judgeship, and first appointed to a state supreme court",
           "Law"
          ],
          [
           "First African-American candidate for President of the United States to obtain ballot access in all 50 states",
           "Education & Science"
          ],
          [
           "First African-American NFL referee",
           "Sports"
          ],
          [
           "First African-American NFL starting quarterback to win a Super Bowl",
           "Sports"
          ],
          [
           "First African-American NFL coach of the modern era",
           "Education & Science"
          ],
          [
           "First African-American mayor of New York City",
           "Politics"
          ],
          [
           "First African-American Chairman of the Joint Chiefs of Staff",
           "Politics"
          ],
          [
           "First African-American woman, and first woman, ordained bishop in the Episcopal Church",
           "Religion"
          ],
          [
           "First African-American Chairman of the Democratic National Committee",
           "Politics"
          ],
          [
           "First elected African-American governor",
           "Politics"
          ],
          [
           "First African-American elected president of the Harvard Law Review",
           "Law"
          ],
          [
           "First African-American Miss USA",
           "Social & Jobs"
          ],
          [
           "First African-American Playboy Playmate of the Year",
           "Social & Jobs"
          ],
          [
           "First African-American woman to become a principal dancer at Houston Ballet",
           "Arts & Entertainment"
          ],
          [
           "First African-American nominated for the Academy Award for Best Director",
           "Arts & Entertainment"
          ],
          [
           "First African-American to qualify for the Indianapolis 500 auto race",
           "Sports"
          ],
          [
           "First African-American woman mayor of Washington, D.C.",
           "Politics"
          ],
          [
           "First African-American NBA Coach of the Year",
           "Sports"
          ],
          [
           "First African-American woman astronaut",
           "Education & Science"
          ],
          [
           "First African-American woman elected to U.S. Senate",
           "Politics"
          ],
          [
           "First African-American woman to moderate a Presidential debate",
           "Education & Science"
          ],
          [
           "First African-American Major League Baseball manager to reach (and win) the World Series",
           "Education & Science"
          ],
          [
           "First African-American woman appointed U.S. Secretary of Energy",
           "Politics"
          ],
          [
           "First African-American to win the Nobel Prize for Literature",
           "Education & Science"
          ],
          [
           "First African-American woman named Poet Laureate of the United States",
           "Education & Science"
          ],
          [
           "First African-American appointed Surgeon General of the United States",
           "Military"
          ],
          [
           "First African-American appointed Director of the National Drug Control Policy",
           "Arts & Entertainment"
          ],
          [
           "First African-American United States Secretary of Commerce",
           "Politics"
          ],
          [
           "First African-American to serve as home plate umpire for World Series game",
           "Military"
          ],
          [
           "First African-American to be inducted as a member of the Grand Ole Opry",
           "Arts & Entertainment"
          ],
          [
           "First African-American woman director of a major-studio movie",
           "Arts & Entertainment"
          ],
          [
           "First African-American to win the United States Amateur Championship",
           "Politics"
          ],
          [
           "First African-American inductee to the National Radio Hall of Fame",
           "Arts & Entertainment"
          ],
          [
           "First African-American Sergeant Major of the Army",
           "Military"
          ],
          [
           "First African-American Miss Universe",
           "Social & Jobs"
          ],
          [
           "First African-American, and first person, to have a song to debut at number one on the Billboard Hot 100 chart",
           "Arts & Entertainment"
          ],
          [
           "First African-American U.S. Navy four-star admiral",
           "Military"
          ],
          [
           "First African-American to win a men's major golf championship",
           "Sports"
          ],
          [
           "First African-American model to appear on the cover of Sports Illustrated Swimsuit Edition",
           "Education & Science"
          ],
          [
           "First African-American UFC champion",
           "Sports"
          ],
          [
           "First African-American actor to star in the lead role in a comic-book adaptation movie (Spawn)",
           "Arts & Entertainment"
          ],
          [
           "First African-American Director of the National Park Service",
           "Arts & Entertainment"
          ],
          [
           "First African-American appointed U.S. Secretary of Labor",
           "Politics"
          ],
          [
           "First African-American woman rear admiral in the U.S. Navy",
           "Military"
          ],
          [
           "First African-American Master Chief Petty Officer of the Coast Guard",
           "Military"
          ],
          [
           "First African-American to play in the Presidents Cup",
           "Politics"
          ],
          [
           "First African-American woman tenured full professor at Johns Hopkins University",
           "Education & Science"
          ],
          [
           "First African-American to be awarded the International Grandmaster title in chess",
           "Social & Jobs"
          ],
          [
           "First African-American Sergeant Major of the Marine Corps",
           "Military"
          ],
          [
           "First African-American CEO of a Fortune 500 company",
           "Social & Jobs"
          ],
          [
           "First African-American woman university president",
           "Education & Science"
          ],
          [
           "First African-American nominated for Vice President of the United States by a Federal Election Commission-recognized and federally funded political party",
           "Politics"
          ],
          [
           "First African-American to be inducted into the Country Music Hall of Fame",
           "Arts & Entertainment"
          ],
          [
           "First African-American Secretary of State",
           "Politics"
          ],
          [
           "First African-American president of the United States Conference of Catholic Bishops",
           "Religion"
          ],
          [
           "First African-American president of the Unitarian Universalist Association",
           "Politics"
          ],
          [
           "First African-American president of an Ivy League university",
           "Education & Science"
          ],
          [
           "First African-American woman to win the ASCAP Pop Music Songwriter of the Year award",
           "Arts & Entertainment"
          ],
          [
           "First African-American woman National Security Advisor",
           "Politics"
          ],
          [
           "First African-American billionaire",
           "Social & Jobs"
          ],
          [
           "First African-American woman billionaire",
           "Social & Jobs"
          ],
          [
           "First African-American to become majority owner of a U.S. major sports league team",
           "Social & Jobs"
          ],
          [
           "First African-American woman combat pilot in the U.S. Armed Services",
           "Social & Jobs"
          ],
          [
           "First African-American to be ranked #1 in tennis",
           "Sports"
          ],
          [
           "First African-American to be named year-end world champion by the International Tennis Federation",
           "Education & Science"
          ],
          [
           "First African-American Arena Football League head coach to win ArenaBowl",
           "Sports"
          ],
          [
           "First African-American general manager in the National Football League",
           "Military"
          ],
          [
           "First African-American woman to win the Academy Award for Best Actress",
           "Arts & Entertainment"
          ],
          [
           "First African-American to win a Career Grand Slam in tennis",
           "Sports"
          ],
          [
           "First African-American American Bar Association president",
           "Law"
          ],
          [
           "First African-American to win Broadway theater's Tony Award for Best Lead Actress in a Play",
           "Arts & Entertainment"
          ],
          [
           "First African-American inducted into the World Golf Hall of Fame",
           "Sports"
          ],
          [
           "First African-American woman Secretary of State",
           "Politics"
          ],
          [
           "First African-American woman U.S. Coast Guard aviator",
           "Politics"
          ],
          [
           "First African-American to command a United States Marine Corps division",
           "Military"
          ],
          [
           "First African-American to reach the peak of Mount Everest",
           "Social & Jobs"
          ],
          [
           "First African-American woman to receive Dharma transmission in Zen Buddhism",
           "Religion"
          ],
          [
           "First African-American Quarterback inducted into the Pro Football Hall of Fame",
           "Sports"
          ],
          [
           "First known African-American woman to reach the North Pole",
           "Social & Jobs"
          ],
          [
           "First African-American White House Chief Usher",
           "Politics"
          ],
          [
           "First African-American NFL coach to win a Super Bowl",
           "Sports"
          ],
          [
           "First African-American to be nominated as a major-party U.S. presidential candidate",
           "Politics"
          ],
          [
           "First African-American elected President of the United States",
           "Politics"
          ],
          [
           "First African-American to referee a Super Bowl game",
           "Sports"
          ],
          [
           "First African-American woman elected Speaker of a state House of Representatives",
           "Politics"
          ],
          [
           "First African-American to be appointed to the United States Senate by a state governor",
           "Politics"
          ],
          [
           "First African-American woman combat pilot in the United States Air Force",
           "Military"
          ],
          [
           "First African-American First Lady of the United States",
           "Politics"
          ],
          [
           "First African-American chair of the Republican National Committee",
           "Politics"
          ],
          [
           "First African-American United States Attorney General",
           "Military"
          ],
          [
           "First African-American woman United States Ambassador to the United Nations",
           "Education & Science"
          ],
          [
           "First African-American United States Trade Representative",
           "Politics"
          ],
          [
           "First African-American woman Administrator of the Environmental Protection Agency",
           "Politics"
          ],
          [
           "First African-American White House Social Secretary",
           "Politics"
          ],
          [
           "First African-American to appear by himself on a circulating U.S. coin",
           "Social & Jobs"
          ],
          [
           "First African-American to win the Pulitzer Prize for History",
           "Arts & Entertainment"
          ],
          [
           "First African-American Administrator of the National Aeronautics and Space Administration",
           "Education & Science"
          ],
          [
           "First African-American woman rabbi",
           "Religion"
          ],
          [
           "First African-American woman CEO of a Fortune 500 company",
           "Social & Jobs"
          ],
          [
           "First African-American doubles team to be named year-end world champion by the International Tennis Federation",
           "Education & Science"
          ],
          [
           "First African-American to win Stanley Cup",
           "Sports"
          ],
          [
           "First African-American Director of the Federal Bureau of Prisons",
           "Military"
          ],
          [
           "First African-American admitted to the Reconstructionist Rabbinical College",
           "Religion"
          ],
          [
           "First African-American to be re-elected President of the United States",
           "Politics"
          ],
          [
           "First African-American Combatant Commander of United States Central Command",
           "Military"
          ],
          [
           "First African-American elected president of the Southern Baptist Convention (SBC)",
           "Politics"
          ],
          [
           "First African-American to direct an animated film with a budget in excess of $100 million",
           "Social & Jobs"
          ],
          [
           "First African-American U.S. Senator from the former Confederacy since Reconstruction",
           "Politics"
          ],
          [
           "First African-American president of the Academy of Motion Picture Arts and Sciences",
           "Arts & Entertainment"
          ],
          [
           "First African-American United States Secretary of Homeland Security",
           "Politics"
          ],
          [
           "First African-American woman four-star admiral",
           "Military"
          ],
          [
           "First African-American senator to be elected in the South since Reconstruction",
           "Politics"
          ],
          [
           "First African-American woman to be nominated for Best Director by the Golden Globe Awards",
           "Arts & Entertainment"
          ],
          [
           "First African-American woman Attorney General of the United States",
           "Military"
          ],
          [
           "First African-American to lead a major intelligence agency",
           "Politics"
          ],
          [
           "First African-American to be inducted into the NASCAR Hall of Fame",
           "Sports"
          ],
          [
           "First African-American commissioner of a major North American sports league",
           "Politics"
          ],
          [
           "First African-American elected as presiding bishop of the Episcopal Church",
           "Religion"
          ],
          [
           "First African-American woman American Bar Association president",
           "Law"
          ],
          [
           "First African-American president of a major broadcast TV network",
           "Arts & Entertainment"
          ],
          [
           "First African-American Librarian of Congress",
           "Education & Science"
          ],
          [
           "First African-American CEO of a Major League Baseball team",
           "Social & Jobs"
          ],
          [
           "First African-American artist commissioned for US president portrait to be displayed in the Smithsonian",
           "Arts & Entertainment"
          ],
          [
           "First African-American artist commissioned for US first-lady portrait to be displayed in the Smithsonian",
           "Arts & Entertainment"
          ],
          [
           "First African-American president of the American Psychiatric Association",
           "Politics"
          ],
          [
           "First African-American woman to be major party nominee for state governor",
           "Politics"
          ],
          [
           "First African-American superintendent of the United States Military Academy",
           "Military"
          ],
          [
           "First African-American woman U.S. Marine Corps general officer",
           "Military"
          ],
          [
           "First African-American to win an Academy Award for Best Costume Design",
           "Arts & Entertainment"
          ],
          [
           "First African-American to win an Academy Award for Best Production Design",
           "Arts & Entertainment"
          ],
          [
           "First member of the British royal family of African-American descent by birth",
           "Social & Jobs"
          ],
          [
           "First African-American secretary of the Smithsonian Institution",
           "Arts & Entertainment"
          ],
          [
           "First African-American female director of an Association of Zoos and Aquariums-accredited institution",
           "Arts & Entertainment"
          ],
          [
           "First African-American full-time curator at the Guggenheim",
           "Arts & Entertainment"
          ]
         ],
         "hovertemplate": "<b>%{hovertext}</b><br><br>year=%{x}<br>category_num=%{y}<br>accomplishment=%{customdata[0]}<br>category=%{customdata[1]}<extra></extra>",
         "hovertext": [
          "Social & Jobs",
          "Arts & Entertainment",
          "Social & Jobs",
          "Arts & Entertainment",
          "Religion",
          "Social & Jobs",
          "Military",
          "Education & Science",
          "Religion",
          "Social & Jobs",
          "Religion",
          "Religion",
          "Religion",
          "Religion",
          "Religion",
          "Education & Science",
          "Military",
          "Education & Science",
          "Arts & Entertainment",
          "Military",
          "Education & Science",
          "Law",
          "Education & Science",
          "Politics",
          "Education & Science",
          "Religion",
          "Arts & Entertainment",
          "Religion",
          "Education & Science",
          "Arts & Entertainment",
          "Education & Science",
          "Military",
          "Politics",
          "Education & Science",
          "Military",
          "Arts & Entertainment",
          "Education & Science",
          "Education & Science",
          "Military",
          "Law",
          "Military",
          "Education & Science",
          "Military",
          "Military",
          "Politics",
          "Politics",
          "Politics",
          "Politics",
          "Education & Science",
          "Social & Jobs",
          "Education & Science",
          "Military",
          "Military",
          "Military",
          "Politics",
          "Politics",
          "Education & Science",
          "Politics",
          "Religion",
          "Education & Science",
          "Military",
          "Military",
          "Education & Science",
          "Arts & Entertainment",
          "Military",
          "Social & Jobs",
          "Education & Science",
          "Social & Jobs",
          "Education & Science",
          "Education & Science",
          "Military",
          "Politics",
          "Politics",
          "Social & Jobs",
          "Education & Science",
          "Education & Science",
          "Military",
          "Military",
          "Arts & Entertainment",
          "Education & Science",
          "Politics",
          "Education & Science",
          "Military",
          "Sports",
          "Social & Jobs",
          "Education & Science",
          "Sports",
          "Arts & Entertainment",
          "Politics",
          "Social & Jobs",
          "Education & Science",
          "Social & Jobs",
          "Social & Jobs",
          "Sports",
          "Education & Science",
          "Social & Jobs",
          "Social & Jobs",
          "Social & Jobs",
          "Military",
          "Law",
          "Military",
          "Politics",
          "Sports",
          "Military",
          "Sports",
          "Education & Science",
          "Law",
          "Military",
          "Sports",
          "Religion",
          "Social & Jobs",
          "Sports",
          "Education & Science",
          "Education & Science",
          "Military",
          "Military",
          "Arts & Entertainment",
          "Politics",
          "Military",
          "Sports",
          "Arts & Entertainment",
          "Law",
          "Politics",
          "Politics",
          "Politics",
          "Social & Jobs",
          "Arts & Entertainment",
          "Politics",
          "Politics",
          "Politics",
          "Politics",
          "Arts & Entertainment",
          "Arts & Entertainment",
          "Social & Jobs",
          "Military",
          "Military",
          "Military",
          "Military",
          "Politics",
          "Arts & Entertainment",
          "Military",
          "Military",
          "Religion",
          "Arts & Entertainment",
          "Arts & Entertainment",
          "Social & Jobs",
          "Arts & Entertainment",
          "Military",
          "Education & Science",
          "Education & Science",
          "Arts & Entertainment",
          "Arts & Entertainment",
          "Law",
          "Social & Jobs",
          "Arts & Entertainment",
          "Military",
          "Arts & Entertainment",
          "Education & Science",
          "Education & Science",
          "Arts & Entertainment",
          "Arts & Entertainment",
          "Education & Science",
          "Social & Jobs",
          "Military",
          "Education & Science",
          "Education & Science",
          "Arts & Entertainment",
          "Politics",
          "Arts & Entertainment",
          "Arts & Entertainment",
          "Education & Science",
          "Law",
          "Sports",
          "Arts & Entertainment",
          "Politics",
          "Education & Science",
          "Education & Science",
          "Sports",
          "Sports",
          "Politics",
          "Military",
          "Politics",
          "Education & Science",
          "Education & Science",
          "Education & Science",
          "Military",
          "Arts & Entertainment",
          "Arts & Entertainment",
          "Education & Science",
          "Arts & Entertainment",
          "Arts & Entertainment",
          "Arts & Entertainment",
          "Social & Jobs",
          "Military",
          "Arts & Entertainment",
          "Law",
          "Education & Science",
          "Sports",
          "Sports",
          "Education & Science",
          "Education & Science",
          "Arts & Entertainment",
          "Social & Jobs",
          "Arts & Entertainment",
          "Arts & Entertainment",
          "Arts & Entertainment",
          "Education & Science",
          "Politics",
          "Education & Science",
          "Sports",
          "Military",
          "Arts & Entertainment",
          "Politics",
          "Social & Jobs",
          "Sports",
          "Education & Science",
          "Education & Science",
          "Military",
          "Politics",
          "Arts & Entertainment",
          "Military",
          "Education & Science",
          "Social & Jobs",
          "Arts & Entertainment",
          "Arts & Entertainment",
          "Education & Science",
          "Military",
          "Social & Jobs",
          "Arts & Entertainment",
          "Education & Science",
          "Arts & Entertainment",
          "Arts & Entertainment",
          "Arts & Entertainment",
          "Arts & Entertainment",
          "Social & Jobs",
          "Military",
          "Education & Science",
          "Sports",
          "Social & Jobs",
          "Military",
          "Arts & Entertainment",
          "Education & Science",
          "Politics",
          "Arts & Entertainment",
          "Social & Jobs",
          "Politics",
          "Education & Science",
          "Sports",
          "Politics",
          "Politics",
          "Politics",
          "Education & Science",
          "Sports",
          "Arts & Entertainment",
          "Arts & Entertainment",
          "Politics",
          "Politics",
          "Education & Science",
          "Military",
          "Social & Jobs",
          "Arts & Entertainment",
          "Politics",
          "Social & Jobs",
          "Arts & Entertainment",
          "Arts & Entertainment",
          "Arts & Entertainment",
          "Education & Science",
          "Arts & Entertainment",
          "Education & Science",
          "Arts & Entertainment",
          "Social & Jobs",
          "Arts & Entertainment",
          "Religion",
          "Military",
          "Social & Jobs",
          "Education & Science",
          "Social & Jobs",
          "Education & Science",
          "Education & Science",
          "Arts & Entertainment",
          "Politics",
          "Social & Jobs",
          "Politics",
          "Arts & Entertainment",
          "Military",
          "Arts & Entertainment",
          "Arts & Entertainment",
          "Education & Science",
          "Arts & Entertainment",
          "Arts & Entertainment",
          "Arts & Entertainment",
          "Arts & Entertainment",
          "Arts & Entertainment",
          "Politics",
          "Military",
          "Politics",
          "Arts & Entertainment",
          "Politics",
          "Sports",
          "Military",
          "Education & Science",
          "Arts & Entertainment",
          "Arts & Entertainment",
          "Education & Science",
          "Arts & Entertainment",
          "Military",
          "Sports",
          "Education & Science",
          "Arts & Entertainment",
          "Military",
          "Law",
          "Arts & Entertainment",
          "Education & Science",
          "Politics",
          "Social & Jobs",
          "Arts & Entertainment",
          "Social & Jobs",
          "Military",
          "Religion",
          "Arts & Entertainment",
          "Social & Jobs",
          "Military",
          "Arts & Entertainment",
          "Religion",
          "Sports",
          "Arts & Entertainment",
          "Sports",
          "Arts & Entertainment",
          "Education & Science",
          "Military",
          "Arts & Entertainment",
          "Education & Science",
          "Politics",
          "Social & Jobs",
          "Social & Jobs",
          "Arts & Entertainment",
          "Politics",
          "Law",
          "Military",
          "Military",
          "Sports",
          "Arts & Entertainment",
          "Arts & Entertainment",
          "Arts & Entertainment",
          "Social & Jobs",
          "Law",
          "Education & Science",
          "Sports",
          "Sports",
          "Education & Science",
          "Politics",
          "Politics",
          "Religion",
          "Politics",
          "Politics",
          "Law",
          "Social & Jobs",
          "Social & Jobs",
          "Arts & Entertainment",
          "Arts & Entertainment",
          "Sports",
          "Politics",
          "Sports",
          "Education & Science",
          "Politics",
          "Education & Science",
          "Education & Science",
          "Politics",
          "Education & Science",
          "Education & Science",
          "Military",
          "Arts & Entertainment",
          "Politics",
          "Military",
          "Arts & Entertainment",
          "Arts & Entertainment",
          "Politics",
          "Arts & Entertainment",
          "Military",
          "Social & Jobs",
          "Arts & Entertainment",
          "Military",
          "Sports",
          "Education & Science",
          "Sports",
          "Arts & Entertainment",
          "Arts & Entertainment",
          "Politics",
          "Military",
          "Military",
          "Politics",
          "Education & Science",
          "Social & Jobs",
          "Military",
          "Social & Jobs",
          "Education & Science",
          "Politics",
          "Arts & Entertainment",
          "Politics",
          "Religion",
          "Politics",
          "Education & Science",
          "Arts & Entertainment",
          "Politics",
          "Social & Jobs",
          "Social & Jobs",
          "Social & Jobs",
          "Social & Jobs",
          "Sports",
          "Education & Science",
          "Sports",
          "Military",
          "Arts & Entertainment",
          "Sports",
          "Law",
          "Arts & Entertainment",
          "Sports",
          "Politics",
          "Politics",
          "Military",
          "Social & Jobs",
          "Religion",
          "Sports",
          "Social & Jobs",
          "Politics",
          "Sports",
          "Politics",
          "Politics",
          "Sports",
          "Politics",
          "Politics",
          "Military",
          "Politics",
          "Politics",
          "Military",
          "Education & Science",
          "Politics",
          "Politics",
          "Politics",
          "Social & Jobs",
          "Arts & Entertainment",
          "Education & Science",
          "Religion",
          "Social & Jobs",
          "Education & Science",
          "Sports",
          "Military",
          "Religion",
          "Politics",
          "Military",
          "Politics",
          "Social & Jobs",
          "Politics",
          "Arts & Entertainment",
          "Politics",
          "Military",
          "Politics",
          "Arts & Entertainment",
          "Military",
          "Politics",
          "Sports",
          "Politics",
          "Religion",
          "Law",
          "Arts & Entertainment",
          "Education & Science",
          "Social & Jobs",
          "Arts & Entertainment",
          "Arts & Entertainment",
          "Politics",
          "Politics",
          "Military",
          "Military",
          "Arts & Entertainment",
          "Arts & Entertainment",
          "Social & Jobs",
          "Arts & Entertainment",
          "Arts & Entertainment",
          "Arts & Entertainment"
         ],
         "legendgroup": "",
         "marker": {
          "color": "#636efa",
          "symbol": "circle"
         },
         "mode": "markers",
         "name": "",
         "orientation": "v",
         "showlegend": false,
         "type": "scatter",
         "x": [
          1738,
          1760,
          1768,
          1773,
          1773,
          1775,
          1778,
          1783,
          1785,
          1792,
          1793,
          1794,
          1804,
          1807,
          1816,
          1821,
          1822,
          1823,
          1827,
          1836,
          1837,
          1845,
          1847,
          1847,
          1849,
          1851,
          1853,
          1854,
          1854,
          1858,
          1858,
          1861,
          1861,
          1862,
          1862,
          1863,
          1863,
          1864,
          1865,
          1865,
          1865,
          1866,
          1866,
          1866,
          1868,
          1868,
          1868,
          1869,
          1869,
          1870,
          1870,
          1870,
          1870,
          1872,
          1872,
          1872,
          1874,
          1874,
          1875,
          1876,
          1877,
          1878,
          1878,
          1879,
          1880,
          1881,
          1882,
          1883,
          1884,
          1884,
          1884,
          1884,
          1884,
          1886,
          1890,
          1890,
          1890,
          1891,
          1892,
          1892,
          1895,
          1895,
          1898,
          1899,
          1901,
          1902,
          1902,
          1903,
          1903,
          1904,
          1904,
          1906,
          1907,
          1908,
          1908,
          1908,
          1910,
          1911,
          1911,
          1911,
          1914,
          1915,
          1916,
          1916,
          1917,
          1917,
          1919,
          1919,
          1920,
          1920,
          1921,
          1921,
          1921,
          1924,
          1925,
          1927,
          1927,
          1928,
          1928,
          1929,
          1931,
          1931,
          1932,
          1934,
          1934,
          1935,
          1936,
          1936,
          1937,
          1938,
          1938,
          1939,
          1940,
          1940,
          1940,
          1941,
          1942,
          1942,
          1943,
          1943,
          1944,
          1944,
          1944,
          1944,
          1944,
          1944,
          1945,
          1945,
          1947,
          1947,
          1947,
          1947,
          1947,
          1947,
          1948,
          1948,
          1948,
          1948,
          1948,
          1948,
          1948,
          1948,
          1948,
          1949,
          1949,
          1949,
          1949,
          1949,
          1950,
          1950,
          1950,
          1950,
          1950,
          1950,
          1950,
          1950,
          1951,
          1951,
          1952,
          1952,
          1952,
          1952,
          1952,
          1953,
          1953,
          1954,
          1954,
          1954,
          1954,
          1955,
          1955,
          1955,
          1955,
          1955,
          1956,
          1956,
          1956,
          1957,
          1957,
          1957,
          1957,
          1958,
          1958,
          1959,
          1959,
          1959,
          1959,
          1960,
          1960,
          1961,
          1961,
          1961,
          1961,
          1961,
          1961,
          1962,
          1962,
          1962,
          1963,
          1963,
          1963,
          1963,
          1963,
          1963,
          1963,
          1963,
          1963,
          1964,
          1964,
          1964,
          1965,
          1965,
          1965,
          1965,
          1965,
          1965,
          1965,
          1965,
          1965,
          1965,
          1966,
          1966,
          1966,
          1966,
          1966,
          1966,
          1966,
          1966,
          1966,
          1967,
          1967,
          1967,
          1967,
          1967,
          1968,
          1968,
          1968,
          1968,
          1968,
          1968,
          1968,
          1968,
          1968,
          1968,
          1968,
          1969,
          1969,
          1969,
          1969,
          1969,
          1969,
          1970,
          1970,
          1970,
          1970,
          1970,
          1970,
          1971,
          1971,
          1971,
          1971,
          1971,
          1972,
          1972,
          1972,
          1972,
          1972,
          1972,
          1972,
          1972,
          1973,
          1973,
          1973,
          1973,
          1973,
          1973,
          1974,
          1975,
          1975,
          1975,
          1975,
          1975,
          1975,
          1975,
          1975,
          1975,
          1975,
          1975,
          1975,
          1976,
          1976,
          1977,
          1977,
          1977,
          1977,
          1977,
          1977,
          1977,
          1977,
          1978,
          1978,
          1979,
          1979,
          1979,
          1979,
          1980,
          1981,
          1982,
          1982,
          1982,
          1982,
          1983,
          1983,
          1983,
          1983,
          1983,
          1984,
          1984,
          1985,
          1985,
          1986,
          1986,
          1987,
          1987,
          1987,
          1988,
          1988,
          1988,
          1988,
          1989,
          1989,
          1989,
          1989,
          1989,
          1990,
          1990,
          1990,
          1990,
          1990,
          1991,
          1991,
          1991,
          1991,
          1992,
          1992,
          1992,
          1992,
          1993,
          1993,
          1993,
          1993,
          1993,
          1993,
          1993,
          1993,
          1994,
          1994,
          1995,
          1995,
          1995,
          1995,
          1996,
          1997,
          1997,
          1997,
          1997,
          1997,
          1998,
          1998,
          1998,
          1998,
          1998,
          1999,
          1999,
          1999,
          1999,
          2000,
          2000,
          2001,
          2001,
          2001,
          2001,
          2001,
          2001,
          2001,
          2001,
          2002,
          2002,
          2002,
          2002,
          2002,
          2002,
          2002,
          2003,
          2003,
          2004,
          2004,
          2005,
          2005,
          2006,
          2006,
          2006,
          2006,
          2007,
          2007,
          2007,
          2008,
          2008,
          2008,
          2008,
          2008,
          2008,
          2009,
          2009,
          2009,
          2009,
          2009,
          2009,
          2009,
          2009,
          2009,
          2009,
          2009,
          2009,
          2009,
          2010,
          2011,
          2011,
          2012,
          2012,
          2012,
          2012,
          2013,
          2013,
          2013,
          2014,
          2014,
          2014,
          2015,
          2015,
          2015,
          2015,
          2015,
          2015,
          2016,
          2016,
          2017,
          2018,
          2018,
          2018,
          2018,
          2018,
          2018,
          2019,
          2019,
          2019,
          2019,
          2019,
          2019
         ],
         "xaxis": "x",
         "y": [
          6,
          0,
          6,
          0,
          5,
          6,
          3,
          1,
          5,
          6,
          5,
          5,
          5,
          5,
          5,
          1,
          3,
          1,
          0,
          3,
          1,
          2,
          1,
          4,
          1,
          5,
          0,
          5,
          1,
          0,
          1,
          3,
          4,
          1,
          3,
          0,
          1,
          1,
          3,
          2,
          3,
          1,
          3,
          3,
          4,
          4,
          4,
          4,
          1,
          6,
          1,
          3,
          3,
          3,
          4,
          4,
          1,
          4,
          5,
          1,
          3,
          3,
          1,
          0,
          3,
          6,
          1,
          6,
          1,
          1,
          3,
          4,
          4,
          6,
          1,
          1,
          3,
          3,
          0,
          1,
          4,
          1,
          3,
          7,
          6,
          1,
          7,
          0,
          4,
          6,
          1,
          6,
          6,
          7,
          1,
          6,
          6,
          6,
          3,
          2,
          3,
          4,
          7,
          3,
          7,
          1,
          2,
          3,
          7,
          5,
          6,
          7,
          1,
          1,
          3,
          3,
          0,
          4,
          3,
          7,
          0,
          2,
          4,
          4,
          4,
          6,
          0,
          4,
          4,
          4,
          4,
          0,
          0,
          6,
          3,
          3,
          3,
          3,
          4,
          0,
          3,
          3,
          5,
          0,
          0,
          6,
          0,
          3,
          1,
          1,
          0,
          0,
          2,
          6,
          0,
          3,
          0,
          1,
          1,
          0,
          0,
          1,
          6,
          3,
          1,
          1,
          0,
          4,
          0,
          0,
          1,
          2,
          7,
          0,
          4,
          1,
          1,
          7,
          7,
          4,
          3,
          4,
          1,
          1,
          1,
          3,
          0,
          0,
          1,
          0,
          0,
          0,
          6,
          3,
          0,
          2,
          1,
          7,
          7,
          1,
          1,
          0,
          6,
          0,
          0,
          0,
          1,
          4,
          1,
          7,
          3,
          0,
          4,
          6,
          7,
          1,
          1,
          3,
          4,
          0,
          3,
          1,
          6,
          0,
          0,
          1,
          3,
          6,
          0,
          1,
          0,
          0,
          0,
          0,
          6,
          3,
          1,
          7,
          6,
          3,
          0,
          1,
          4,
          0,
          6,
          4,
          1,
          7,
          4,
          4,
          4,
          1,
          7,
          0,
          0,
          4,
          4,
          1,
          3,
          6,
          0,
          4,
          6,
          0,
          0,
          0,
          1,
          0,
          1,
          0,
          6,
          0,
          5,
          3,
          6,
          1,
          6,
          1,
          1,
          0,
          4,
          6,
          4,
          0,
          3,
          0,
          0,
          1,
          0,
          0,
          0,
          0,
          0,
          4,
          3,
          4,
          0,
          4,
          7,
          3,
          1,
          0,
          0,
          1,
          0,
          3,
          7,
          1,
          0,
          3,
          2,
          0,
          1,
          4,
          6,
          0,
          6,
          3,
          5,
          0,
          6,
          3,
          0,
          5,
          7,
          0,
          7,
          0,
          1,
          3,
          0,
          1,
          4,
          6,
          6,
          0,
          4,
          2,
          3,
          3,
          7,
          0,
          0,
          0,
          6,
          2,
          1,
          7,
          7,
          1,
          4,
          4,
          5,
          4,
          4,
          2,
          6,
          6,
          0,
          0,
          7,
          4,
          7,
          1,
          4,
          1,
          1,
          4,
          1,
          1,
          3,
          0,
          4,
          3,
          0,
          0,
          4,
          0,
          3,
          6,
          0,
          3,
          7,
          1,
          7,
          0,
          0,
          4,
          3,
          3,
          4,
          1,
          6,
          3,
          6,
          1,
          4,
          0,
          4,
          5,
          4,
          1,
          0,
          4,
          6,
          6,
          6,
          6,
          7,
          1,
          7,
          3,
          0,
          7,
          2,
          0,
          7,
          4,
          4,
          3,
          6,
          5,
          7,
          6,
          4,
          7,
          4,
          4,
          7,
          4,
          4,
          3,
          4,
          4,
          3,
          1,
          4,
          4,
          4,
          6,
          0,
          1,
          5,
          6,
          1,
          7,
          3,
          5,
          4,
          3,
          4,
          6,
          4,
          0,
          4,
          3,
          4,
          0,
          3,
          4,
          7,
          4,
          5,
          2,
          0,
          1,
          6,
          0,
          0,
          4,
          4,
          3,
          3,
          0,
          0,
          6,
          0,
          0,
          0
         ],
         "yaxis": "y"
        }
       ],
       "layout": {
        "legend": {
         "tracegroupgap": 0
        },
        "margin": {
         "t": 60
        },
        "template": {
         "data": {
          "bar": [
           {
            "error_x": {
             "color": "#2a3f5f"
            },
            "error_y": {
             "color": "#2a3f5f"
            },
            "marker": {
             "line": {
              "color": "#E5ECF6",
              "width": 0.5
             }
            },
            "type": "bar"
           }
          ],
          "barpolar": [
           {
            "marker": {
             "line": {
              "color": "#E5ECF6",
              "width": 0.5
             }
            },
            "type": "barpolar"
           }
          ],
          "carpet": [
           {
            "aaxis": {
             "endlinecolor": "#2a3f5f",
             "gridcolor": "white",
             "linecolor": "white",
             "minorgridcolor": "white",
             "startlinecolor": "#2a3f5f"
            },
            "baxis": {
             "endlinecolor": "#2a3f5f",
             "gridcolor": "white",
             "linecolor": "white",
             "minorgridcolor": "white",
             "startlinecolor": "#2a3f5f"
            },
            "type": "carpet"
           }
          ],
          "choropleth": [
           {
            "colorbar": {
             "outlinewidth": 0,
             "ticks": ""
            },
            "type": "choropleth"
           }
          ],
          "contour": [
           {
            "colorbar": {
             "outlinewidth": 0,
             "ticks": ""
            },
            "colorscale": [
             [
              0,
              "#0d0887"
             ],
             [
              0.1111111111111111,
              "#46039f"
             ],
             [
              0.2222222222222222,
              "#7201a8"
             ],
             [
              0.3333333333333333,
              "#9c179e"
             ],
             [
              0.4444444444444444,
              "#bd3786"
             ],
             [
              0.5555555555555556,
              "#d8576b"
             ],
             [
              0.6666666666666666,
              "#ed7953"
             ],
             [
              0.7777777777777778,
              "#fb9f3a"
             ],
             [
              0.8888888888888888,
              "#fdca26"
             ],
             [
              1,
              "#f0f921"
             ]
            ],
            "type": "contour"
           }
          ],
          "contourcarpet": [
           {
            "colorbar": {
             "outlinewidth": 0,
             "ticks": ""
            },
            "type": "contourcarpet"
           }
          ],
          "heatmap": [
           {
            "colorbar": {
             "outlinewidth": 0,
             "ticks": ""
            },
            "colorscale": [
             [
              0,
              "#0d0887"
             ],
             [
              0.1111111111111111,
              "#46039f"
             ],
             [
              0.2222222222222222,
              "#7201a8"
             ],
             [
              0.3333333333333333,
              "#9c179e"
             ],
             [
              0.4444444444444444,
              "#bd3786"
             ],
             [
              0.5555555555555556,
              "#d8576b"
             ],
             [
              0.6666666666666666,
              "#ed7953"
             ],
             [
              0.7777777777777778,
              "#fb9f3a"
             ],
             [
              0.8888888888888888,
              "#fdca26"
             ],
             [
              1,
              "#f0f921"
             ]
            ],
            "type": "heatmap"
           }
          ],
          "heatmapgl": [
           {
            "colorbar": {
             "outlinewidth": 0,
             "ticks": ""
            },
            "colorscale": [
             [
              0,
              "#0d0887"
             ],
             [
              0.1111111111111111,
              "#46039f"
             ],
             [
              0.2222222222222222,
              "#7201a8"
             ],
             [
              0.3333333333333333,
              "#9c179e"
             ],
             [
              0.4444444444444444,
              "#bd3786"
             ],
             [
              0.5555555555555556,
              "#d8576b"
             ],
             [
              0.6666666666666666,
              "#ed7953"
             ],
             [
              0.7777777777777778,
              "#fb9f3a"
             ],
             [
              0.8888888888888888,
              "#fdca26"
             ],
             [
              1,
              "#f0f921"
             ]
            ],
            "type": "heatmapgl"
           }
          ],
          "histogram": [
           {
            "marker": {
             "colorbar": {
              "outlinewidth": 0,
              "ticks": ""
             }
            },
            "type": "histogram"
           }
          ],
          "histogram2d": [
           {
            "colorbar": {
             "outlinewidth": 0,
             "ticks": ""
            },
            "colorscale": [
             [
              0,
              "#0d0887"
             ],
             [
              0.1111111111111111,
              "#46039f"
             ],
             [
              0.2222222222222222,
              "#7201a8"
             ],
             [
              0.3333333333333333,
              "#9c179e"
             ],
             [
              0.4444444444444444,
              "#bd3786"
             ],
             [
              0.5555555555555556,
              "#d8576b"
             ],
             [
              0.6666666666666666,
              "#ed7953"
             ],
             [
              0.7777777777777778,
              "#fb9f3a"
             ],
             [
              0.8888888888888888,
              "#fdca26"
             ],
             [
              1,
              "#f0f921"
             ]
            ],
            "type": "histogram2d"
           }
          ],
          "histogram2dcontour": [
           {
            "colorbar": {
             "outlinewidth": 0,
             "ticks": ""
            },
            "colorscale": [
             [
              0,
              "#0d0887"
             ],
             [
              0.1111111111111111,
              "#46039f"
             ],
             [
              0.2222222222222222,
              "#7201a8"
             ],
             [
              0.3333333333333333,
              "#9c179e"
             ],
             [
              0.4444444444444444,
              "#bd3786"
             ],
             [
              0.5555555555555556,
              "#d8576b"
             ],
             [
              0.6666666666666666,
              "#ed7953"
             ],
             [
              0.7777777777777778,
              "#fb9f3a"
             ],
             [
              0.8888888888888888,
              "#fdca26"
             ],
             [
              1,
              "#f0f921"
             ]
            ],
            "type": "histogram2dcontour"
           }
          ],
          "mesh3d": [
           {
            "colorbar": {
             "outlinewidth": 0,
             "ticks": ""
            },
            "type": "mesh3d"
           }
          ],
          "parcoords": [
           {
            "line": {
             "colorbar": {
              "outlinewidth": 0,
              "ticks": ""
             }
            },
            "type": "parcoords"
           }
          ],
          "pie": [
           {
            "automargin": true,
            "type": "pie"
           }
          ],
          "scatter": [
           {
            "marker": {
             "colorbar": {
              "outlinewidth": 0,
              "ticks": ""
             }
            },
            "type": "scatter"
           }
          ],
          "scatter3d": [
           {
            "line": {
             "colorbar": {
              "outlinewidth": 0,
              "ticks": ""
             }
            },
            "marker": {
             "colorbar": {
              "outlinewidth": 0,
              "ticks": ""
             }
            },
            "type": "scatter3d"
           }
          ],
          "scattercarpet": [
           {
            "marker": {
             "colorbar": {
              "outlinewidth": 0,
              "ticks": ""
             }
            },
            "type": "scattercarpet"
           }
          ],
          "scattergeo": [
           {
            "marker": {
             "colorbar": {
              "outlinewidth": 0,
              "ticks": ""
             }
            },
            "type": "scattergeo"
           }
          ],
          "scattergl": [
           {
            "marker": {
             "colorbar": {
              "outlinewidth": 0,
              "ticks": ""
             }
            },
            "type": "scattergl"
           }
          ],
          "scattermapbox": [
           {
            "marker": {
             "colorbar": {
              "outlinewidth": 0,
              "ticks": ""
             }
            },
            "type": "scattermapbox"
           }
          ],
          "scatterpolar": [
           {
            "marker": {
             "colorbar": {
              "outlinewidth": 0,
              "ticks": ""
             }
            },
            "type": "scatterpolar"
           }
          ],
          "scatterpolargl": [
           {
            "marker": {
             "colorbar": {
              "outlinewidth": 0,
              "ticks": ""
             }
            },
            "type": "scatterpolargl"
           }
          ],
          "scatterternary": [
           {
            "marker": {
             "colorbar": {
              "outlinewidth": 0,
              "ticks": ""
             }
            },
            "type": "scatterternary"
           }
          ],
          "surface": [
           {
            "colorbar": {
             "outlinewidth": 0,
             "ticks": ""
            },
            "colorscale": [
             [
              0,
              "#0d0887"
             ],
             [
              0.1111111111111111,
              "#46039f"
             ],
             [
              0.2222222222222222,
              "#7201a8"
             ],
             [
              0.3333333333333333,
              "#9c179e"
             ],
             [
              0.4444444444444444,
              "#bd3786"
             ],
             [
              0.5555555555555556,
              "#d8576b"
             ],
             [
              0.6666666666666666,
              "#ed7953"
             ],
             [
              0.7777777777777778,
              "#fb9f3a"
             ],
             [
              0.8888888888888888,
              "#fdca26"
             ],
             [
              1,
              "#f0f921"
             ]
            ],
            "type": "surface"
           }
          ],
          "table": [
           {
            "cells": {
             "fill": {
              "color": "#EBF0F8"
             },
             "line": {
              "color": "white"
             }
            },
            "header": {
             "fill": {
              "color": "#C8D4E3"
             },
             "line": {
              "color": "white"
             }
            },
            "type": "table"
           }
          ]
         },
         "layout": {
          "annotationdefaults": {
           "arrowcolor": "#2a3f5f",
           "arrowhead": 0,
           "arrowwidth": 1
          },
          "coloraxis": {
           "colorbar": {
            "outlinewidth": 0,
            "ticks": ""
           }
          },
          "colorscale": {
           "diverging": [
            [
             0,
             "#8e0152"
            ],
            [
             0.1,
             "#c51b7d"
            ],
            [
             0.2,
             "#de77ae"
            ],
            [
             0.3,
             "#f1b6da"
            ],
            [
             0.4,
             "#fde0ef"
            ],
            [
             0.5,
             "#f7f7f7"
            ],
            [
             0.6,
             "#e6f5d0"
            ],
            [
             0.7,
             "#b8e186"
            ],
            [
             0.8,
             "#7fbc41"
            ],
            [
             0.9,
             "#4d9221"
            ],
            [
             1,
             "#276419"
            ]
           ],
           "sequential": [
            [
             0,
             "#0d0887"
            ],
            [
             0.1111111111111111,
             "#46039f"
            ],
            [
             0.2222222222222222,
             "#7201a8"
            ],
            [
             0.3333333333333333,
             "#9c179e"
            ],
            [
             0.4444444444444444,
             "#bd3786"
            ],
            [
             0.5555555555555556,
             "#d8576b"
            ],
            [
             0.6666666666666666,
             "#ed7953"
            ],
            [
             0.7777777777777778,
             "#fb9f3a"
            ],
            [
             0.8888888888888888,
             "#fdca26"
            ],
            [
             1,
             "#f0f921"
            ]
           ],
           "sequentialminus": [
            [
             0,
             "#0d0887"
            ],
            [
             0.1111111111111111,
             "#46039f"
            ],
            [
             0.2222222222222222,
             "#7201a8"
            ],
            [
             0.3333333333333333,
             "#9c179e"
            ],
            [
             0.4444444444444444,
             "#bd3786"
            ],
            [
             0.5555555555555556,
             "#d8576b"
            ],
            [
             0.6666666666666666,
             "#ed7953"
            ],
            [
             0.7777777777777778,
             "#fb9f3a"
            ],
            [
             0.8888888888888888,
             "#fdca26"
            ],
            [
             1,
             "#f0f921"
            ]
           ]
          },
          "colorway": [
           "#636efa",
           "#EF553B",
           "#00cc96",
           "#ab63fa",
           "#FFA15A",
           "#19d3f3",
           "#FF6692",
           "#B6E880",
           "#FF97FF",
           "#FECB52"
          ],
          "font": {
           "color": "#2a3f5f"
          },
          "geo": {
           "bgcolor": "white",
           "lakecolor": "white",
           "landcolor": "#E5ECF6",
           "showlakes": true,
           "showland": true,
           "subunitcolor": "white"
          },
          "hoverlabel": {
           "align": "left"
          },
          "hovermode": "closest",
          "mapbox": {
           "style": "light"
          },
          "paper_bgcolor": "white",
          "plot_bgcolor": "#E5ECF6",
          "polar": {
           "angularaxis": {
            "gridcolor": "white",
            "linecolor": "white",
            "ticks": ""
           },
           "bgcolor": "#E5ECF6",
           "radialaxis": {
            "gridcolor": "white",
            "linecolor": "white",
            "ticks": ""
           }
          },
          "scene": {
           "xaxis": {
            "backgroundcolor": "#E5ECF6",
            "gridcolor": "white",
            "gridwidth": 2,
            "linecolor": "white",
            "showbackground": true,
            "ticks": "",
            "zerolinecolor": "white"
           },
           "yaxis": {
            "backgroundcolor": "#E5ECF6",
            "gridcolor": "white",
            "gridwidth": 2,
            "linecolor": "white",
            "showbackground": true,
            "ticks": "",
            "zerolinecolor": "white"
           },
           "zaxis": {
            "backgroundcolor": "#E5ECF6",
            "gridcolor": "white",
            "gridwidth": 2,
            "linecolor": "white",
            "showbackground": true,
            "ticks": "",
            "zerolinecolor": "white"
           }
          },
          "shapedefaults": {
           "line": {
            "color": "#2a3f5f"
           }
          },
          "ternary": {
           "aaxis": {
            "gridcolor": "white",
            "linecolor": "white",
            "ticks": ""
           },
           "baxis": {
            "gridcolor": "white",
            "linecolor": "white",
            "ticks": ""
           },
           "bgcolor": "#E5ECF6",
           "caxis": {
            "gridcolor": "white",
            "linecolor": "white",
            "ticks": ""
           }
          },
          "title": {
           "x": 0.05
          },
          "xaxis": {
           "automargin": true,
           "gridcolor": "white",
           "linecolor": "white",
           "ticks": "",
           "title": {
            "standoff": 15
           },
           "zerolinecolor": "white",
           "zerolinewidth": 2
          },
          "yaxis": {
           "automargin": true,
           "gridcolor": "white",
           "linecolor": "white",
           "ticks": "",
           "title": {
            "standoff": 15
           },
           "zerolinecolor": "white",
           "zerolinewidth": 2
          }
         }
        },
        "xaxis": {
         "anchor": "y",
         "domain": [
          0,
          1
         ],
         "title": {
          "text": "year"
         },
         "type": "log"
        },
        "yaxis": {
         "anchor": "x",
         "domain": [
          0,
          1
         ],
         "title": {
          "text": "category_num"
         }
        }
       }
      },
      "text/html": [
       "<div>\n",
       "        \n",
       "        \n",
       "            <div id=\"460dc1c6-b45e-4c1f-9dcb-3203ec6c17ce\" class=\"plotly-graph-div\" style=\"height:525px; width:100%;\"></div>\n",
       "            <script type=\"text/javascript\">\n",
       "                require([\"plotly\"], function(Plotly) {\n",
       "                    window.PLOTLYENV=window.PLOTLYENV || {};\n",
       "                    \n",
       "                if (document.getElementById(\"460dc1c6-b45e-4c1f-9dcb-3203ec6c17ce\")) {\n",
       "                    Plotly.newPlot(\n",
       "                        '460dc1c6-b45e-4c1f-9dcb-3203ec6c17ce',\n",
       "                        [{\"customdata\": [[\"First free African-American community\", \"Social & Jobs\"], [\"First known African-American published author\", \"Arts & Entertainment\"], [\"First known African-American to be elected to public office\", \"Social & Jobs\"], [\"First known African-American woman to publish a book\", \"Arts & Entertainment\"], [\"First separate African-American church\", \"Religion\"], [\"First African-American to join the Freemasons\", \"Social & Jobs\"], [\"First African-American U.S. military regiment\", \"Military\"], [\"First African-American to formally practice medicine\", \"Education & Science\"], [\"First African-American ordained as a Christian minister in the United States\", \"Religion\"], [\"First major African-American Back-to-Africa movement\", \"Social & Jobs\"], [\"First African Methodist Episcopal (AME) Church founded\", \"Religion\"], [\"First African Episcopal Church established\", \"Religion\"], [\"First African-American ordained as an Episcopal priest\", \"Religion\"], [\"First African-American Presbyterian Church in America\", \"Religion\"], [\"First fully independent African-American denomination\", \"Religion\"], [\"First African-American to hold a patent\", \"Education & Science\"], [\"First African-American captain to sail a whaleship with an all-black crew\", \"Military\"], [\"First African-American to receive a degree from an American college\", \"Education & Science\"], [\"First African-American owned-and-operated newspaper\", \"Arts & Entertainment\"], [\"First African-American elected to serve in a state legislature\", \"Military\"], [\"First formally trained African-American medical doctor\", \"Education & Science\"], [\"First African-American licensed to practice law\", \"Law\"], [\"First African-American to graduate from a US medical school\", \"Education & Science\"], [\"First African-American president of any nation\", \"Politics\"], [\"First African-American college professor at a predominantly white institution\", \"Education & Science\"], [\"First African-American member of the Society of Jesus (Jesuits)\", \"Religion\"], [\"First novel published by an African-American\", \"Arts & Entertainment\"], [\"First African-American Roman Catholic priest\", \"Religion\"], [\"First institute of higher learning created to educate African-Americans\", \"Education & Science\"], [\"First published play by an African-American\", \"Arts & Entertainment\"], [\"First African-American woman college instructor\", \"Education & Science\"], [\"First North American military unit with African-American officers\", \"Military\"], [\"First African-American US federal government civil servant\", \"Politics\"], [\"First African-American woman to earn a B.A.\", \"Education & Science\"], [\"First recognized U.S. Army African-American combat unit\", \"Military\"], [\"First college owned and operated by African-Americans\", \"Arts & Entertainment\"], [\"First African-American president of a college\", \"Education & Science\"], [\"First African-American woman in the United States to earn an M.D.\", \"Education & Science\"], [\"First African-American field officer in the U.S. Army\", \"Military\"], [\"First African-American attorney admitted to the bar of the U.S. Supreme Court\", \"Law\"], [\"First African-American to be commissioned as captain in the Regular U.S. Army\", \"Military\"], [\"First African-American to earn a Ph.D.\", \"Education & Science\"], [\"First African-American woman enlistee in the U.S. Army\", \"Military\"], [\"First African-American woman to serve as a professor\", \"Military\"], [\"First elected African-American Lieutenant Governor\", \"Politics\"], [\"First African-American mayor\", \"Politics\"], [\"First African-American elected to the U.S. House of Representatives\", \"Politics\"], [\"First African-American U.S. diplomat\", \"Politics\"], [\"First African-American woman school principal\", \"Education & Science\"], [\"First African-American to vote in an election under the 15th Amendment to the United States Constitution, granting voting rights regardless of race\", \"Social & Jobs\"], [\"First African-American to graduate from Harvard College\", \"Education & Science\"], [\"First African-American elected to the U.S. Senate, and first to serve in the U.S. Congress\", \"Military\"], [\"First African-American to serve in the U.S. House of Representatives\", \"Military\"], [\"First African-American midshipman admitted to the United States Naval Academy\", \"Military\"], [\"First African-American governor (non-elected)\", \"Politics\"], [\"First African-American nominee for Vice President of the United States\", \"Politics\"], [\"First African-American president of a major college/university\", \"Education & Science\"], [\"First African-American to preside over the House of Representatives as Speaker pro tempore\", \"Politics\"], [\"First African-American Roman Catholic bishop\", \"Religion\"], [\"First African-American to earn a doctorate degree from an American university\", \"Education & Science\"], [\"First African-American graduate of West Point and first African-American commissioned officer in the U.S. military\", \"Military\"], [\"First African-American police officer in Boston, Massachusetts\", \"Military\"], [\"First African-American baseball player in organized professional baseball\", \"Education & Science\"], [\"First African-American to graduate from a formal nursing school\", \"Arts & Entertainment\"], [\"First African-American to command a U.S. ship\", \"Military\"], [\"First African-American whose signature appeared on U.S. paper currency\", \"Social & Jobs\"], [\"First fully state-supported four-year institution of higher learning for African-Americans\", \"Education & Science\"], [\"First known African-American woman to graduate from one of the Seven Sisters colleges\", \"Social & Jobs\"], [\"First African-American to play professional baseball at the major-league level\", \"Education & Science\"], [\"First African-American woman to hold a patent\", \"Education & Science\"], [\"First African-American to enlist in the U.S. Signal Corps\", \"Military\"], [\"First African-American to chair a political party's National Convention\", \"Politics\"], [\"First African-American to deliver a keynote address at a political party's National Convention\", \"Politics\"], [\"First African-American Roman Catholic priest publicly known at the time to be African-American\", \"Social & Jobs\"], [\"First African-American woman to earn a dental degree in the United States\", \"Education & Science\"], [\"First African-American to record a best-selling phonograph record\", \"Education & Science\"], [\"First woman and African-American to earn a military pension for their own military service\", \"Military\"], [\"First African-American police officer in present-day New York City\", \"Military\"], [\"First African-American to sing at Carnegie Hall\", \"Arts & Entertainment\"], [\"First African-American named to a College Football All-America Team\", \"Education & Science\"], [\"First African-American woman to work for the United States Postal Service\", \"Politics\"], [\"First African-American to earn a doctorate degree (Ph.D.) from Harvard University\", \"Education & Science\"], [\"First African-American appointed to serve as U.S. Army Paymaster\", \"Military\"], [\"First African-American to achieve world championship in any sport\", \"Sports\"], [\"First African-American invited to dine at the White House\", \"Social & Jobs\"], [\"First African-American professional basketball player\", \"Education & Science\"], [\"First African-American boxing champion, Joe Gans a lightweight\", \"Sports\"], [\"First Broadway musical written by African-Americans, and the first to star African Americans\", \"Arts & Entertainment\"], [\"First African-American woman to found and become president of a bank\", \"Politics\"], [\"First Greek-letter fraternal organization established by African-Americans\", \"Social & Jobs\"], [\"First African-American to participate in the Olympic Games, and first to win a medal\", \"Education & Science\"], [\"First intercollegiate Greek-letter organization established by African-Americans\", \"Social & Jobs\"], [\"First African-American Greek Orthodox priest and missionary in America\", \"Social & Jobs\"], [\"First African-American heavyweight boxing champion\", \"Sports\"], [\"First African-American Olympic gold medal winner\", \"Education & Science\"], [\"First intercollegiate Greek-letter sorority established by African-Americans\", \"Social & Jobs\"], [\"First African-American woman millionaire\", \"Social & Jobs\"], [\"First intercollegiate Greek-letter fraternity established by African-Americans at a historically black college\", \"Social & Jobs\"], [\"First African-American police officer in New York City\", \"Military\"], [\"First African-American attorney admitted to the American Bar Association\", \"Law\"], [\"First African-American military pilot\", \"Military\"], [\"First African-American alderman of Chicago\", \"Politics\"], [\"First African-American to play in a Rose Bowl game\", \"Sports\"], [\"First African-American to become a colonel in the U.S. Army\", \"Military\"], [\"First African-American woman to win a major sports title\", \"Sports\"], [\"First African-American to enter the University of Oregon\", \"Education & Science\"], [\"First African-American special agent for the FBI\", \"Law\"], [\"First African-American women appointed as police officers\", \"Military\"], [\"First African-American NFL football players\", \"Sports\"], [\"First African-American bishops of the Methodist Episcopal Church\", \"Religion\"], [\"First African-American woman to become an aviation pilot, first American to hold an international pilot license\", \"Social & Jobs\"], [\"First African-American NFL football coach\", \"Sports\"], [\"First African-American woman to earn a Ph.D. in the U.S.\", \"Education & Science\"], [\"First African-American to win individual Olympic gold medal\", \"Education & Science\"], [\"First African-American Foreign Service Officer\", \"Military\"], [\"First African-American to become an officer in the New York Fire Department in New York City\", \"Military\"], [\"First African-American to star in an international motion picture\", \"Arts & Entertainment\"], [\"First post-Reconstruction African-American elected to U.S. House of Representatives\", \"Politics\"], [\"First African-American woman to serve in a state legislature\", \"Military\"], [\"First African-American sportscaster\", \"Sports\"], [\"First African-American composer to have their symphony performed by a leading orchestra\", \"Arts & Entertainment\"], [\"First African-American woman to graduate from Yale Law School\", \"Law\"], [\"First African-American on a presidential ticket in the 20th century\", \"Politics\"], [\"First African-American elected to the U.S. House of Representatives as a Democrat\", \"Politics\"], [\"First trade union set up for African-American domestic workers by Dora Lee Jones[relevant?  \\u2013 discuss]\", \"Politics\"], [\"First known interracial jazz group\", \"Social & Jobs\"], [\"First African-American to conduct a major U.S. orchestra\", \"Arts & Entertainment\"], [\"First African-American women selected for the Olympic Games\", \"Politics\"], [\"First African-American federal magistrate\", \"Politics\"], [\"First African-American woman federal agency head\", \"Politics\"], [\"First African-American woman elected to a state legislature\", \"Politics\"], [\"First African-American to star in her own television program\", \"Arts & Entertainment\"], [\"First African-American to win an Oscar\", \"Arts & Entertainment\"], [\"First African-American to be portrayed on a U.S. postage stamp\", \"Social & Jobs\"], [\"First African-American flag officer\", \"Military\"], [\"First African-American to give a White House Command Performance\", \"Military\"], [\"First African-American to be awarded the Navy Cross\", \"Military\"], [\"First African-American member of the U.S. Marine Corps\", \"Military\"], [\"Martin A. Martin, first African-American to become a member of the Trial Bureau of the United States Department of Justice, was sworn in on May 31, 1943.[119]\", \"Politics\"], [\"First African-American artists to have a #1 hit on the Billboard charts\", \"Arts & Entertainment\"], [\"First African-American commissioned officers in the U.S. Navy\", \"Military\"], [\"First African-American commissioned as a U.S. Navy officer from the Naval Reserve Officer Training Corps\", \"Military\"], [\"First African-American to co-pastor with a white minister at the first interracial church\", \"Religion\"], [\"First African-American to receive a contract with a major American opera company\", \"Arts & Entertainment\"], [\"First known African-American comic book artist\", \"Arts & Entertainment\"], [\"First African-American reporter to attend a U.S. presidential news conference\", \"Social & Jobs\"], [\"First African-American member of the New York City Opera\", \"Arts & Entertainment\"], [\"First African-American U.S. Marine Corps officer\", \"Military\"], [\"First African-American Major League Baseball player of the modern era\", \"Education & Science\"], [\"First African-American consensus college All-American basketball player\", \"Education & Science\"], [\"First African-American artist to receive sole credit for a #1 hit on the Billboard charts\", \"Arts & Entertainment\"], [\"First comic book produced entirely by African-Americans\", \"Arts & Entertainment\"], [\"First African-American full-time faculty member at a predominantly white law school\", \"Law\"], [\"First African-American female member of the U.S. House and Senate press galleries\", \"Social & Jobs\"], [\"First African-American man to receive an Oscar\", \"Arts & Entertainment\"], [\"First African-American U.S. Navy aviator\", \"Military\"], [\"First African-American composer to have an opera performed by a major U.S. company\", \"Arts & Entertainment\"], [\"First African-American woman to win an Olympic gold medal\", \"Education & Science\"], [\"First African-American since Reconstruction to enroll at a traditionally white university of the South\", \"Education & Science\"], [\"First known African-American star of a regularly scheduled network television series\", \"Arts & Entertainment\"], [\"First African-American to star in network television sitcom\", \"Arts & Entertainment\"], [\"First African-American male to graduate from Oregon State College\", \"Education & Science\"], [\"First African-American female reporter to travel with a U.S. president (Harry S. Truman's election campaign)\", \"Social & Jobs\"], [\"First African-American graduate of the U.S. Naval Academy\", \"Military\"], [\"First African-American to hold rank of Ambassador of the United States\", \"Education & Science\"], [\"First African-American to win an MVP award in Major League Baseball\", \"Education & Science\"], [\"First African-American-owned and -operated radio station\", \"Arts & Entertainment\"], [\"First African-American woman president of an NAACP chapter nationwide\", \"Politics\"], [\"First African-American to win a Tony Award\", \"Arts & Entertainment\"], [\"First African-American to win Pulitzer Prize\", \"Arts & Entertainment\"], [\"First African-American to win Nobel Peace Prize\", \"Education & Science\"], [\"First African-American to receive a lifetime appointment as federal judge\", \"Law\"], [\"First African-American woman to compete on the world tennis tour\", \"Sports\"], [\"First African-American solo singer to have a #1 hit on the Billboard charts\", \"Arts & Entertainment\"], [\"First African-American delegate to the United Nations\", \"Politics\"], [\"First African-American NBA basketball players\", \"Education & Science\"], [\"First African-American named to the College Football Hall of Fame\", \"Education & Science\"], [\"First African-American quarterback to become a regular starter for a professional football team\", \"Sports\"], [\"First African-American driver in NASCAR\", \"Sports\"], [\"First African-American woman elected to a U.S. state senate\", \"Politics\"], [\"First African-American U.S. Marine Corps aviator\", \"Military\"], [\"First African-American woman to be nominated for a national political office\", \"Politics\"], [\"First African-American graduate from University of Arkansas for Medical Sciences\", \"Education & Science\"], [\"First African-American basketball player to play in the NBA All-Star Game\", \"Education & Science\"], [\"First African-American quarterback to play in the National Football League during the modern (post-World War II) era\", \"Education & Science\"], [\"First African-American U.S. Navy Diver\", \"Military\"], [\"First African-American woman to be nominated for the Academy Award for Best Actress\", \"Arts & Entertainment\"], [\"First individual African-American woman as subject on the cover of Life magazine\", \"Arts & Entertainment\"], [\"First African-American page for the U.S. Supreme Court, and first to be enrolled in the Capitol Page School\", \"Education & Science\"], [\"First African-American member of the Metropolitan Opera\", \"Arts & Entertainment\"], [\"First African-American male dancer in a major ballet company\", \"Arts & Entertainment\"], [\"First African-American singer to appear in a telecast opera\", \"Arts & Entertainment\"], [\"First African-American pilot of a scheduled US airline\", \"Social & Jobs\"], [\"First African-American to serve as a presidential executive assistant\", \"Military\"], [\"First African-American star of a nationwide network TV show\", \"Arts & Entertainment\"], [\"First African-American U.S. Secret Service agent\", \"Law\"], [\"First African-American to win the Cy Young Award as the top pitcher in Major League Baseball, in the award's inaugural year\", \"Education & Science\"], [\"First African-American woman Wimbledon Tennis Champion\", \"Sports\"], [\"First African-American assistant coach in the NFL\", \"Sports\"], [\"First African-American to win the Best Actor Award at the Cannes Film Festival\", \"Education & Science\"], [\"First African-American to win Major League Baseball's Gold Glove, in the award's inaugural year\", \"Education & Science\"], [\"First African-American to reach number 1 on the Billboard Hot 100\", \"Arts & Entertainment\"], [\"First African-American flight attendant\", \"Social & Jobs\"], [\"First African-American Grammy Award winners, in the award's inaugural year\", \"Arts & Entertainment\"], [\"First African-American television journalist\", \"Arts & Entertainment\"], [\"First African-American group to reach #1 on the Billboard Hot 100\", \"Arts & Entertainment\"], [\"First African-American to win a major national player of the year award in college basketball\", \"Education & Science\"], [\"First African-American U.S. presidential candidate\", \"Politics\"], [\"First African-American child to attend an all-white elementary school in the South\", \"Education & Science\"], [\"First African-American to win the Heisman Trophy\", \"Sports\"], [\"First African-American to serve on a U.S. district court\", \"Military\"], [\"First African-American tenor to sing leading roles for the Metropolitan Opera\", \"Arts & Entertainment\"], [\"First African-American delegate to the North Atlantic Treaty Organization\", \"Politics\"], [\"First African-American to go over Niagara Falls\", \"Social & Jobs\"], [\"First African-American to join the PGA Tour\", \"Sports\"], [\"First African-American to be inducted into the Baseball Hall of Fame\", \"Education & Science\"], [\"First African-American coach in Major League Baseball\", \"Education & Science\"], [\"First African-American attorney general of a state\", \"Military\"], [\"First African-American bank examiner for the United States Department of the Treasury\", \"Politics\"], [\"First African-American named as Time magazine's Man of the Year\", \"Arts & Entertainment\"], [\"First African-American police officer of the NYPD to be named a precinct commander\", \"Military\"], [\"First African-American to be named American League MVP\", \"Education & Science\"], [\"First African-American chess master\", \"Social & Jobs\"], [\"First African-American to appear as a series regular on a primetime dramatic television series\", \"Arts & Entertainment\"], [\"First African-American to be nominated for a Primetime Emmy Award\", \"Arts & Entertainment\"], [\"First African-Americans inducted to the Basketball Hall of Fame\", \"Education & Science\"], [\"First African-American to graduate from the U.S. Air Force Academy\", \"Military\"], [\"First African-American pilot for a major commercial airline\", \"Social & Jobs\"], [\"First movie with African-American interracial marriage\", \"Arts & Entertainment\"], [\"First African-American baseball player to be named the Major League Baseball World Series MVP\", \"Education & Science\"], [\"First African-American nationally syndicated cartoonist\", \"Arts & Entertainment\"], [\"First African-American title character of a comic book series\", \"Arts & Entertainment\"], [\"First African-American star of a network television drama\", \"Arts & Entertainment\"], [\"First African-American cast member of a daytime soap opera\", \"Arts & Entertainment\"], [\"First African-American Playboy Playmate centerfold\", \"Social & Jobs\"], [\"First African-American U.S. Air Force General\", \"Military\"], [\"First African-American woman Ambassador of the United States\", \"Education & Science\"], [\"First African-American NFL official\", \"Sports\"], [\"First African-American to win a national chess championship\", \"Social & Jobs\"], [\"First African-American United States Solicitor General\", \"Military\"], [\"First African-American male to be nominated for a Primetime Emmy Award and first African-American to win a Primetime Emmy Award\", \"Arts & Entertainment\"], [\"First African-American coach in the National Basketball Association\", \"Education & Science\"], [\"First African-American mayor of a U.S. city\", \"Politics\"], [\"First African-American model on the cover of a Vogue (British Vogue) magazine\", \"Arts & Entertainment\"], [\"First post-Reconstruction African-American elected to the U.S. Senate (and first African-American elected to the U.S. Senate by popular vote)\", \"Social & Jobs\"], [\"First African-American Cabinet secretary\", \"Politics\"], [\"First African-American Major League Baseball umpire\", \"Education & Science\"], [\"First African-American NFL broadcaster\", \"Sports\"], [\"First African-American fire commissioner of a major U.S. City\", \"Politics\"], [\"First African-American elected mayor of a large US city\", \"Politics\"], [\"First African-American appointed to the Supreme Court of the United States\", \"Politics\"], [\"First African-American selected for astronaut training\", \"Education & Science\"], [\"First African-American to be inducted into the Pro Football Hall of Fame\", \"Sports\"], [\"First African-American interracial kiss on network television\", \"Arts & Entertainment\"], [\"Best total drama interracial kiss on a network television drama\", \"Arts & Entertainment\"], [\"First African-American woman elected to U.S. House of Representatives\", \"Politics\"], [\"First African-American appointed as a United States Assistant Secretary of State\", \"Politics\"], [\"First African-American to start at quarterback in the modern era of professional football\", \"Education & Science\"], [\"First African-American commissioned officer awarded the Medal of Honor\", \"Military\"], [\"First fine-arts museum devoted to African-American work\", \"Social & Jobs\"], [\"First African-American actress to star in her own television series where she did not play a domestic worker\", \"Arts & Entertainment\"], [\"First African-American woman as Presidential candidate\", \"Politics\"], [\"First African-American woman reporter for The New York Times\", \"Social & Jobs\"], [\"First African-American starring character of a comic strip\", \"Arts & Entertainment\"], [\"First African-American actor to star in the lead role on a TV western series\", \"Arts & Entertainment\"], [\"First African-American superhero\", \"Arts & Entertainment\"], [\"First African-American graduate of Harvard Business School\", \"Education & Science\"], [\"First African-American director of a major Hollywood motion picture\", \"Arts & Entertainment\"], [\"First African-American founder of a classical training school and company of ballet\", \"Education & Science\"], [\"First African-American woman to appear on the Grand Ole Opry\", \"Arts & Entertainment\"], [\"First African-American to own a commercial airliner\", \"Social & Jobs\"], [\"First African-American woman to win a Primetime Emmy Award\", \"Arts & Entertainment\"], [\"First African-American to head an Episcopal diocese\", \"Religion\"], [\"First African-American U.S. Navy Master Diver\", \"Military\"], [\"First African-American member of the New York Stock Exchange\", \"Social & Jobs\"], [\"First African-American NCAA Division I basketball coach\", \"Education & Science\"], [\"First African-American contestant in the Miss America pageant\", \"Social & Jobs\"], [\"First African-American pitcher to be inducted into the Baseball Hall of Fame\", \"Education & Science\"], [\"First African-American president of the New York City Board of Education\", \"Education & Science\"], [\"First African-American to win a Golden Globe Award\", \"Arts & Entertainment\"], [\"First African-American female jockey in the United States\", \"Politics\"], [\"First African-American to appear by herself on the cover of Playboy\", \"Social & Jobs\"], [\"First African-American to campaign for the United States presidency in a major political party and to win a U.S. presidential primary/caucus\", \"Politics\"], [\"First African-American superhero to star in own comic-book series\", \"Arts & Entertainment\"], [\"First African-American National Basketball Association general manager\", \"Military\"], [\"First African-American interracial romantic kiss in a mainstream comics magazine\", \"Arts & Entertainment\"], [\"First African-American interracial male kiss on network television\", \"Arts & Entertainment\"], [\"First African-American inducted to the Basketball Hall of Fame\", \"Education & Science\"], [\"First African-American woman Broadway director\", \"Arts & Entertainment\"], [\"First African-American comic-book creator to receive a created by cover-credit\", \"Arts & Entertainment\"], [\"First African-American artistic director of a professional regional theater\", \"Arts & Entertainment\"], [\"First African-American Bond villain\", \"Arts & Entertainment\"], [\"First African-American Bond Girl in a James Bond movie\", \"Arts & Entertainment\"], [\"First African-American elected mayor of Los Angeles\", \"Politics\"], [\"First African-American psychologist in the U.S. Air Force\", \"Military\"], [\"First African-American woman mayor of a U.S. metropolitan city\", \"Politics\"], [\"First African-American model on the cover of American Vogue magazine\", \"Arts & Entertainment\"], [\"First African-American elected mayor, and first mayor, of Washington, D.C.\", \"Politics\"], [\"First African-American game show host\", \"Sports\"], [\"First African-American four-star general\", \"Military\"], [\"First African-American inducted to the Basketball Hall of Fame as a player\", \"Education & Science\"], [\"First African-American interracial couple in a TV-series cast\", \"Arts & Entertainment\"], [\"First African-American interracial romantic kiss in a color comic book\", \"Arts & Entertainment\"], [\"First African-American manager in Major League Baseball\", \"Education & Science\"], [\"First African-American model on the cover of Elle magazine\", \"Arts & Entertainment\"], [\"First African-American psychologist in the U.S. Navy\", \"Military\"], [\"First African-American to play in a men's major golf championship\", \"Sports\"], [\"First African-American to be named Super Bowl MVP in NFL\", \"Education & Science\"], [\"First African-American women named as Time magazine's Person of the Year\", \"Arts & Entertainment\"], [\"First African-American woman elected officer of international labor union\", \"Military\"], [\"First African-American appointed as a judge in Federal District Court in Virginia\", \"Law\"], [\"First African-American, and first woman, appointed director of the Peace Corps\", \"Arts & Entertainment\"], [\"First African-American drafted to play professional basketball, first woman to dunk in a professional women's game\", \"Education & Science\"], [\"First African-American woman in the U.S. Cabinet\", \"Politics\"], [\"First African-American woman whose signature appeared on U.S. currency\", \"Social & Jobs\"], [\"First African-American publisher of mainstream gay publication\", \"Arts & Entertainment\"], [\"First African-American woman to join the Daughters of the American Revolution\", \"Social & Jobs\"], [\"First African-American Major League Baseball general manager\", \"Military\"], [\"First African-American woman to be ordained as an Episcopal priest\", \"Religion\"], [\"First African-American broadcast network news anchor\", \"Arts & Entertainment\"], [\"First African-American woman pilot for a major commercial airline\", \"Social & Jobs\"], [\"First African-American U.S. Marine Corps general officer\", \"Military\"], [\"First African-American to win a Daytime Emmy Award for lead actor in a soap opera\", \"Arts & Entertainment\"], [\"First African-American woman ordained in the Lutheran Church in America (LCA), the largest of three denominations that later combined to form the Evangelical Lutheran Church in America\", \"Religion\"], [\"First African-American head coach of a NCAA Division I-A football program\", \"Sports\"], [\"First African-American-oriented cable channel\", \"Arts & Entertainment\"], [\"First African-American to play in the NHL\", \"Sports\"], [\"First African-American to receive the Pulitzer Prize for Drama\", \"Arts & Entertainment\"], [\"First African-American inducted to the Basketball Hall of Fame as a coach\", \"Education & Science\"], [\"First African-American U.S. Army four-star General\", \"Military\"], [\"First African-American woman to become a principal dancer of a major American ballet company\", \"Arts & Entertainment\"], [\"First African-American astronaut\", \"Education & Science\"], [\"First African-American mayor of Chicago\", \"Politics\"], [\"First African-American Miss America\", \"Social & Jobs\"], [\"First African-American owners of a major metropolitan newspaper\", \"Social & Jobs\"], [\"First African-American artist to have a video shown on MTV\", \"Arts & Entertainment\"], [\"First African-American to win a delegate-awarding U.S. presidential primary/caucus\", \"Politics\"], [\"First African-American New York City Police Commissioner\", \"Law\"], [\"First African-American to become a member of the U.S. Navy's Blue Angels precision flying team\", \"Military\"], [\"First African-American woman general\", \"Military\"], [\"First African-American Formula One racecar driver\", \"Sports\"], [\"First African-American musicians inducted into the Rock and Roll Hall of Fame, in the inaugural class\", \"Arts & Entertainment\"], [\"First African-American woman, and first woman, inducted into the Rock and Roll Hall of Fame\", \"Arts & Entertainment\"], [\"First African-American Radio City Music Hall Rockette\", \"Arts & Entertainment\"], [\"First African-American man to sail around the world\", \"Social & Jobs\"], [\"First African-American woman elected to a U.S. judgeship, and first appointed to a state supreme court\", \"Law\"], [\"First African-American candidate for President of the United States to obtain ballot access in all 50 states\", \"Education & Science\"], [\"First African-American NFL referee\", \"Sports\"], [\"First African-American NFL starting quarterback to win a Super Bowl\", \"Sports\"], [\"First African-American NFL coach of the modern era\", \"Education & Science\"], [\"First African-American mayor of New York City\", \"Politics\"], [\"First African-American Chairman of the Joint Chiefs of Staff\", \"Politics\"], [\"First African-American woman, and first woman, ordained bishop in the Episcopal Church\", \"Religion\"], [\"First African-American Chairman of the Democratic National Committee\", \"Politics\"], [\"First elected African-American governor\", \"Politics\"], [\"First African-American elected president of the Harvard Law Review\", \"Law\"], [\"First African-American Miss USA\", \"Social & Jobs\"], [\"First African-American Playboy Playmate of the Year\", \"Social & Jobs\"], [\"First African-American woman to become a principal dancer at Houston Ballet\", \"Arts & Entertainment\"], [\"First African-American nominated for the Academy Award for Best Director\", \"Arts & Entertainment\"], [\"First African-American to qualify for the Indianapolis 500 auto race\", \"Sports\"], [\"First African-American woman mayor of Washington, D.C.\", \"Politics\"], [\"First African-American NBA Coach of the Year\", \"Sports\"], [\"First African-American woman astronaut\", \"Education & Science\"], [\"First African-American woman elected to U.S. Senate\", \"Politics\"], [\"First African-American woman to moderate a Presidential debate\", \"Education & Science\"], [\"First African-American Major League Baseball manager to reach (and win) the World Series\", \"Education & Science\"], [\"First African-American woman appointed U.S. Secretary of Energy\", \"Politics\"], [\"First African-American to win the Nobel Prize for Literature\", \"Education & Science\"], [\"First African-American woman named Poet Laureate of the United States\", \"Education & Science\"], [\"First African-American appointed Surgeon General of the United States\", \"Military\"], [\"First African-American appointed Director of the National Drug Control Policy\", \"Arts & Entertainment\"], [\"First African-American United States Secretary of Commerce\", \"Politics\"], [\"First African-American to serve as home plate umpire for World Series game\", \"Military\"], [\"First African-American to be inducted as a member of the Grand Ole Opry\", \"Arts & Entertainment\"], [\"First African-American woman director of a major-studio movie\", \"Arts & Entertainment\"], [\"First African-American to win the United States Amateur Championship\", \"Politics\"], [\"First African-American inductee to the National Radio Hall of Fame\", \"Arts & Entertainment\"], [\"First African-American Sergeant Major of the Army\", \"Military\"], [\"First African-American Miss Universe\", \"Social & Jobs\"], [\"First African-American, and first person, to have a song to debut at number one on the Billboard Hot 100 chart\", \"Arts & Entertainment\"], [\"First African-American U.S. Navy four-star admiral\", \"Military\"], [\"First African-American to win a men's major golf championship\", \"Sports\"], [\"First African-American model to appear on the cover of Sports Illustrated Swimsuit Edition\", \"Education & Science\"], [\"First African-American UFC champion\", \"Sports\"], [\"First African-American actor to star in the lead role in a comic-book adaptation movie (Spawn)\", \"Arts & Entertainment\"], [\"First African-American Director of the National Park Service\", \"Arts & Entertainment\"], [\"First African-American appointed U.S. Secretary of Labor\", \"Politics\"], [\"First African-American woman rear admiral in the U.S. Navy\", \"Military\"], [\"First African-American Master Chief Petty Officer of the Coast Guard\", \"Military\"], [\"First African-American to play in the Presidents Cup\", \"Politics\"], [\"First African-American woman tenured full professor at Johns Hopkins University\", \"Education & Science\"], [\"First African-American to be awarded the International Grandmaster title in chess\", \"Social & Jobs\"], [\"First African-American Sergeant Major of the Marine Corps\", \"Military\"], [\"First African-American CEO of a Fortune 500 company\", \"Social & Jobs\"], [\"First African-American woman university president\", \"Education & Science\"], [\"First African-American nominated for Vice President of the United States by a Federal Election Commission-recognized and federally funded political party\", \"Politics\"], [\"First African-American to be inducted into the Country Music Hall of Fame\", \"Arts & Entertainment\"], [\"First African-American Secretary of State\", \"Politics\"], [\"First African-American president of the United States Conference of Catholic Bishops\", \"Religion\"], [\"First African-American president of the Unitarian Universalist Association\", \"Politics\"], [\"First African-American president of an Ivy League university\", \"Education & Science\"], [\"First African-American woman to win the ASCAP Pop Music Songwriter of the Year award\", \"Arts & Entertainment\"], [\"First African-American woman National Security Advisor\", \"Politics\"], [\"First African-American billionaire\", \"Social & Jobs\"], [\"First African-American woman billionaire\", \"Social & Jobs\"], [\"First African-American to become majority owner of a U.S. major sports league team\", \"Social & Jobs\"], [\"First African-American woman combat pilot in the U.S. Armed Services\", \"Social & Jobs\"], [\"First African-American to be ranked #1 in tennis\", \"Sports\"], [\"First African-American to be named year-end world champion by the International Tennis Federation\", \"Education & Science\"], [\"First African-American Arena Football League head coach to win ArenaBowl\", \"Sports\"], [\"First African-American general manager in the National Football League\", \"Military\"], [\"First African-American woman to win the Academy Award for Best Actress\", \"Arts & Entertainment\"], [\"First African-American to win a Career Grand Slam in tennis\", \"Sports\"], [\"First African-American American Bar Association president\", \"Law\"], [\"First African-American to win Broadway theater's Tony Award for Best Lead Actress in a Play\", \"Arts & Entertainment\"], [\"First African-American inducted into the World Golf Hall of Fame\", \"Sports\"], [\"First African-American woman Secretary of State\", \"Politics\"], [\"First African-American woman U.S. Coast Guard aviator\", \"Politics\"], [\"First African-American to command a United States Marine Corps division\", \"Military\"], [\"First African-American to reach the peak of Mount Everest\", \"Social & Jobs\"], [\"First African-American woman to receive Dharma transmission in Zen Buddhism\", \"Religion\"], [\"First African-American Quarterback inducted into the Pro Football Hall of Fame\", \"Sports\"], [\"First known African-American woman to reach the North Pole\", \"Social & Jobs\"], [\"First African-American White House Chief Usher\", \"Politics\"], [\"First African-American NFL coach to win a Super Bowl\", \"Sports\"], [\"First African-American to be nominated as a major-party U.S. presidential candidate\", \"Politics\"], [\"First African-American elected President of the United States\", \"Politics\"], [\"First African-American to referee a Super Bowl game\", \"Sports\"], [\"First African-American woman elected Speaker of a state House of Representatives\", \"Politics\"], [\"First African-American to be appointed to the United States Senate by a state governor\", \"Politics\"], [\"First African-American woman combat pilot in the United States Air Force\", \"Military\"], [\"First African-American First Lady of the United States\", \"Politics\"], [\"First African-American chair of the Republican National Committee\", \"Politics\"], [\"First African-American United States Attorney General\", \"Military\"], [\"First African-American woman United States Ambassador to the United Nations\", \"Education & Science\"], [\"First African-American United States Trade Representative\", \"Politics\"], [\"First African-American woman Administrator of the Environmental Protection Agency\", \"Politics\"], [\"First African-American White House Social Secretary\", \"Politics\"], [\"First African-American to appear by himself on a circulating U.S. coin\", \"Social & Jobs\"], [\"First African-American to win the Pulitzer Prize for History\", \"Arts & Entertainment\"], [\"First African-American Administrator of the National Aeronautics and Space Administration\", \"Education & Science\"], [\"First African-American woman rabbi\", \"Religion\"], [\"First African-American woman CEO of a Fortune 500 company\", \"Social & Jobs\"], [\"First African-American doubles team to be named year-end world champion by the International Tennis Federation\", \"Education & Science\"], [\"First African-American to win Stanley Cup\", \"Sports\"], [\"First African-American Director of the Federal Bureau of Prisons\", \"Military\"], [\"First African-American admitted to the Reconstructionist Rabbinical College\", \"Religion\"], [\"First African-American to be re-elected President of the United States\", \"Politics\"], [\"First African-American Combatant Commander of United States Central Command\", \"Military\"], [\"First African-American elected president of the Southern Baptist Convention (SBC)\", \"Politics\"], [\"First African-American to direct an animated film with a budget in excess of $100 million\", \"Social & Jobs\"], [\"First African-American U.S. Senator from the former Confederacy since Reconstruction\", \"Politics\"], [\"First African-American president of the Academy of Motion Picture Arts and Sciences\", \"Arts & Entertainment\"], [\"First African-American United States Secretary of Homeland Security\", \"Politics\"], [\"First African-American woman four-star admiral\", \"Military\"], [\"First African-American senator to be elected in the South since Reconstruction\", \"Politics\"], [\"First African-American woman to be nominated for Best Director by the Golden Globe Awards\", \"Arts & Entertainment\"], [\"First African-American woman Attorney General of the United States\", \"Military\"], [\"First African-American to lead a major intelligence agency\", \"Politics\"], [\"First African-American to be inducted into the NASCAR Hall of Fame\", \"Sports\"], [\"First African-American commissioner of a major North American sports league\", \"Politics\"], [\"First African-American elected as presiding bishop of the Episcopal Church\", \"Religion\"], [\"First African-American woman American Bar Association president\", \"Law\"], [\"First African-American president of a major broadcast TV network\", \"Arts & Entertainment\"], [\"First African-American Librarian of Congress\", \"Education & Science\"], [\"First African-American CEO of a Major League Baseball team\", \"Social & Jobs\"], [\"First African-American artist commissioned for US president portrait to be displayed in the Smithsonian\", \"Arts & Entertainment\"], [\"First African-American artist commissioned for US first-lady portrait to be displayed in the Smithsonian\", \"Arts & Entertainment\"], [\"First African-American president of the American Psychiatric Association\", \"Politics\"], [\"First African-American woman to be major party nominee for state governor\", \"Politics\"], [\"First African-American superintendent of the United States Military Academy\", \"Military\"], [\"First African-American woman U.S. Marine Corps general officer\", \"Military\"], [\"First African-American to win an Academy Award for Best Costume Design\", \"Arts & Entertainment\"], [\"First African-American to win an Academy Award for Best Production Design\", \"Arts & Entertainment\"], [\"First member of the British royal family of African-American descent by birth\", \"Social & Jobs\"], [\"First African-American secretary of the Smithsonian Institution\", \"Arts & Entertainment\"], [\"First African-American female director of an Association of Zoos and Aquariums-accredited institution\", \"Arts & Entertainment\"], [\"First African-American full-time curator at the Guggenheim\", \"Arts & Entertainment\"]], \"hovertemplate\": \"<b>%{hovertext}</b><br><br>year=%{x}<br>category_num=%{y}<br>accomplishment=%{customdata[0]}<br>category=%{customdata[1]}<extra></extra>\", \"hovertext\": [\"Social & Jobs\", \"Arts & Entertainment\", \"Social & Jobs\", \"Arts & Entertainment\", \"Religion\", \"Social & Jobs\", \"Military\", \"Education & Science\", \"Religion\", \"Social & Jobs\", \"Religion\", \"Religion\", \"Religion\", \"Religion\", \"Religion\", \"Education & Science\", \"Military\", \"Education & Science\", \"Arts & Entertainment\", \"Military\", \"Education & Science\", \"Law\", \"Education & Science\", \"Politics\", \"Education & Science\", \"Religion\", \"Arts & Entertainment\", \"Religion\", \"Education & Science\", \"Arts & Entertainment\", \"Education & Science\", \"Military\", \"Politics\", \"Education & Science\", \"Military\", \"Arts & Entertainment\", \"Education & Science\", \"Education & Science\", \"Military\", \"Law\", \"Military\", \"Education & Science\", \"Military\", \"Military\", \"Politics\", \"Politics\", \"Politics\", \"Politics\", \"Education & Science\", \"Social & Jobs\", \"Education & Science\", \"Military\", \"Military\", \"Military\", \"Politics\", \"Politics\", \"Education & Science\", \"Politics\", \"Religion\", \"Education & Science\", \"Military\", \"Military\", \"Education & Science\", \"Arts & Entertainment\", \"Military\", \"Social & Jobs\", \"Education & Science\", \"Social & Jobs\", \"Education & Science\", \"Education & Science\", \"Military\", \"Politics\", \"Politics\", \"Social & Jobs\", \"Education & Science\", \"Education & Science\", \"Military\", \"Military\", \"Arts & Entertainment\", \"Education & Science\", \"Politics\", \"Education & Science\", \"Military\", \"Sports\", \"Social & Jobs\", \"Education & Science\", \"Sports\", \"Arts & Entertainment\", \"Politics\", \"Social & Jobs\", \"Education & Science\", \"Social & Jobs\", \"Social & Jobs\", \"Sports\", \"Education & Science\", \"Social & Jobs\", \"Social & Jobs\", \"Social & Jobs\", \"Military\", \"Law\", \"Military\", \"Politics\", \"Sports\", \"Military\", \"Sports\", \"Education & Science\", \"Law\", \"Military\", \"Sports\", \"Religion\", \"Social & Jobs\", \"Sports\", \"Education & Science\", \"Education & Science\", \"Military\", \"Military\", \"Arts & Entertainment\", \"Politics\", \"Military\", \"Sports\", \"Arts & Entertainment\", \"Law\", \"Politics\", \"Politics\", \"Politics\", \"Social & Jobs\", \"Arts & Entertainment\", \"Politics\", \"Politics\", \"Politics\", \"Politics\", \"Arts & Entertainment\", \"Arts & Entertainment\", \"Social & Jobs\", \"Military\", \"Military\", \"Military\", \"Military\", \"Politics\", \"Arts & Entertainment\", \"Military\", \"Military\", \"Religion\", \"Arts & Entertainment\", \"Arts & Entertainment\", \"Social & Jobs\", \"Arts & Entertainment\", \"Military\", \"Education & Science\", \"Education & Science\", \"Arts & Entertainment\", \"Arts & Entertainment\", \"Law\", \"Social & Jobs\", \"Arts & Entertainment\", \"Military\", \"Arts & Entertainment\", \"Education & Science\", \"Education & Science\", \"Arts & Entertainment\", \"Arts & Entertainment\", \"Education & Science\", \"Social & Jobs\", \"Military\", \"Education & Science\", \"Education & Science\", \"Arts & Entertainment\", \"Politics\", \"Arts & Entertainment\", \"Arts & Entertainment\", \"Education & Science\", \"Law\", \"Sports\", \"Arts & Entertainment\", \"Politics\", \"Education & Science\", \"Education & Science\", \"Sports\", \"Sports\", \"Politics\", \"Military\", \"Politics\", \"Education & Science\", \"Education & Science\", \"Education & Science\", \"Military\", \"Arts & Entertainment\", \"Arts & Entertainment\", \"Education & Science\", \"Arts & Entertainment\", \"Arts & Entertainment\", \"Arts & Entertainment\", \"Social & Jobs\", \"Military\", \"Arts & Entertainment\", \"Law\", \"Education & Science\", \"Sports\", \"Sports\", \"Education & Science\", \"Education & Science\", \"Arts & Entertainment\", \"Social & Jobs\", \"Arts & Entertainment\", \"Arts & Entertainment\", \"Arts & Entertainment\", \"Education & Science\", \"Politics\", \"Education & Science\", \"Sports\", \"Military\", \"Arts & Entertainment\", \"Politics\", \"Social & Jobs\", \"Sports\", \"Education & Science\", \"Education & Science\", \"Military\", \"Politics\", \"Arts & Entertainment\", \"Military\", \"Education & Science\", \"Social & Jobs\", \"Arts & Entertainment\", \"Arts & Entertainment\", \"Education & Science\", \"Military\", \"Social & Jobs\", \"Arts & Entertainment\", \"Education & Science\", \"Arts & Entertainment\", \"Arts & Entertainment\", \"Arts & Entertainment\", \"Arts & Entertainment\", \"Social & Jobs\", \"Military\", \"Education & Science\", \"Sports\", \"Social & Jobs\", \"Military\", \"Arts & Entertainment\", \"Education & Science\", \"Politics\", \"Arts & Entertainment\", \"Social & Jobs\", \"Politics\", \"Education & Science\", \"Sports\", \"Politics\", \"Politics\", \"Politics\", \"Education & Science\", \"Sports\", \"Arts & Entertainment\", \"Arts & Entertainment\", \"Politics\", \"Politics\", \"Education & Science\", \"Military\", \"Social & Jobs\", \"Arts & Entertainment\", \"Politics\", \"Social & Jobs\", \"Arts & Entertainment\", \"Arts & Entertainment\", \"Arts & Entertainment\", \"Education & Science\", \"Arts & Entertainment\", \"Education & Science\", \"Arts & Entertainment\", \"Social & Jobs\", \"Arts & Entertainment\", \"Religion\", \"Military\", \"Social & Jobs\", \"Education & Science\", \"Social & Jobs\", \"Education & Science\", \"Education & Science\", \"Arts & Entertainment\", \"Politics\", \"Social & Jobs\", \"Politics\", \"Arts & Entertainment\", \"Military\", \"Arts & Entertainment\", \"Arts & Entertainment\", \"Education & Science\", \"Arts & Entertainment\", \"Arts & Entertainment\", \"Arts & Entertainment\", \"Arts & Entertainment\", \"Arts & Entertainment\", \"Politics\", \"Military\", \"Politics\", \"Arts & Entertainment\", \"Politics\", \"Sports\", \"Military\", \"Education & Science\", \"Arts & Entertainment\", \"Arts & Entertainment\", \"Education & Science\", \"Arts & Entertainment\", \"Military\", \"Sports\", \"Education & Science\", \"Arts & Entertainment\", \"Military\", \"Law\", \"Arts & Entertainment\", \"Education & Science\", \"Politics\", \"Social & Jobs\", \"Arts & Entertainment\", \"Social & Jobs\", \"Military\", \"Religion\", \"Arts & Entertainment\", \"Social & Jobs\", \"Military\", \"Arts & Entertainment\", \"Religion\", \"Sports\", \"Arts & Entertainment\", \"Sports\", \"Arts & Entertainment\", \"Education & Science\", \"Military\", \"Arts & Entertainment\", \"Education & Science\", \"Politics\", \"Social & Jobs\", \"Social & Jobs\", \"Arts & Entertainment\", \"Politics\", \"Law\", \"Military\", \"Military\", \"Sports\", \"Arts & Entertainment\", \"Arts & Entertainment\", \"Arts & Entertainment\", \"Social & Jobs\", \"Law\", \"Education & Science\", \"Sports\", \"Sports\", \"Education & Science\", \"Politics\", \"Politics\", \"Religion\", \"Politics\", \"Politics\", \"Law\", \"Social & Jobs\", \"Social & Jobs\", \"Arts & Entertainment\", \"Arts & Entertainment\", \"Sports\", \"Politics\", \"Sports\", \"Education & Science\", \"Politics\", \"Education & Science\", \"Education & Science\", \"Politics\", \"Education & Science\", \"Education & Science\", \"Military\", \"Arts & Entertainment\", \"Politics\", \"Military\", \"Arts & Entertainment\", \"Arts & Entertainment\", \"Politics\", \"Arts & Entertainment\", \"Military\", \"Social & Jobs\", \"Arts & Entertainment\", \"Military\", \"Sports\", \"Education & Science\", \"Sports\", \"Arts & Entertainment\", \"Arts & Entertainment\", \"Politics\", \"Military\", \"Military\", \"Politics\", \"Education & Science\", \"Social & Jobs\", \"Military\", \"Social & Jobs\", \"Education & Science\", \"Politics\", \"Arts & Entertainment\", \"Politics\", \"Religion\", \"Politics\", \"Education & Science\", \"Arts & Entertainment\", \"Politics\", \"Social & Jobs\", \"Social & Jobs\", \"Social & Jobs\", \"Social & Jobs\", \"Sports\", \"Education & Science\", \"Sports\", \"Military\", \"Arts & Entertainment\", \"Sports\", \"Law\", \"Arts & Entertainment\", \"Sports\", \"Politics\", \"Politics\", \"Military\", \"Social & Jobs\", \"Religion\", \"Sports\", \"Social & Jobs\", \"Politics\", \"Sports\", \"Politics\", \"Politics\", \"Sports\", \"Politics\", \"Politics\", \"Military\", \"Politics\", \"Politics\", \"Military\", \"Education & Science\", \"Politics\", \"Politics\", \"Politics\", \"Social & Jobs\", \"Arts & Entertainment\", \"Education & Science\", \"Religion\", \"Social & Jobs\", \"Education & Science\", \"Sports\", \"Military\", \"Religion\", \"Politics\", \"Military\", \"Politics\", \"Social & Jobs\", \"Politics\", \"Arts & Entertainment\", \"Politics\", \"Military\", \"Politics\", \"Arts & Entertainment\", \"Military\", \"Politics\", \"Sports\", \"Politics\", \"Religion\", \"Law\", \"Arts & Entertainment\", \"Education & Science\", \"Social & Jobs\", \"Arts & Entertainment\", \"Arts & Entertainment\", \"Politics\", \"Politics\", \"Military\", \"Military\", \"Arts & Entertainment\", \"Arts & Entertainment\", \"Social & Jobs\", \"Arts & Entertainment\", \"Arts & Entertainment\", \"Arts & Entertainment\"], \"legendgroup\": \"\", \"marker\": {\"color\": \"#636efa\", \"symbol\": \"circle\"}, \"mode\": \"markers\", \"name\": \"\", \"orientation\": \"v\", \"showlegend\": false, \"type\": \"scatter\", \"x\": [1738, 1760, 1768, 1773, 1773, 1775, 1778, 1783, 1785, 1792, 1793, 1794, 1804, 1807, 1816, 1821, 1822, 1823, 1827, 1836, 1837, 1845, 1847, 1847, 1849, 1851, 1853, 1854, 1854, 1858, 1858, 1861, 1861, 1862, 1862, 1863, 1863, 1864, 1865, 1865, 1865, 1866, 1866, 1866, 1868, 1868, 1868, 1869, 1869, 1870, 1870, 1870, 1870, 1872, 1872, 1872, 1874, 1874, 1875, 1876, 1877, 1878, 1878, 1879, 1880, 1881, 1882, 1883, 1884, 1884, 1884, 1884, 1884, 1886, 1890, 1890, 1890, 1891, 1892, 1892, 1895, 1895, 1898, 1899, 1901, 1902, 1902, 1903, 1903, 1904, 1904, 1906, 1907, 1908, 1908, 1908, 1910, 1911, 1911, 1911, 1914, 1915, 1916, 1916, 1917, 1917, 1919, 1919, 1920, 1920, 1921, 1921, 1921, 1924, 1925, 1927, 1927, 1928, 1928, 1929, 1931, 1931, 1932, 1934, 1934, 1935, 1936, 1936, 1937, 1938, 1938, 1939, 1940, 1940, 1940, 1941, 1942, 1942, 1943, 1943, 1944, 1944, 1944, 1944, 1944, 1944, 1945, 1945, 1947, 1947, 1947, 1947, 1947, 1947, 1948, 1948, 1948, 1948, 1948, 1948, 1948, 1948, 1948, 1949, 1949, 1949, 1949, 1949, 1950, 1950, 1950, 1950, 1950, 1950, 1950, 1950, 1951, 1951, 1952, 1952, 1952, 1952, 1952, 1953, 1953, 1954, 1954, 1954, 1954, 1955, 1955, 1955, 1955, 1955, 1956, 1956, 1956, 1957, 1957, 1957, 1957, 1958, 1958, 1959, 1959, 1959, 1959, 1960, 1960, 1961, 1961, 1961, 1961, 1961, 1961, 1962, 1962, 1962, 1963, 1963, 1963, 1963, 1963, 1963, 1963, 1963, 1963, 1964, 1964, 1964, 1965, 1965, 1965, 1965, 1965, 1965, 1965, 1965, 1965, 1965, 1966, 1966, 1966, 1966, 1966, 1966, 1966, 1966, 1966, 1967, 1967, 1967, 1967, 1967, 1968, 1968, 1968, 1968, 1968, 1968, 1968, 1968, 1968, 1968, 1968, 1969, 1969, 1969, 1969, 1969, 1969, 1970, 1970, 1970, 1970, 1970, 1970, 1971, 1971, 1971, 1971, 1971, 1972, 1972, 1972, 1972, 1972, 1972, 1972, 1972, 1973, 1973, 1973, 1973, 1973, 1973, 1974, 1975, 1975, 1975, 1975, 1975, 1975, 1975, 1975, 1975, 1975, 1975, 1975, 1976, 1976, 1977, 1977, 1977, 1977, 1977, 1977, 1977, 1977, 1978, 1978, 1979, 1979, 1979, 1979, 1980, 1981, 1982, 1982, 1982, 1982, 1983, 1983, 1983, 1983, 1983, 1984, 1984, 1985, 1985, 1986, 1986, 1987, 1987, 1987, 1988, 1988, 1988, 1988, 1989, 1989, 1989, 1989, 1989, 1990, 1990, 1990, 1990, 1990, 1991, 1991, 1991, 1991, 1992, 1992, 1992, 1992, 1993, 1993, 1993, 1993, 1993, 1993, 1993, 1993, 1994, 1994, 1995, 1995, 1995, 1995, 1996, 1997, 1997, 1997, 1997, 1997, 1998, 1998, 1998, 1998, 1998, 1999, 1999, 1999, 1999, 2000, 2000, 2001, 2001, 2001, 2001, 2001, 2001, 2001, 2001, 2002, 2002, 2002, 2002, 2002, 2002, 2002, 2003, 2003, 2004, 2004, 2005, 2005, 2006, 2006, 2006, 2006, 2007, 2007, 2007, 2008, 2008, 2008, 2008, 2008, 2008, 2009, 2009, 2009, 2009, 2009, 2009, 2009, 2009, 2009, 2009, 2009, 2009, 2009, 2010, 2011, 2011, 2012, 2012, 2012, 2012, 2013, 2013, 2013, 2014, 2014, 2014, 2015, 2015, 2015, 2015, 2015, 2015, 2016, 2016, 2017, 2018, 2018, 2018, 2018, 2018, 2018, 2019, 2019, 2019, 2019, 2019, 2019], \"xaxis\": \"x\", \"y\": [6, 0, 6, 0, 5, 6, 3, 1, 5, 6, 5, 5, 5, 5, 5, 1, 3, 1, 0, 3, 1, 2, 1, 4, 1, 5, 0, 5, 1, 0, 1, 3, 4, 1, 3, 0, 1, 1, 3, 2, 3, 1, 3, 3, 4, 4, 4, 4, 1, 6, 1, 3, 3, 3, 4, 4, 1, 4, 5, 1, 3, 3, 1, 0, 3, 6, 1, 6, 1, 1, 3, 4, 4, 6, 1, 1, 3, 3, 0, 1, 4, 1, 3, 7, 6, 1, 7, 0, 4, 6, 1, 6, 6, 7, 1, 6, 6, 6, 3, 2, 3, 4, 7, 3, 7, 1, 2, 3, 7, 5, 6, 7, 1, 1, 3, 3, 0, 4, 3, 7, 0, 2, 4, 4, 4, 6, 0, 4, 4, 4, 4, 0, 0, 6, 3, 3, 3, 3, 4, 0, 3, 3, 5, 0, 0, 6, 0, 3, 1, 1, 0, 0, 2, 6, 0, 3, 0, 1, 1, 0, 0, 1, 6, 3, 1, 1, 0, 4, 0, 0, 1, 2, 7, 0, 4, 1, 1, 7, 7, 4, 3, 4, 1, 1, 1, 3, 0, 0, 1, 0, 0, 0, 6, 3, 0, 2, 1, 7, 7, 1, 1, 0, 6, 0, 0, 0, 1, 4, 1, 7, 3, 0, 4, 6, 7, 1, 1, 3, 4, 0, 3, 1, 6, 0, 0, 1, 3, 6, 0, 1, 0, 0, 0, 0, 6, 3, 1, 7, 6, 3, 0, 1, 4, 0, 6, 4, 1, 7, 4, 4, 4, 1, 7, 0, 0, 4, 4, 1, 3, 6, 0, 4, 6, 0, 0, 0, 1, 0, 1, 0, 6, 0, 5, 3, 6, 1, 6, 1, 1, 0, 4, 6, 4, 0, 3, 0, 0, 1, 0, 0, 0, 0, 0, 4, 3, 4, 0, 4, 7, 3, 1, 0, 0, 1, 0, 3, 7, 1, 0, 3, 2, 0, 1, 4, 6, 0, 6, 3, 5, 0, 6, 3, 0, 5, 7, 0, 7, 0, 1, 3, 0, 1, 4, 6, 6, 0, 4, 2, 3, 3, 7, 0, 0, 0, 6, 2, 1, 7, 7, 1, 4, 4, 5, 4, 4, 2, 6, 6, 0, 0, 7, 4, 7, 1, 4, 1, 1, 4, 1, 1, 3, 0, 4, 3, 0, 0, 4, 0, 3, 6, 0, 3, 7, 1, 7, 0, 0, 4, 3, 3, 4, 1, 6, 3, 6, 1, 4, 0, 4, 5, 4, 1, 0, 4, 6, 6, 6, 6, 7, 1, 7, 3, 0, 7, 2, 0, 7, 4, 4, 3, 6, 5, 7, 6, 4, 7, 4, 4, 7, 4, 4, 3, 4, 4, 3, 1, 4, 4, 4, 6, 0, 1, 5, 6, 1, 7, 3, 5, 4, 3, 4, 6, 4, 0, 4, 3, 4, 0, 3, 4, 7, 4, 5, 2, 0, 1, 6, 0, 0, 4, 4, 3, 3, 0, 0, 6, 0, 0, 0], \"yaxis\": \"y\"}],\n",
       "                        {\"legend\": {\"tracegroupgap\": 0}, \"margin\": {\"t\": 60}, \"template\": {\"data\": {\"bar\": [{\"error_x\": {\"color\": \"#2a3f5f\"}, \"error_y\": {\"color\": \"#2a3f5f\"}, \"marker\": {\"line\": {\"color\": \"#E5ECF6\", \"width\": 0.5}}, \"type\": \"bar\"}], \"barpolar\": [{\"marker\": {\"line\": {\"color\": \"#E5ECF6\", \"width\": 0.5}}, \"type\": \"barpolar\"}], \"carpet\": [{\"aaxis\": {\"endlinecolor\": \"#2a3f5f\", \"gridcolor\": \"white\", \"linecolor\": \"white\", \"minorgridcolor\": \"white\", \"startlinecolor\": \"#2a3f5f\"}, \"baxis\": {\"endlinecolor\": \"#2a3f5f\", \"gridcolor\": \"white\", \"linecolor\": \"white\", \"minorgridcolor\": \"white\", \"startlinecolor\": \"#2a3f5f\"}, \"type\": \"carpet\"}], \"choropleth\": [{\"colorbar\": {\"outlinewidth\": 0, \"ticks\": \"\"}, \"type\": \"choropleth\"}], \"contour\": [{\"colorbar\": {\"outlinewidth\": 0, \"ticks\": \"\"}, \"colorscale\": [[0.0, \"#0d0887\"], [0.1111111111111111, \"#46039f\"], [0.2222222222222222, \"#7201a8\"], [0.3333333333333333, \"#9c179e\"], [0.4444444444444444, \"#bd3786\"], [0.5555555555555556, \"#d8576b\"], [0.6666666666666666, \"#ed7953\"], [0.7777777777777778, \"#fb9f3a\"], [0.8888888888888888, \"#fdca26\"], [1.0, \"#f0f921\"]], \"type\": \"contour\"}], \"contourcarpet\": [{\"colorbar\": {\"outlinewidth\": 0, \"ticks\": \"\"}, \"type\": \"contourcarpet\"}], \"heatmap\": [{\"colorbar\": {\"outlinewidth\": 0, \"ticks\": \"\"}, \"colorscale\": [[0.0, \"#0d0887\"], [0.1111111111111111, \"#46039f\"], [0.2222222222222222, \"#7201a8\"], [0.3333333333333333, \"#9c179e\"], [0.4444444444444444, \"#bd3786\"], [0.5555555555555556, \"#d8576b\"], [0.6666666666666666, \"#ed7953\"], [0.7777777777777778, \"#fb9f3a\"], [0.8888888888888888, \"#fdca26\"], [1.0, \"#f0f921\"]], \"type\": \"heatmap\"}], \"heatmapgl\": [{\"colorbar\": {\"outlinewidth\": 0, \"ticks\": \"\"}, \"colorscale\": [[0.0, \"#0d0887\"], [0.1111111111111111, \"#46039f\"], [0.2222222222222222, \"#7201a8\"], [0.3333333333333333, \"#9c179e\"], [0.4444444444444444, \"#bd3786\"], [0.5555555555555556, \"#d8576b\"], [0.6666666666666666, \"#ed7953\"], [0.7777777777777778, \"#fb9f3a\"], [0.8888888888888888, \"#fdca26\"], [1.0, \"#f0f921\"]], \"type\": \"heatmapgl\"}], \"histogram\": [{\"marker\": {\"colorbar\": {\"outlinewidth\": 0, \"ticks\": \"\"}}, \"type\": \"histogram\"}], \"histogram2d\": [{\"colorbar\": {\"outlinewidth\": 0, \"ticks\": \"\"}, \"colorscale\": [[0.0, \"#0d0887\"], [0.1111111111111111, \"#46039f\"], [0.2222222222222222, \"#7201a8\"], [0.3333333333333333, \"#9c179e\"], [0.4444444444444444, \"#bd3786\"], [0.5555555555555556, \"#d8576b\"], [0.6666666666666666, \"#ed7953\"], [0.7777777777777778, \"#fb9f3a\"], [0.8888888888888888, \"#fdca26\"], [1.0, \"#f0f921\"]], \"type\": \"histogram2d\"}], \"histogram2dcontour\": [{\"colorbar\": {\"outlinewidth\": 0, \"ticks\": \"\"}, \"colorscale\": [[0.0, \"#0d0887\"], [0.1111111111111111, \"#46039f\"], [0.2222222222222222, \"#7201a8\"], [0.3333333333333333, \"#9c179e\"], [0.4444444444444444, \"#bd3786\"], [0.5555555555555556, \"#d8576b\"], [0.6666666666666666, \"#ed7953\"], [0.7777777777777778, \"#fb9f3a\"], [0.8888888888888888, \"#fdca26\"], [1.0, \"#f0f921\"]], \"type\": \"histogram2dcontour\"}], \"mesh3d\": [{\"colorbar\": {\"outlinewidth\": 0, \"ticks\": \"\"}, \"type\": \"mesh3d\"}], \"parcoords\": [{\"line\": {\"colorbar\": {\"outlinewidth\": 0, \"ticks\": \"\"}}, \"type\": \"parcoords\"}], \"pie\": [{\"automargin\": true, \"type\": \"pie\"}], \"scatter\": [{\"marker\": {\"colorbar\": {\"outlinewidth\": 0, \"ticks\": \"\"}}, \"type\": \"scatter\"}], \"scatter3d\": [{\"line\": {\"colorbar\": {\"outlinewidth\": 0, \"ticks\": \"\"}}, \"marker\": {\"colorbar\": {\"outlinewidth\": 0, \"ticks\": \"\"}}, \"type\": \"scatter3d\"}], \"scattercarpet\": [{\"marker\": {\"colorbar\": {\"outlinewidth\": 0, \"ticks\": \"\"}}, \"type\": \"scattercarpet\"}], \"scattergeo\": [{\"marker\": {\"colorbar\": {\"outlinewidth\": 0, \"ticks\": \"\"}}, \"type\": \"scattergeo\"}], \"scattergl\": [{\"marker\": {\"colorbar\": {\"outlinewidth\": 0, \"ticks\": \"\"}}, \"type\": \"scattergl\"}], \"scattermapbox\": [{\"marker\": {\"colorbar\": {\"outlinewidth\": 0, \"ticks\": \"\"}}, \"type\": \"scattermapbox\"}], \"scatterpolar\": [{\"marker\": {\"colorbar\": {\"outlinewidth\": 0, \"ticks\": \"\"}}, \"type\": \"scatterpolar\"}], \"scatterpolargl\": [{\"marker\": {\"colorbar\": {\"outlinewidth\": 0, \"ticks\": \"\"}}, \"type\": \"scatterpolargl\"}], \"scatterternary\": [{\"marker\": {\"colorbar\": {\"outlinewidth\": 0, \"ticks\": \"\"}}, \"type\": \"scatterternary\"}], \"surface\": [{\"colorbar\": {\"outlinewidth\": 0, \"ticks\": \"\"}, \"colorscale\": [[0.0, \"#0d0887\"], [0.1111111111111111, \"#46039f\"], [0.2222222222222222, \"#7201a8\"], [0.3333333333333333, \"#9c179e\"], [0.4444444444444444, \"#bd3786\"], [0.5555555555555556, \"#d8576b\"], [0.6666666666666666, \"#ed7953\"], [0.7777777777777778, \"#fb9f3a\"], [0.8888888888888888, \"#fdca26\"], [1.0, \"#f0f921\"]], \"type\": \"surface\"}], \"table\": [{\"cells\": {\"fill\": {\"color\": \"#EBF0F8\"}, \"line\": {\"color\": \"white\"}}, \"header\": {\"fill\": {\"color\": \"#C8D4E3\"}, \"line\": {\"color\": \"white\"}}, \"type\": \"table\"}]}, \"layout\": {\"annotationdefaults\": {\"arrowcolor\": \"#2a3f5f\", \"arrowhead\": 0, \"arrowwidth\": 1}, \"coloraxis\": {\"colorbar\": {\"outlinewidth\": 0, \"ticks\": \"\"}}, \"colorscale\": {\"diverging\": [[0, \"#8e0152\"], [0.1, \"#c51b7d\"], [0.2, \"#de77ae\"], [0.3, \"#f1b6da\"], [0.4, \"#fde0ef\"], [0.5, \"#f7f7f7\"], [0.6, \"#e6f5d0\"], [0.7, \"#b8e186\"], [0.8, \"#7fbc41\"], [0.9, \"#4d9221\"], [1, \"#276419\"]], \"sequential\": [[0.0, \"#0d0887\"], [0.1111111111111111, \"#46039f\"], [0.2222222222222222, \"#7201a8\"], [0.3333333333333333, \"#9c179e\"], [0.4444444444444444, \"#bd3786\"], [0.5555555555555556, \"#d8576b\"], [0.6666666666666666, \"#ed7953\"], [0.7777777777777778, \"#fb9f3a\"], [0.8888888888888888, \"#fdca26\"], [1.0, \"#f0f921\"]], \"sequentialminus\": [[0.0, \"#0d0887\"], [0.1111111111111111, \"#46039f\"], [0.2222222222222222, \"#7201a8\"], [0.3333333333333333, \"#9c179e\"], [0.4444444444444444, \"#bd3786\"], [0.5555555555555556, \"#d8576b\"], [0.6666666666666666, \"#ed7953\"], [0.7777777777777778, \"#fb9f3a\"], [0.8888888888888888, \"#fdca26\"], [1.0, \"#f0f921\"]]}, \"colorway\": [\"#636efa\", \"#EF553B\", \"#00cc96\", \"#ab63fa\", \"#FFA15A\", \"#19d3f3\", \"#FF6692\", \"#B6E880\", \"#FF97FF\", \"#FECB52\"], \"font\": {\"color\": \"#2a3f5f\"}, \"geo\": {\"bgcolor\": \"white\", \"lakecolor\": \"white\", \"landcolor\": \"#E5ECF6\", \"showlakes\": true, \"showland\": true, \"subunitcolor\": \"white\"}, \"hoverlabel\": {\"align\": \"left\"}, \"hovermode\": \"closest\", \"mapbox\": {\"style\": \"light\"}, \"paper_bgcolor\": \"white\", \"plot_bgcolor\": \"#E5ECF6\", \"polar\": {\"angularaxis\": {\"gridcolor\": \"white\", \"linecolor\": \"white\", \"ticks\": \"\"}, \"bgcolor\": \"#E5ECF6\", \"radialaxis\": {\"gridcolor\": \"white\", \"linecolor\": \"white\", \"ticks\": \"\"}}, \"scene\": {\"xaxis\": {\"backgroundcolor\": \"#E5ECF6\", \"gridcolor\": \"white\", \"gridwidth\": 2, \"linecolor\": \"white\", \"showbackground\": true, \"ticks\": \"\", \"zerolinecolor\": \"white\"}, \"yaxis\": {\"backgroundcolor\": \"#E5ECF6\", \"gridcolor\": \"white\", \"gridwidth\": 2, \"linecolor\": \"white\", \"showbackground\": true, \"ticks\": \"\", \"zerolinecolor\": \"white\"}, \"zaxis\": {\"backgroundcolor\": \"#E5ECF6\", \"gridcolor\": \"white\", \"gridwidth\": 2, \"linecolor\": \"white\", \"showbackground\": true, \"ticks\": \"\", \"zerolinecolor\": \"white\"}}, \"shapedefaults\": {\"line\": {\"color\": \"#2a3f5f\"}}, \"ternary\": {\"aaxis\": {\"gridcolor\": \"white\", \"linecolor\": \"white\", \"ticks\": \"\"}, \"baxis\": {\"gridcolor\": \"white\", \"linecolor\": \"white\", \"ticks\": \"\"}, \"bgcolor\": \"#E5ECF6\", \"caxis\": {\"gridcolor\": \"white\", \"linecolor\": \"white\", \"ticks\": \"\"}}, \"title\": {\"x\": 0.05}, \"xaxis\": {\"automargin\": true, \"gridcolor\": \"white\", \"linecolor\": \"white\", \"ticks\": \"\", \"title\": {\"standoff\": 15}, \"zerolinecolor\": \"white\", \"zerolinewidth\": 2}, \"yaxis\": {\"automargin\": true, \"gridcolor\": \"white\", \"linecolor\": \"white\", \"ticks\": \"\", \"title\": {\"standoff\": 15}, \"zerolinecolor\": \"white\", \"zerolinewidth\": 2}}}, \"xaxis\": {\"anchor\": \"y\", \"domain\": [0.0, 1.0], \"title\": {\"text\": \"year\"}, \"type\": \"log\"}, \"yaxis\": {\"anchor\": \"x\", \"domain\": [0.0, 1.0], \"title\": {\"text\": \"category_num\"}}},\n",
       "                        {\"responsive\": true}\n",
       "                    ).then(function(){\n",
       "                            \n",
       "var gd = document.getElementById('460dc1c6-b45e-4c1f-9dcb-3203ec6c17ce');\n",
       "var x = new MutationObserver(function (mutations, observer) {{\n",
       "        var display = window.getComputedStyle(gd).display;\n",
       "        if (!display || display === 'none') {{\n",
       "            console.log([gd, 'removed!']);\n",
       "            Plotly.purge(gd);\n",
       "            observer.disconnect();\n",
       "        }}\n",
       "}});\n",
       "\n",
       "// Listen for the removal of the full notebook cells\n",
       "var notebookContainer = gd.closest('#notebook-container');\n",
       "if (notebookContainer) {{\n",
       "    x.observe(notebookContainer, {childList: true});\n",
       "}}\n",
       "\n",
       "// Listen for the clearing of the current output cell\n",
       "var outputEl = gd.closest('.output');\n",
       "if (outputEl) {{\n",
       "    x.observe(outputEl, {childList: true});\n",
       "}}\n",
       "\n",
       "                        })\n",
       "                };\n",
       "                });\n",
       "            </script>\n",
       "        </div>"
      ]
     },
     "metadata": {},
     "output_type": "display_data"
    }
   ],
   "source": [
    "import plotly.express as px\n",
    "\n",
    "fig = px.scatter(firsts, x=\"year\", y=\"category_num\", log_x=True,\n",
    "                 hover_name=\"category\", hover_data=[\"accomplishment\", \"category\"])\n",
    "\n",
    "fig.show()"
   ]
  },
  {
   "attachments": {
    "newplot.png": {
     "image/png": "[encoded data removed]"
    }
   },
   "cell_type": "markdown",
   "metadata": {},
   "source": [
    "In case, you cannot see the Plotly graph, here is a .png version of it. Unfortunately, the hover feature is accessible through this image. I encourage you to import Plotly so that you can see its fascinating visualization features!\n",
    "![newplot.png](attachment:newplot.png)"
   ]
  },
  {
   "cell_type": "markdown",
   "metadata": {},
   "source": [
    "# Follow Up Questions and Exercises:\n",
    "\n",
    "### ~ What did you learn about African American firsts?\n",
    "### ~ Has this exploration of the data created any new questions you have about African American firsts?\n",
    "### ~ What are some additional relationships you could have explored with this dataset?\n",
    "\n",
    "## Challenge: Download your own dataset (.csv) and use this skeleton code to explore your data!\n",
    "    "
   ]
  }
 ],
 "metadata": {
  "kernelspec": {
   "display_name": "Python 3",
   "language": "python",
   "name": "python3"
  },
  "language_info": {
   "codemirror_mode": {
    "name": "ipython",
    "version": 3
   },
   "file_extension": ".py",
   "mimetype": "text/x-python",
   "name": "python",
   "nbconvert_exporter": "python",
   "pygments_lexer": "ipython3",
   "version": "3.7.1"
  }
 },
 "nbformat": 4,
 "nbformat_minor": 2
}
