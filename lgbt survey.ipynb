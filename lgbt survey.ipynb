{
 "cells": [
  {
   "cell_type": "code",
   "execution_count": 1,
   "metadata": {
    "collapsed": true
   },
   "outputs": [],
   "source": [
    "import seaborn as sns\n",
    "import csv\n",
    "import numpy as np\n",
    "import pandas as pd\n",
    "import matplotlib.pyplot as plt\n",
    "%matplotlib inline\n",
    "import zipfile\n",
    "from IPython.display import display, Latex, Markdown\n",
    "import plotly.express as px\n",
    "import plotly.graph_objs as go\n",
    "plt.rcParams['font.sans-serif'] = \"Comic Sans MS\"\n",
    "import warnings; warnings.simplefilter('ignore')"
   ]
  },
  {
   "cell_type": "markdown",
   "metadata": {},
   "source": [
    "## LGBT Survey on Violence and Harrassment in European Countries\n",
    "\n",
    "A survey was conducted throughout 28 European countries, asking questions about violence and harrassment. Each surveyees' sexual orientation information was also collected, so that the dataset provides illuminating information about how people's conceptions of violence and harrassment are related to their sexual orientations. To put it simply, \"can we quantify how much people who identify themselves as part of the LGBTQ+ community fear violence and harrassment?\" Provided by Kaggle, this dataset gives illuminating insight on a topic that many people take for granted. \n",
    "\n",
    "This dataset has many questions along with corresponding answers and other information, but for the purpose of this module, I have picked 3 questions. After cleaning the dataset, I have isolated each of these questions to their own dataframes and conducted a couple of visualizations. Because this is survey data, there is a lot of bias and therefore, I have not gone further than conducting basic visualizations. \n",
    "\n",
    "**This data only has information collected from people who identify as lesbian, gay, bisexual, and transgender, so I will refer to othis data as \"LGBT\", since it does not include surveyees who identify as queer. **"
   ]
  },
  {
   "cell_type": "code",
   "execution_count": 2,
   "metadata": {
    "collapsed": true
   },
   "outputs": [],
   "source": [
    "df = pd.read_csv(\"LGBT_Survey_ViolenceAndHarassment.csv\") "
   ]
  },
  {
   "cell_type": "code",
   "execution_count": 3,
   "metadata": {
    "collapsed": false
   },
   "outputs": [],
   "source": [
    "df['percentage']=df['percentage'].astype(str)\n",
    "df_cleaned = df[df['percentage']!=\":\"]\n",
    "df_cleaned = df_cleaned[df_cleaned['CountryCode']!=\"Average\"]\n",
    "df_cleaned['percentage'] = df_cleaned['percentage'].astype(int) "
   ]
  },
  {
   "cell_type": "code",
   "execution_count": 4,
   "metadata": {
    "collapsed": false
   },
   "outputs": [],
   "source": [
    "e1 = df_cleaned[df_cleaned['question_code']=='e1']"
   ]
  },
  {
   "cell_type": "markdown",
   "metadata": {},
   "source": [
    "## Which subset of the LGBT community avoids holding hands in public most in Europe?"
   ]
  },
  {
   "cell_type": "code",
   "execution_count": 5,
   "metadata": {
    "collapsed": false
   },
   "outputs": [
    {
     "data": {
      "text/html": [
       "<div>\n",
       "<style scoped>\n",
       "    .dataframe tbody tr th:only-of-type {\n",
       "        vertical-align: middle;\n",
       "    }\n",
       "\n",
       "    .dataframe tbody tr th {\n",
       "        vertical-align: top;\n",
       "    }\n",
       "\n",
       "    .dataframe thead th {\n",
       "        text-align: right;\n",
       "    }\n",
       "</style>\n",
       "<table border=\"1\" class=\"dataframe\">\n",
       "  <thead>\n",
       "    <tr style=\"text-align: right;\">\n",
       "      <th></th>\n",
       "      <th>CountryCode</th>\n",
       "      <th>subset</th>\n",
       "      <th>question_code</th>\n",
       "      <th>question_label</th>\n",
       "      <th>answer</th>\n",
       "      <th>percentage</th>\n",
       "      <th>notes</th>\n",
       "    </tr>\n",
       "  </thead>\n",
       "  <tbody>\n",
       "    <tr>\n",
       "      <th>0</th>\n",
       "      <td>Austria</td>\n",
       "      <td>Lesbian</td>\n",
       "      <td>e1</td>\n",
       "      <td>Do you avoid holding hands in public with a sa...</td>\n",
       "      <td>Yes</td>\n",
       "      <td>33</td>\n",
       "      <td>NaN</td>\n",
       "    </tr>\n",
       "    <tr>\n",
       "      <th>4</th>\n",
       "      <td>Austria</td>\n",
       "      <td>Gay</td>\n",
       "      <td>e1</td>\n",
       "      <td>Do you avoid holding hands in public with a sa...</td>\n",
       "      <td>Yes</td>\n",
       "      <td>51</td>\n",
       "      <td>NaN</td>\n",
       "    </tr>\n",
       "    <tr>\n",
       "      <th>8</th>\n",
       "      <td>Austria</td>\n",
       "      <td>Bisexual women</td>\n",
       "      <td>e1</td>\n",
       "      <td>Do you avoid holding hands in public with a sa...</td>\n",
       "      <td>Yes</td>\n",
       "      <td>18</td>\n",
       "      <td>NaN</td>\n",
       "    </tr>\n",
       "    <tr>\n",
       "      <th>12</th>\n",
       "      <td>Austria</td>\n",
       "      <td>Bisexual men</td>\n",
       "      <td>e1</td>\n",
       "      <td>Do you avoid holding hands in public with a sa...</td>\n",
       "      <td>Yes</td>\n",
       "      <td>39</td>\n",
       "      <td>NaN</td>\n",
       "    </tr>\n",
       "    <tr>\n",
       "      <th>16</th>\n",
       "      <td>Austria</td>\n",
       "      <td>Transgender</td>\n",
       "      <td>e1</td>\n",
       "      <td>Do you avoid holding hands in public with a sa...</td>\n",
       "      <td>Yes</td>\n",
       "      <td>25</td>\n",
       "      <td>NaN</td>\n",
       "    </tr>\n",
       "  </tbody>\n",
       "</table>\n",
       "</div>"
      ],
      "text/plain": [
       "   CountryCode          subset question_code  \\\n",
       "0      Austria         Lesbian            e1   \n",
       "4      Austria             Gay            e1   \n",
       "8      Austria  Bisexual women            e1   \n",
       "12     Austria    Bisexual men            e1   \n",
       "16     Austria     Transgender            e1   \n",
       "\n",
       "                                       question_label answer  percentage notes  \n",
       "0   Do you avoid holding hands in public with a sa...    Yes          33   NaN  \n",
       "4   Do you avoid holding hands in public with a sa...    Yes          51   NaN  \n",
       "8   Do you avoid holding hands in public with a sa...    Yes          18   NaN  \n",
       "12  Do you avoid holding hands in public with a sa...    Yes          39   NaN  \n",
       "16  Do you avoid holding hands in public with a sa...    Yes          25   NaN  "
      ]
     },
     "execution_count": 5,
     "metadata": {},
     "output_type": "execute_result"
    }
   ],
   "source": [
    "e1_yes = e1[e1['answer']=='Yes']\n",
    "e1_yes.head()"
   ]
  },
  {
   "cell_type": "code",
   "execution_count": 172,
   "metadata": {
    "collapsed": false
   },
   "outputs": [
    {
     "data": {
      "text/plain": [
       "<matplotlib.axes._subplots.AxesSubplot at 0x1a1c94aef0>"
      ]
     },
     "execution_count": 172,
     "metadata": {},
     "output_type": "execute_result"
    },
    {
     "data": {
      "image/png": "[encoded data removed]",
      "text/plain": [
       "<Figure size 432x288 with 1 Axes>"
      ]
     },
     "metadata": {
      "needs_background": "light"
     },
     "output_type": "display_data"
    }
   ],
   "source": [
    "plt.title(e1_yes['question_label'][0])\n",
    "sns.barplot(x=\"subset\", y=\"percentage\", data=e1_yes)"
   ]
  },
  {
   "cell_type": "markdown",
   "metadata": {},
   "source": [
    "According to this survey data, gay and bisexual men avoid holding hands the most with a same-sex partner for fear of being asaulted, threatened, or harassed."
   ]
  },
  {
   "cell_type": "markdown",
   "metadata": {},
   "source": [
    "## In which country do people fear holding hands with a same-sex partner the most?"
   ]
  },
  {
   "cell_type": "code",
   "execution_count": 6,
   "metadata": {
    "collapsed": false
   },
   "outputs": [],
   "source": [
    "e1_country = e1_yes.groupby('CountryCode').agg(np.mean).reset_index()"
   ]
  },
  {
   "cell_type": "code",
   "execution_count": 174,
   "metadata": {
    "collapsed": false
   },
   "outputs": [
    {
     "data": {
      "text/plain": [
       "<BarContainer object of 28 artists>"
      ]
     },
     "execution_count": 174,
     "metadata": {},
     "output_type": "execute_result"
    },
    {
     "data": {
      "image/png": "[encoded data removed]",
      "text/plain": [
       "<Figure size 432x288 with 1 Axes>"
      ]
     },
     "metadata": {
      "needs_background": "light"
     },
     "output_type": "display_data"
    }
   ],
   "source": [
    "plt.barh(e1_country['CountryCode'],e1_country['percentage'],align='center',height=0.8)"
   ]
  },
  {
   "cell_type": "markdown",
   "metadata": {},
   "source": [
    "According to this survey data, people in Romania and Cyprus avoid holding hands the most with a same-sex partner for fear of being asaulted, threatened, or harassed."
   ]
  },
  {
   "cell_type": "markdown",
   "metadata": {},
   "source": [
    "## Which subset of the LGBT community has been physically/sexually attacked or threatened with violence at home or elsewhere in the last 5 years in Europe?"
   ]
  },
  {
   "cell_type": "code",
   "execution_count": 176,
   "metadata": {
    "collapsed": false
   },
   "outputs": [
    {
     "data": {
      "text/plain": [
       "'In the last 5 years, have you been: physically/sexually attacked or threatened with violence at home or elsewhere (street, on public transport, at your workplace, etc) for any reason?'"
      ]
     },
     "execution_count": 176,
     "metadata": {},
     "output_type": "execute_result"
    }
   ],
   "source": [
    "f1_a = df_cleaned[df_cleaned['question_code']=='f1_a']\n",
    "f1_a_yes = f1_a[f1_a['answer']=='Yes']\n",
    "f1_a_yes['question_label'].iloc[0]"
   ]
  },
  {
   "cell_type": "code",
   "execution_count": 177,
   "metadata": {
    "collapsed": false
   },
   "outputs": [
    {
     "data": {
      "text/plain": [
       "<matplotlib.axes._subplots.AxesSubplot at 0x1a1ca04400>"
      ]
     },
     "execution_count": 177,
     "metadata": {},
     "output_type": "execute_result"
    },
    {
     "data": {
      "image/png": "[encoded data removed]",
      "text/plain": [
       "<Figure size 432x288 with 1 Axes>"
      ]
     },
     "metadata": {
      "needs_background": "light"
     },
     "output_type": "display_data"
    }
   ],
   "source": [
    "plt.title(f1_a_yes['question_label'].iloc[0])\n",
    "sns.barplot(x=\"subset\", y=\"percentage\", data=f1_a_yes)"
   ]
  },
  {
   "cell_type": "markdown",
   "metadata": {},
   "source": [
    "Close to 35% of transgender people have been attacked or threatened with violence. This is a shocking statistic from this survey data."
   ]
  },
  {
   "cell_type": "markdown",
   "metadata": {},
   "source": [
    "## In which country have people been physically/sexually attacked or threatened with violence at home or elsewhere most (by sexual orientation)?"
   ]
  },
  {
   "cell_type": "code",
   "execution_count": 178,
   "metadata": {
    "collapsed": true
   },
   "outputs": [],
   "source": [
    "f1_a_country = f1_a_yes.groupby('CountryCode').agg(np.mean).reset_index()"
   ]
  },
  {
   "cell_type": "code",
   "execution_count": 179,
   "metadata": {
    "collapsed": false
   },
   "outputs": [
    {
     "data": {
      "text/plain": [
       "<BarContainer object of 28 artists>"
      ]
     },
     "execution_count": 179,
     "metadata": {},
     "output_type": "execute_result"
    },
    {
     "data": {
      "image/png": "[encoded data removed]",
      "text/plain": [
       "<Figure size 432x288 with 1 Axes>"
      ]
     },
     "metadata": {
      "needs_background": "light"
     },
     "output_type": "display_data"
    }
   ],
   "source": [
    "plt.barh(f1_a_country['CountryCode'],f1_a_country['percentage'],align='center',height=0.8)"
   ]
  },
  {
   "cell_type": "markdown",
   "metadata": {},
   "source": [
    "The LGBT community have experienced most violence in Lithuania and Latvia."
   ]
  },
  {
   "cell_type": "markdown",
   "metadata": {},
   "source": [
    "## Which subset of the LGBT community avoids certain places most for fear of being assaulted, threatened, or harassed because they are L,G,B, or T?"
   ]
  },
  {
   "cell_type": "code",
   "execution_count": 181,
   "metadata": {
    "collapsed": false
   },
   "outputs": [
    {
     "data": {
      "text/plain": [
       "<matplotlib.axes._subplots.AxesSubplot at 0x1a18615a20>"
      ]
     },
     "execution_count": 181,
     "metadata": {},
     "output_type": "execute_result"
    },
    {
     "data": {
      "image/png": "[encoded data removed]",
      "text/plain": [
       "<Figure size 432x288 with 1 Axes>"
      ]
     },
     "metadata": {
      "needs_background": "light"
     },
     "output_type": "display_data"
    }
   ],
   "source": [
    "e2 = df_cleaned[df_cleaned['question_code']=='e2']\n",
    "e2_yes = e2[e2['answer']=='Yes']\n",
    "plt.title(e2_yes['question_label'].iloc[0])\n",
    "sns.barplot(x=\"subset\", y=\"percentage\", data=e2_yes)"
   ]
  },
  {
   "cell_type": "markdown",
   "metadata": {},
   "source": [
    "According to this survey data, gay and transgender people avoid certain places the most for fear of being assaulted, threatened, or harassed because they are L,G,B, or T."
   ]
  },
  {
   "cell_type": "markdown",
   "metadata": {},
   "source": [
    "## In which country do people avoid certain places for fear of being assualted because they are LGBT the most?"
   ]
  },
  {
   "cell_type": "code",
   "execution_count": 182,
   "metadata": {
    "collapsed": true
   },
   "outputs": [],
   "source": [
    "e2_country = e2_yes.groupby('CountryCode').agg(np.mean).reset_index()"
   ]
  },
  {
   "cell_type": "code",
   "execution_count": 183,
   "metadata": {
    "collapsed": false
   },
   "outputs": [
    {
     "data": {
      "text/plain": [
       "<BarContainer object of 28 artists>"
      ]
     },
     "execution_count": 183,
     "metadata": {},
     "output_type": "execute_result"
    },
    {
     "data": {
      "image/png": "[encoded data removed]",
      "text/plain": [
       "<Figure size 432x288 with 1 Axes>"
      ]
     },
     "metadata": {
      "needs_background": "light"
     },
     "output_type": "display_data"
    }
   ],
   "source": [
    "plt.barh(e2_country['CountryCode'],e2_country['percentage'],align='center',height=0.8)"
   ]
  },
  {
   "cell_type": "markdown",
   "metadata": {},
   "source": [
    "The LGBT communities in Hungary and Lithuania avoid certain places for fear of being assaulted due to being LGBT the most."
   ]
  },
  {
   "cell_type": "markdown",
   "metadata": {},
   "source": [
    "## Follow Up Questions\n",
    "#### What are the limitations of survey data?\n",
    "#### What types of bias have occurred because of the way this data was collection?\n",
    "#### What is the value of surveys?\n",
    "#### What sort of questions are you inspired to research after seeing some of these visualizations?"
   ]
  },
  {
   "cell_type": "markdown",
   "metadata": {},
   "source": [
    "## In case you are interested in seeing all the questions asked in this survey! \n",
    "## Challenge: Pick a question that was not explored in this dataset and conduct these visualizations!"
   ]
  },
  {
   "cell_type": "code",
   "execution_count": 9,
   "metadata": {
    "collapsed": false
   },
   "outputs": [
    {
     "data": {
      "text/html": [
       "<div>\n",
       "<style scoped>\n",
       "    .dataframe tbody tr th:only-of-type {\n",
       "        vertical-align: middle;\n",
       "    }\n",
       "\n",
       "    .dataframe tbody tr th {\n",
       "        vertical-align: top;\n",
       "    }\n",
       "\n",
       "    .dataframe thead th {\n",
       "        text-align: right;\n",
       "    }\n",
       "</style>\n",
       "<table border=\"1\" class=\"dataframe\">\n",
       "  <thead>\n",
       "    <tr style=\"text-align: right;\">\n",
       "      <th></th>\n",
       "      <th></th>\n",
       "    </tr>\n",
       "    <tr>\n",
       "      <th>question_label</th>\n",
       "      <th>question_code</th>\n",
       "    </tr>\n",
       "  </thead>\n",
       "  <tbody>\n",
       "    <tr>\n",
       "      <th>Did you or anyone else report the last incident of physical / sexual attack or threat of violence to any of the following organisations / institutions? *</th>\n",
       "      <th>fa1_13</th>\n",
       "    </tr>\n",
       "    <tr>\n",
       "      <th>Did you or anyone else report the last incident of physical / sexual attack or threat of violence to the police?</th>\n",
       "      <th>fa1_11</th>\n",
       "    </tr>\n",
       "    <tr>\n",
       "      <th>Do you avoid certain places or locations for fear of being assaulted, threatened or harassed because you are L, G, B or T?</th>\n",
       "      <th>e2</th>\n",
       "    </tr>\n",
       "    <tr>\n",
       "      <th>Do you avoid holding hands in public with a same-sex partner for fear of being assaulted, threatened of harassed?</th>\n",
       "      <th>e1</th>\n",
       "    </tr>\n",
       "    <tr>\n",
       "      <th>Do you think the LAST incident of harassment in the past 12 months happened partly or completely because you were perceived to be L, G, B or T?</th>\n",
       "      <th>fb1_5</th>\n",
       "    </tr>\n",
       "    <tr>\n",
       "      <th>Do you think the LAST incident of physical / sexual attack or threat of violence in the past 12 months happened partly or completely because you were perceived to be L, G, B or T?</th>\n",
       "      <th>fa1_5</th>\n",
       "    </tr>\n",
       "    <tr>\n",
       "      <th>Do you think the MOST SERIOUS incident of harassment happened partly or completely because you were perceived to be L, G, B or T?</th>\n",
       "      <th>fb2_5</th>\n",
       "    </tr>\n",
       "    <tr>\n",
       "      <th>Do you think this physical / sexual attack or threat happened partly or completely because you were perceived to be L, G, B or T?</th>\n",
       "      <th>fa2_5</th>\n",
       "    </tr>\n",
       "    <tr>\n",
       "      <th>How many times did somebody harass you in the last 12 months?</th>\n",
       "      <th>fb1_3</th>\n",
       "    </tr>\n",
       "    <tr>\n",
       "      <th>How many times did somebody physically/sexually attack or threaten you with violence in the last 12 months in the European Union / in this country?</th>\n",
       "      <th>fa1_3</th>\n",
       "    </tr>\n",
       "    <tr>\n",
       "      <th>In the last 5 years, have you been: personally harassed by someone or a group for any reason in a way that really annoyed, offended or upset you - either at work, home, on the street, on public transport, in a shop, in an office or on the internet ?</th>\n",
       "      <th>f1_b</th>\n",
       "    </tr>\n",
       "    <tr>\n",
       "      <th>In the last 5 years, have you been: physically/sexually attacked or threatened with violence at home or elsewhere (street, on public transport, at your workplace, etc) for any reason?</th>\n",
       "      <th>f1_a</th>\n",
       "    </tr>\n",
       "    <tr>\n",
       "      <th>LAST incident of harassment in the past 12 months - Did you or anyone else report it to any of the following organisations / institutions? *</th>\n",
       "      <th>fb1_13</th>\n",
       "    </tr>\n",
       "    <tr>\n",
       "      <th>LAST incident of harassment in the past 12 months - Did you or anyone else report it to the police?</th>\n",
       "      <th>fb1_11</th>\n",
       "    </tr>\n",
       "    <tr>\n",
       "      <th>LAST incident of harassment in the past 12 months - Do you think the perpetrator(s) was ...? (sexual orientation)</th>\n",
       "      <th>fb1_9</th>\n",
       "    </tr>\n",
       "    <tr>\n",
       "      <th>LAST incident of harassment in the past 12 months - Was the perpetrator alone, or was there more than one perpetrator?</th>\n",
       "      <th>fb1_6</th>\n",
       "    </tr>\n",
       "    <tr>\n",
       "      <th>LAST incident of harassment in the past 12 months - What was the gender of the perpetrator(s)?</th>\n",
       "      <th>fb1_8</th>\n",
       "    </tr>\n",
       "    <tr>\n",
       "      <th>LAST incident of harassment in the past 12 months - Where did it happen?</th>\n",
       "      <th>fb1_10</th>\n",
       "    </tr>\n",
       "    <tr>\n",
       "      <th>LAST incident of harassment in the past 12 months - Why did you not report it to the police?</th>\n",
       "      <th>fb1_12</th>\n",
       "    </tr>\n",
       "    <tr>\n",
       "      <th>LAST incident of harassment in the past 12 months - who was the perpetrator?</th>\n",
       "      <th>fb1_7</th>\n",
       "    </tr>\n",
       "    <tr>\n",
       "      <th>LAST incident of physical / sexual attack or threat of violence in the past 12 months - What do you think the perpetrator(s) was? *</th>\n",
       "      <th>fa1_9</th>\n",
       "    </tr>\n",
       "    <tr>\n",
       "      <th>LAST incident of physical / sexual attack or threat of violence in the past 12 months - What was the gender of the perpetrator(s)?</th>\n",
       "      <th>fa1_8</th>\n",
       "    </tr>\n",
       "    <tr>\n",
       "      <th>LAST incident of physical / sexual attack or threat of violence in the past 12 months - who was the perpetrator?</th>\n",
       "      <th>fa1_7</th>\n",
       "    </tr>\n",
       "    <tr>\n",
       "      <th>MOST SERIOUS incident of harassment - Did you or anyone else report it to any of the following organisations / institutions? *</th>\n",
       "      <th>fb2_13</th>\n",
       "    </tr>\n",
       "    <tr>\n",
       "      <th>MOST SERIOUS incident of harassment - Did you or anyone else report it to the police?</th>\n",
       "      <th>fb2_11</th>\n",
       "    </tr>\n",
       "    <tr>\n",
       "      <th>MOST SERIOUS incident of harassment - Do you think the perpetrator(s) was ...? (sexual orientation)</th>\n",
       "      <th>fb2_9</th>\n",
       "    </tr>\n",
       "    <tr>\n",
       "      <th>MOST SERIOUS incident of harassment - Was the perpetrator alone, or was there more than one perpetrator?</th>\n",
       "      <th>fb2_6</th>\n",
       "    </tr>\n",
       "    <tr>\n",
       "      <th>MOST SERIOUS incident of harassment - What was the gender of the perpetrator(s)?</th>\n",
       "      <th>fb2_8</th>\n",
       "    </tr>\n",
       "    <tr>\n",
       "      <th>MOST SERIOUS incident of harassment - Where did it happen?</th>\n",
       "      <th>fb2_10</th>\n",
       "    </tr>\n",
       "    <tr>\n",
       "      <th>MOST SERIOUS incident of harassment - Why did you not report it to the police?</th>\n",
       "      <th>fb2_12</th>\n",
       "    </tr>\n",
       "    <tr>\n",
       "      <th>MOST SERIOUS incident of harassment - who was the perpetrator?</th>\n",
       "      <th>fb2_7</th>\n",
       "    </tr>\n",
       "    <tr>\n",
       "      <th>MOST SERIOUS physical / sexual attack or threat of violence - Did you or anyone else report it to any of the following organisations / institutions? *</th>\n",
       "      <th>fa2_13</th>\n",
       "    </tr>\n",
       "    <tr>\n",
       "      <th>MOST SERIOUS physical / sexual attack or threat of violence - Did you or anyone else report it to the police?</th>\n",
       "      <th>fa2_11</th>\n",
       "    </tr>\n",
       "    <tr>\n",
       "      <th>MOST SERIOUS physical / sexual attack or threat of violence - Do you think the perpetrator(s) was? (sexual orientation)</th>\n",
       "      <th>fa2_9</th>\n",
       "    </tr>\n",
       "    <tr>\n",
       "      <th>MOST SERIOUS physical / sexual attack or threat of violence - Do you think the perpetrator(s) was? *</th>\n",
       "      <th>fa2_7</th>\n",
       "    </tr>\n",
       "    <tr>\n",
       "      <th>MOST SERIOUS physical / sexual attack or threat of violence - Was the perpetrator alone, or was there more than one perpetrator?</th>\n",
       "      <th>fa2_6</th>\n",
       "    </tr>\n",
       "    <tr>\n",
       "      <th>MOST SERIOUS physical / sexual attack or threat of violence - What was the gender of the perpetrator(s)?</th>\n",
       "      <th>fa2_8</th>\n",
       "    </tr>\n",
       "    <tr>\n",
       "      <th>MOST SERIOUS physical / sexual attack or threat of violence - Why did you not report it to the police?</th>\n",
       "      <th>fa2_12</th>\n",
       "    </tr>\n",
       "    <tr>\n",
       "      <th>The MOST SERIOUS physical / sexual attack or threat of violence - Where did it happen?</th>\n",
       "      <th>fa2_10</th>\n",
       "    </tr>\n",
       "    <tr>\n",
       "      <th>Thinking about the LAST incident of harassment, what happened to you: *</th>\n",
       "      <th>fb1_4</th>\n",
       "    </tr>\n",
       "    <tr>\n",
       "      <th>Thinking about the LAST physical / sexual attack or threat of violence, what happened to you? *</th>\n",
       "      <th>fa1_4</th>\n",
       "    </tr>\n",
       "    <tr>\n",
       "      <th>Thinking about the MOST SERIOUS incident of harassment, what happened to you? *</th>\n",
       "      <th>fb2_4</th>\n",
       "    </tr>\n",
       "    <tr>\n",
       "      <th>Thinking about the MOST SERIOUS physical / sexual attack or threat of violence, what happened to you? *</th>\n",
       "      <th>fa2_4</th>\n",
       "    </tr>\n",
       "    <tr>\n",
       "      <th>Was the perpetrator alone, or was there more than one perpetrator?</th>\n",
       "      <th>fa1_6</th>\n",
       "    </tr>\n",
       "    <tr>\n",
       "      <th>Where did the last incident of physical / sexual attack or threat of violence happen?</th>\n",
       "      <th>fa1_10</th>\n",
       "    </tr>\n",
       "    <tr>\n",
       "      <th>Where do you avoid being open about yourself as L, G, B or T for fear of being assaulted, threatened or harassed by others?</th>\n",
       "      <th>e3</th>\n",
       "    </tr>\n",
       "    <tr>\n",
       "      <th>Why did you not report the last incident of physical / sexual attack or threat of violence to the police?</th>\n",
       "      <th>fa1_12</th>\n",
       "    </tr>\n",
       "  </tbody>\n",
       "</table>\n",
       "</div>"
      ],
      "text/plain": [
       "Empty DataFrame\n",
       "Columns: []\n",
       "Index: [(Did you or anyone else report the last incident of physical / sexual attack or threat of violence to any of the following organisations / institutions? *, fa1_13), (Did you or anyone else report the last incident of physical / sexual attack or threat of violence to the police?, fa1_11), (Do you avoid certain places or locations for fear of being assaulted, threatened or harassed because you are L, G, B or T?, e2), (Do you avoid holding hands in public with a same-sex partner for fear of being assaulted, threatened of harassed?, e1), (Do you think the LAST incident of harassment in the past 12 months happened partly or completely because you were perceived to be L, G, B or T?, fb1_5), (Do you think the LAST incident of physical / sexual attack or threat of violence in the past 12 months happened partly or completely because you were perceived to be L, G, B or T?, fa1_5), (Do you think the MOST SERIOUS incident of harassment happened partly or completely because you were perceived to be L, G, B or T?, fb2_5), (Do you think this physical / sexual attack or threat happened partly or completely because you were perceived to be L, G, B or T?, fa2_5), (How many times did somebody harass you in the last 12 months?, fb1_3), (How many times did somebody physically/sexually attack or threaten you with violence in the last 12 months in the European Union / in this country?, fa1_3), (In the last 5 years, have you been: personally harassed by someone or a group for any reason in a way that really annoyed, offended or upset you - either at work, home, on the street, on public transport, in a shop, in an office or on the internet ?, f1_b), (In the last 5 years, have you been: physically/sexually attacked or threatened with violence at home or elsewhere (street, on public transport, at your workplace, etc) for any reason?, f1_a), (LAST incident of harassment in the past 12 months - Did you or anyone else report it to any of the following organisations / institutions? *, fb1_13), (LAST incident of harassment in the past 12 months - Did you or anyone else report it to the police?, fb1_11), (LAST incident of harassment in the past 12 months - Do you think the perpetrator(s) was ...? (sexual orientation), fb1_9), (LAST incident of harassment in the past 12 months - Was the perpetrator alone, or was there more than one perpetrator?, fb1_6), (LAST incident of harassment in the past 12 months - What was the gender of the perpetrator(s)?, fb1_8), (LAST incident of harassment in the past 12 months - Where did it happen?, fb1_10), (LAST incident of harassment in the past 12 months - Why did you not report it to the police?, fb1_12), (LAST incident of harassment in the past 12 months - who was the perpetrator?, fb1_7), (LAST incident of physical / sexual attack or threat of violence in the past 12 months - What do you think the perpetrator(s) was? *, fa1_9), (LAST incident of physical / sexual attack or threat of violence in the past 12 months - What was the gender of the perpetrator(s)?, fa1_8), (LAST incident of physical / sexual attack or threat of violence in the past 12 months - who was the perpetrator?, fa1_7), (MOST SERIOUS incident of harassment - Did you or anyone else report it to any of the following organisations / institutions? *, fb2_13), (MOST SERIOUS incident of harassment - Did you or anyone else report it to the police?, fb2_11), (MOST SERIOUS incident of harassment - Do you think the perpetrator(s) was ...? (sexual orientation), fb2_9), (MOST SERIOUS incident of harassment - Was the perpetrator alone, or was there more than one perpetrator?, fb2_6), (MOST SERIOUS incident of harassment - What was the gender of the perpetrator(s)?, fb2_8), (MOST SERIOUS incident of harassment - Where did it happen?, fb2_10), (MOST SERIOUS incident of harassment - Why did you not report it to the police?, fb2_12), (MOST SERIOUS incident of harassment - who was the perpetrator?, fb2_7), (MOST SERIOUS physical / sexual attack or threat of violence - Did you or anyone else report it to any of the following organisations / institutions? *, fa2_13), (MOST SERIOUS physical / sexual attack or threat of violence - Did you or anyone else report it to the police?, fa2_11), (MOST SERIOUS physical / sexual attack or threat of violence - Do you think the perpetrator(s) was? (sexual orientation), fa2_9), (MOST SERIOUS physical / sexual attack or threat of violence - Do you think the perpetrator(s) was? *, fa2_7), (MOST SERIOUS physical / sexual attack or threat of violence - Was the perpetrator alone, or was there more than one perpetrator?, fa2_6), (MOST SERIOUS physical / sexual attack or threat of violence - What was the gender of the perpetrator(s)?, fa2_8), (MOST SERIOUS physical / sexual attack or threat of violence - Why did you not report it to the police?, fa2_12), (The MOST SERIOUS physical / sexual attack or threat of violence - Where did it happen?, fa2_10), (Thinking about the LAST incident of harassment, what happened to you: *, fb1_4), (Thinking about the LAST physical / sexual attack or threat of violence, what happened to you? *, fa1_4), (Thinking about the MOST SERIOUS incident of harassment, what happened to you? *, fb2_4), (Thinking about the MOST SERIOUS physical / sexual attack or threat of violence, what happened to you? *, fa2_4), (Was the perpetrator alone, or was there more than one perpetrator?, fa1_6), (Where did the last incident of physical / sexual attack or threat of violence happen?, fa1_10), (Where do you avoid being open about yourself as L, G, B or T for fear of being assaulted, threatened or harassed by others?, e3), (Why did you not report the last incident of physical / sexual attack or threat of violence to the police?, fa1_12)]"
      ]
     },
     "execution_count": 9,
     "metadata": {},
     "output_type": "execute_result"
    }
   ],
   "source": [
    "df_cleaned.groupby(['question_label','question_code']).count().drop(['CountryCode','subset','answer','percentage','notes'],axis=1)"
   ]
  }
 ],
 "metadata": {
  "kernelspec": {
   "display_name": "Python 3",
   "language": "python",
   "name": "python3"
  },
  "language_info": {
   "codemirror_mode": {
    "name": "ipython",
    "version": 3
   },
   "file_extension": ".py",
   "mimetype": "text/x-python",
   "name": "python",
   "nbconvert_exporter": "python",
   "pygments_lexer": "ipython3",
   "version": "3.7.1"
  }
 },
 "nbformat": 4,
 "nbformat_minor": 2
}
